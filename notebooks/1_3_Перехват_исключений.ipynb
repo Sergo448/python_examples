{
 "cells": [
  {
   "cell_type": "markdown",
   "id": "9c3a258a-9a38-40cb-8911-9e5ecf8820d2",
   "metadata": {},
   "source": [
    "# **Конструкция `try-except-finally` в Python: теоретический анализ**"
   ]
  },
  {
   "cell_type": "code",
   "execution_count": 1,
   "id": "8e5b7c3b-5aeb-43da-a2ed-20f66176a48c",
   "metadata": {},
   "outputs": [],
   "source": [
    "## **1. Введение и назначение**\n",
    "\n",
    "# Конструкция `try-except-finally` в Python реализует механизм **обработки исключений** и управления ресурсами. Её ключевые функции:\n",
    "\n",
    "# - **`try`**: Определяет блок кода, в котором могут возникнуть исключения.\n",
    "# - **`except`**: Обрабатывает исключения, если они произошли.\n",
    "# - **`finally`**: Гарантированно выполняется **в любом случае** (даже при исключении или принудительном выходе).\n",
    "\n",
    "# Теоретически, это реализация **идиомы RAII (Resource Acquisition Is Initialization)** для управления ресурсами.\n",
    "\n",
    "# ---"
   ]
  },
  {
   "cell_type": "code",
   "execution_count": null,
   "id": "baeceecc-b0e0-41f4-a58e-6e537e0e6ecb",
   "metadata": {},
   "outputs": [],
   "source": [
    "## **2. Базовый синтаксис**\n",
    "\n",
    "# ```python\n",
    "try:\n",
    "    # Код, который может вызвать исключение\n",
    "    risky_operation()\n",
    "except SomeException as e:\n",
    "    # Обработка конкретного исключения\n",
    "    handle_error(e)\n",
    "finally:\n",
    "    # Код, выполняемый всегда\n",
    "    cleanup_resources()\n",
    "# ```\n",
    "\n",
    "# ---"
   ]
  },
  {
   "cell_type": "code",
   "execution_count": null,
   "id": "715d3a76-cdaa-414f-8213-cfc711d8db85",
   "metadata": {},
   "outputs": [],
   "source": [
    "## **3. Теоретические аспекты `try-except`**\n",
    "\n",
    "### **a. Иерархия исключений**\n",
    "# Python использует **иерархию классов исключений** (наследование от `BaseException`). Пример:\n",
    "# ```\n",
    "# BaseException\n",
    "#  ├── KeyboardInterrupt\n",
    "#  ├── SystemExit\n",
    "#  └── Exception\n",
    "#       ├── ValueError\n",
    "#       ├── TypeError\n",
    "#       └── ...\n",
    "# ```\n",
    "\n",
    "### **b. Механизм обработки**\n",
    "# 1. При возникновении исключения в `try`, Python ищет **первый подходящий `except`** (сверху вниз).\n",
    "# 2. Если исключение не перехвачено, оно передаётся **выше по стеку вызовов**.\n",
    "# 3. Можно перехватывать несколько исключений:\n",
    "#    ```python\n",
    "#    except (ValueError, TypeError) as e:\n",
    "#    ```\n",
    "\n",
    "### **c. Блок `else` (дополнительно)**\n",
    "# Выполняется **только если исключения не было**:\n",
    "# ```python\n",
    "# try:\n",
    "#     operation()\n",
    "# except Exception:\n",
    "#     handle_error()\n",
    "# else:\n",
    "#     print(\"Успешно!\")\n",
    "# ```\n",
    "\n",
    "# ---"
   ]
  },
  {
   "cell_type": "code",
   "execution_count": 2,
   "id": "d7cad437-134b-49f7-b959-05e947825d97",
   "metadata": {},
   "outputs": [
    {
     "name": "stdout",
     "output_type": "stream",
     "text": [
      "finally выполнен\n",
      "from finally\n"
     ]
    }
   ],
   "source": [
    "## **4. Теоретические аспекты `finally`**\n",
    "\n",
    "### **a. Гарантии выполнения**\n",
    "# Блок `finally` выполняется **всегда**, независимо от:\n",
    "# - Нормального завершения `try`.\n",
    "# - Возникновения исключения в `try` или `except`.\n",
    "# - Использования `return`, `break` или `continue` внутри `try`/`except`.\n",
    "\n",
    "### **b. Порядок выполнения**\n",
    "# 1. Сначала выполняются `try` → `except` (если нужно).\n",
    "# 2. Затем **обязательно** `finally`.\n",
    "# 3. Только после этого:\n",
    "#    - Возвращается результат (если был `return`).\n",
    "#    - Возбуждается необработанное исключение.\n",
    "\n",
    "### **c. Пример с `return`**\n",
    "# ```python\n",
    "def test():\n",
    "    try:\n",
    "        return \"from try\"\n",
    "    finally:\n",
    "        print(\"finally выполнен\")\n",
    "        # Возвращаемое значение перезаписывается!\n",
    "        return \"from finally\"\n",
    "\n",
    "print(test())  # Вывод: \"finally выполнен\", затем \"from finally\"\n",
    "# ```\n",
    "\n",
    "# ---"
   ]
  },
  {
   "cell_type": "code",
   "execution_count": 3,
   "id": "f4534a06-36f8-4f03-9dea-c8912408db62",
   "metadata": {
    "collapsed": true,
    "jupyter": {
     "outputs_hidden": true
    },
    "scrolled": true
   },
   "outputs": [
    {
     "ename": "SyntaxError",
     "evalue": "invalid syntax (636404785.py, line 16)",
     "output_type": "error",
     "traceback": [
      "\u001b[1;36m  Cell \u001b[1;32mIn[3], line 16\u001b[1;36m\u001b[0m\n\u001b[1;33m    except Exception as e:\u001b[0m\n\u001b[1;37m    ^\u001b[0m\n\u001b[1;31mSyntaxError\u001b[0m\u001b[1;31m:\u001b[0m invalid syntax\n"
     ]
    }
   ],
   "source": [
    "## **5. Теория обработки исключений**\n",
    "\n",
    "### **a. Подавление исключений**\n",
    "# Если в `finally` возникает новое исключение, оно **заменяет** исходное:\n",
    "# ```python\n",
    "try:\n",
    "    1 / 0\n",
    "finally:\n",
    "    raise ValueError(\"Новое исключение\")\n",
    "# Будет вызвано только ValueError!\n",
    "# ```\n",
    "\n",
    "### **b. Повторное возбуждение исключений**\n",
    "# В `except` можно повторно возбудить исключение через `raise`:\n",
    "# ```python\n",
    "except Exception as e:\n",
    "    print(f\"Ошибка: {e}\")\n",
    "    raise  # Передаёт исключение дальше\n",
    "# ```\n",
    "\n",
    "### **c. Локальность исключений**\n",
    "# Исключение существует **только внутри `except`**:\n",
    "# ```python\n",
    "try:\n",
    "    risky_op()\n",
    "except ValueError as e:\n",
    "    print(e)  # Доступно\n",
    "print(e)  # Ошибка! Переменная e не определена\n",
    "# ```\n",
    "\n",
    "# ---"
   ]
  },
  {
   "cell_type": "code",
   "execution_count": 4,
   "id": "7691e184-6619-4246-963e-706a727c68dd",
   "metadata": {},
   "outputs": [],
   "source": [
    "## **6. Сравнение с другими языками**\n",
    "\n",
    "# | Особенность            | Python               | Java/C++           |\n",
    "# |------------------------|----------------------|--------------------|\n",
    "# | Синтаксис              | `try-except-finally` | `try-catch-finally`|\n",
    "# | Блок `else`            | Есть                 | Нет                |\n",
    "# | Исключения             | Классы               | Классы/примитивы   |\n",
    "# | Обязательность `catch` | Нет                  | Да (в Java)        |\n",
    "\n",
    "# ---"
   ]
  },
  {
   "cell_type": "code",
   "execution_count": 5,
   "id": "7569b727-6c3e-4477-91c4-6b44961e6550",
   "metadata": {
    "collapsed": true,
    "jupyter": {
     "outputs_hidden": true
    }
   },
   "outputs": [
    {
     "ename": "NameError",
     "evalue": "name 'h' is not defined",
     "output_type": "error",
     "traceback": [
      "\u001b[1;31m---------------------------------------------------------------------------\u001b[0m",
      "\u001b[1;31mNameError\u001b[0m                                 Traceback (most recent call last)",
      "Cell \u001b[1;32mIn[5], line 6\u001b[0m\n\u001b[0;32m      5\u001b[0m \u001b[38;5;28;01mtry\u001b[39;00m:\n\u001b[1;32m----> 6\u001b[0m     f(x)\n\u001b[0;32m      7\u001b[0m \u001b[38;5;28;01mexcept\u001b[39;00m E \u001b[38;5;28;01mas\u001b[39;00m e:\n",
      "\u001b[1;31mNameError\u001b[0m: name 'f' is not defined",
      "\nDuring handling of the above exception, another exception occurred:\n",
      "\u001b[1;31mNameError\u001b[0m                                 Traceback (most recent call last)",
      "Cell \u001b[1;32mIn[5], line 7\u001b[0m\n\u001b[0;32m      6\u001b[0m     f(x)\n\u001b[1;32m----> 7\u001b[0m \u001b[38;5;28;01mexcept\u001b[39;00m E \u001b[38;5;28;01mas\u001b[39;00m e:\n\u001b[0;32m      8\u001b[0m     g(e)\n",
      "\u001b[1;31mNameError\u001b[0m: name 'E' is not defined",
      "\nDuring handling of the above exception, another exception occurred:\n",
      "\u001b[1;31mNameError\u001b[0m                                 Traceback (most recent call last)",
      "Cell \u001b[1;32mIn[5], line 10\u001b[0m\n\u001b[0;32m      8\u001b[0m     g(e)\n\u001b[0;32m      9\u001b[0m \u001b[38;5;28;01mfinally\u001b[39;00m:\n\u001b[1;32m---> 10\u001b[0m     h()\n\u001b[0;32m     11\u001b[0m \u001b[38;5;66;03m# ```\u001b[39;00m\n\u001b[0;32m     12\u001b[0m \u001b[38;5;66;03m# Эквивалентно:\u001b[39;00m\n\u001b[0;32m     13\u001b[0m \u001b[38;5;66;03m# ```\u001b[39;00m\n\u001b[0;32m     14\u001b[0m result \u001b[38;5;241m=\u001b[39m \u001b[38;5;28;01mNone\u001b[39;00m\n",
      "\u001b[1;31mNameError\u001b[0m: name 'h' is not defined"
     ]
    }
   ],
   "source": [
    "## **7. Математическая модель**\n",
    "\n",
    "# Конструкцию можно представить как **функцию высшего порядка**:\n",
    "# ```\n",
    "try:\n",
    "    f(x)\n",
    "except E as e:\n",
    "    g(e)\n",
    "finally:\n",
    "    h()\n",
    "# ```\n",
    "# Эквивалентно:\n",
    "# ```\n",
    "result = None\n",
    "exc = None\n",
    "try:\n",
    "    result = f(x)\n",
    "except E as e:\n",
    "    exc = e\n",
    "    g(e)\n",
    "finally:\n",
    "    h()\n",
    "if exc:\n",
    "    raise exc\n",
    "return result\n",
    "# ```\n",
    "\n",
    "# ---"
   ]
  },
  {
   "cell_type": "code",
   "execution_count": null,
   "id": "014f331b-1c67-45a0-a050-effe0191675f",
   "metadata": {},
   "outputs": [],
   "source": [
    "## **8. Ограничения**\n",
    "\n",
    "# 1. **Производительность**: Обработка исключений медленнее условных проверок.\n",
    "# 2. **Читаемость**: Избыточные `try-except` усложняют код.\n",
    "# 3. **Не все ошибки перехватываются**: Например, `SyntaxError` нельзя обработать.\n",
    "\n",
    "# ---"
   ]
  },
  {
   "cell_type": "code",
   "execution_count": null,
   "id": "bc5464d5-b4bc-4b2c-a349-918529e67bb9",
   "metadata": {},
   "outputs": [],
   "source": [
    "## **Заключение**\n",
    "\n",
    "# Конструкция `try-except-finally` в Python — это:\n",
    "# - **Универсальный инструмент** для обработки ошибок.\n",
    "# - **Гарантия безопасности** ресурсов через `finally`.\n",
    "# - **Гибкость** за счёт иерархии исключений и блоков `else`.\n",
    "\n",
    "# Её понимание критично для написания **надёжного** и **предсказуемого** кода, \n",
    "# особенно при работе с внешними ресурсами или сложной бизнес-логикой."
   ]
  },
  {
   "cell_type": "markdown",
   "id": "837dd9e7-f7d2-407c-ba6d-ce5e017b7b51",
   "metadata": {},
   "source": [
    "# **Обработка ошибок в Python: Практическое руководство по `try-except-finally`**  "
   ]
  },
  {
   "cell_type": "code",
   "execution_count": 6,
   "id": "fd36cdc8-a8d4-4f77-bfcb-d6644d220713",
   "metadata": {},
   "outputs": [],
   "source": [
    "# Конструкции `try-except-finally` — мощный инструмент Python для обработки исключений и управления ресурсами. Они помогают:  \n",
    "# ✔ **Предотвращать аварийное завершение программы** при ошибках,  \n",
    "# ✔ **Грамотно обрабатывать исключительные ситуации**,  \n",
    "# ✔ **Гарантированно освобождать ресурсы** (файлы, соединения и т. д.).  \n",
    "\n",
    "# В этой статье разберём **реальные примеры** использования `try-except-finally` в разных сценариях.  \n",
    "\n",
    "# ---"
   ]
  },
  {
   "cell_type": "code",
   "execution_count": 7,
   "id": "3821a6c8-a9e7-455c-8015-52c32b677a6c",
   "metadata": {},
   "outputs": [
    {
     "name": "stdout",
     "output_type": "stream",
     "text": [
      "Ошибка: деление на ноль!\n",
      "Программа завершила работу\n"
     ]
    }
   ],
   "source": [
    "## 🔹 **1. Базовый синтаксис**  \n",
    "\n",
    "# ```python\n",
    "try:\n",
    "    # Код, который может вызвать ошибку\n",
    "    result = 10 / 0\n",
    "except ZeroDivisionError:\n",
    "    # Обработка исключения\n",
    "    print(\"Ошибка: деление на ноль!\")\n",
    "finally:\n",
    "    # Код, который выполнится в любом случае\n",
    "    print(\"Программа завершила работу\")\n",
    "# ```\n",
    "\n",
    "# - **`try`** — выполняет код, который может вызвать исключение.  \n",
    "# - **`except`** — ловит конкретную ошибку (можно несколько блоков).  \n",
    "# - **`finally`** — выполняется **всегда**, даже если было исключение.  \n",
    "\n",
    "# ---"
   ]
  },
  {
   "cell_type": "code",
   "execution_count": 8,
   "id": "7227c1b0-1643-4e36-9058-a93e44a85b2a",
   "metadata": {},
   "outputs": [
    {
     "name": "stdin",
     "output_type": "stream",
     "text": [
      "Сколько вам лет?  12\n"
     ]
    },
    {
     "name": "stdout",
     "output_type": "stream",
     "text": [
      "Вам 12 лет!\n",
      "--- Конец ввода ---\n"
     ]
    }
   ],
   "source": [
    "## 🔥 **2. Практические примеры**  \n",
    "\n",
    "### **📌 1. Обработка ввода пользователя**  \n",
    "# **Проблема:** Пользователь может ввести не число, и программа упадёт.  \n",
    "# **Решение:** Используем `try-except` для безопасного ввода.  \n",
    "\n",
    "# ```python\n",
    "while True:\n",
    "    try:\n",
    "        age = int(input(\"Сколько вам лет? \"))\n",
    "        print(f\"Вам {age} лет!\")\n",
    "        break\n",
    "    except ValueError:\n",
    "        print(\"Это не число! Попробуйте ещё раз.\")\n",
    "    finally:\n",
    "        print(\"--- Конец ввода ---\")\n",
    "# ```"
   ]
  },
  {
   "cell_type": "code",
   "execution_count": 10,
   "id": "5473d037-3d8e-41a4-a367-a5299362b81b",
   "metadata": {},
   "outputs": [
    {
     "name": "stdout",
     "output_type": "stream",
     "text": [
      "Файл не найден!\n",
      "Файл не найден!\n"
     ]
    }
   ],
   "source": [
    "### **📌 2. Работа с файлами (гарантированное закрытие)**  \n",
    "# **Проблема:** Если файл не закрыть, могут быть утечки ресурсов.  \n",
    "# **Решение:** `finally` гарантирует закрытие файла.  \n",
    "\n",
    "# ```python\n",
    "file = None\n",
    "try:\n",
    "    file = open(\"data.txt\", \"r\")\n",
    "    content = file.read()\n",
    "    print(content)\n",
    "except FileNotFoundError:\n",
    "    print(\"Файл не найден!\")\n",
    "finally:\n",
    "    if file:\n",
    "        file.close()  # Закрываем файл в любом случае\n",
    "# ```\n",
    "\n",
    "# **Современный вариант (с `with`):**  \n",
    "# ```python\n",
    "try:\n",
    "    with open(\"data.txt\", \"r\") as file:  # Автоматически закроется\n",
    "        print(file.read())\n",
    "except FileNotFoundError:\n",
    "    print(\"Файл не найден!\")\n",
    "# ```"
   ]
  },
  {
   "cell_type": "code",
   "execution_count": 11,
   "id": "4ece3dc5-8f6f-410e-a098-bb2c78dee89e",
   "metadata": {},
   "outputs": [
    {
     "name": "stdout",
     "output_type": "stream",
     "text": [
      "{'login': 'octocat', 'id': 583231, 'node_id': 'MDQ6VXNlcjU4MzIzMQ==', 'avatar_url': 'https://avatars.githubusercontent.com/u/583231?v=4', 'gravatar_id': '', 'url': 'https://api.github.com/users/octocat', 'html_url': 'https://github.com/octocat', 'followers_url': 'https://api.github.com/users/octocat/followers', 'following_url': 'https://api.github.com/users/octocat/following{/other_user}', 'gists_url': 'https://api.github.com/users/octocat/gists{/gist_id}', 'starred_url': 'https://api.github.com/users/octocat/starred{/owner}{/repo}', 'subscriptions_url': 'https://api.github.com/users/octocat/subscriptions', 'organizations_url': 'https://api.github.com/users/octocat/orgs', 'repos_url': 'https://api.github.com/users/octocat/repos', 'events_url': 'https://api.github.com/users/octocat/events{/privacy}', 'received_events_url': 'https://api.github.com/users/octocat/received_events', 'type': 'User', 'user_view_type': 'public', 'site_admin': False, 'name': 'The Octocat', 'company': '@github', 'blog': 'https://github.blog', 'location': 'San Francisco', 'email': None, 'hireable': None, 'bio': None, 'twitter_username': None, 'public_repos': 8, 'public_gists': 8, 'followers': 17673, 'following': 9, 'created_at': '2011-01-25T18:44:36Z', 'updated_at': '2025-04-22T11:22:07Z'}\n",
      "Запрос завершён\n"
     ]
    }
   ],
   "source": [
    "### **📌 3. Обработка HTTP-запросов (API, веб-скрапинг)**  \n",
    "# **Проблема:** Сеть ненадёжна — запрос может не пройти.  \n",
    "# **Решение:** Обрабатываем ошибки соединения.  \n",
    "\n",
    "# ```python\n",
    "import requests\n",
    "\n",
    "try:\n",
    "    response = requests.get(\"https://api.github.com/users/octocat\")\n",
    "    response.raise_for_status()  # Проверяем статус ответа\n",
    "    print(response.json())\n",
    "except requests.exceptions.RequestException as e:\n",
    "    print(f\"Ошибка запроса: {e}\")\n",
    "finally:\n",
    "    print(\"Запрос завершён\")\n",
    "# ```"
   ]
  },
  {
   "cell_type": "code",
   "execution_count": 12,
   "id": "6bafce9a-1565-48c5-814c-e8baa8968ccd",
   "metadata": {},
   "outputs": [
    {
     "name": "stdout",
     "output_type": "stream",
     "text": [
      "Ошибка БД: no such table: users\n"
     ]
    }
   ],
   "source": [
    "### **📌 4. Работа с базой данных (закрытие соединения)**  \n",
    "# **Проблема:** Если не закрыть соединение с БД, возможны утечки.  \n",
    "# **Решение:** `finally` гарантирует закрытие.  \n",
    "\n",
    "# ```python\n",
    "import sqlite3\n",
    "\n",
    "conn = None\n",
    "try:\n",
    "    conn = sqlite3.connect(\"users.db\")\n",
    "    cursor = conn.cursor()\n",
    "    cursor.execute(\"SELECT * FROM users\")\n",
    "    print(cursor.fetchall())\n",
    "except sqlite3.Error as e:\n",
    "    print(f\"Ошибка БД: {e}\")\n",
    "finally:\n",
    "    if conn:\n",
    "        conn.close()  # Важно закрыть соединение!\n",
    "# ```"
   ]
  },
  {
   "cell_type": "code",
   "execution_count": 13,
   "id": "f46704fa-69aa-4962-b010-77f691626b71",
   "metadata": {},
   "outputs": [
    {
     "name": "stdout",
     "output_type": "stream",
     "text": [
      "HTTP/1.1 200 OK\n",
      "Content-Type: text/html\n",
      "ETag: \"84238dfc8092e5d9c0dac8ef93371a07:1736799080.121134\"\n",
      "Last-Modified: Mon, 13 Jan 2025 20:11:20 GMT\n",
      "Cache-Control: max-age=2771\n",
      "Date: Tue, 22 Apr 2025 13:56:57 GMT\n",
      "Content-Length: 1256\n",
      "Connection: keep-alive\n",
      "\n",
      "<!doctype html>\n",
      "<html>\n",
      "<head>\n",
      "    <title>Example Domain</title>\n",
      "\n",
      "    <meta charset=\"utf-8\" />\n",
      "    <meta http-equiv=\"Content-type\" content=\"text/html; charset=utf-8\" />\n",
      "    <meta name=\"viewport\" content=\"width=device-width, initial-scale=1\" />\n",
      "    <style type=\"text/css\">\n",
      "    body {\n",
      "        background-color: #f0f0f2;\n",
      "        margin: 0;\n",
      "        padding: 0;\n",
      "        font-family: -apple-system, system-ui, BlinkMacSystemFont, \"Segoe UI\", \"Open Sans\", \"Helvetica Neue\", Helvetica, Arial, sans-serif;\n",
      "        \n",
      "    }\n",
      "    div {\n",
      "        width: 600px;\n",
      "        margin: 5em auto;\n",
      "        padding: 2em;\n",
      "        background-color: #fdfdff;\n",
      "        border-radius: 0.5em;\n",
      "        box-shadow: 2px 3px 7px 2px rgba(0,0,0,0.02);\n",
      "    }\n",
      "    a:link, a:visited {\n",
      "        color: #38488f\n"
     ]
    }
   ],
   "source": [
    "### **📌 5. Безопасная работа с сокетами**  \n",
    "# **Проблема:** Соединение может оборваться, и сокет останется открытым.  \n",
    "# **Решение:** Закрываем сокет в `finally`.  \n",
    "\n",
    "# ```python\n",
    "import socket\n",
    "\n",
    "sock = socket.socket(socket.AF_INET, socket.SOCK_STREAM)\n",
    "try:\n",
    "    sock.connect((\"example.com\", 80))\n",
    "    sock.sendall(b\"GET / HTTP/1.1\\r\\nHost: example.com\\r\\n\\r\\n\")\n",
    "    print(sock.recv(1024).decode())\n",
    "except socket.error as e:\n",
    "    print(f\"Ошибка подключения: {e}\")\n",
    "finally:\n",
    "    sock.close()  # Закрываем сокет в любом случае\n",
    "# ```"
   ]
  },
  {
   "cell_type": "code",
   "execution_count": 14,
   "id": "917be9ce-7f78-4eef-8b25-9ea8a613a26b",
   "metadata": {},
   "outputs": [
    {
     "name": "stdin",
     "output_type": "stream",
     "text": [
      "Введите число:  1\n"
     ]
    },
    {
     "name": "stdout",
     "output_type": "stream",
     "text": [
      "Результат: 100.0\n",
      "Конец вычислений\n"
     ]
    }
   ],
   "source": [
    "### **📌 6. Обработка нескольких исключений**  \n",
    "# Можно ловить разные ошибки в одном блоке.  \n",
    "\n",
    "# ```python\n",
    "try:\n",
    "    num = int(input(\"Введите число: \"))\n",
    "    result = 100 / num\n",
    "    print(f\"Результат: {result}\")\n",
    "except ValueError:\n",
    "    print(\"Это не число!\")\n",
    "except ZeroDivisionError:\n",
    "    print(\"Нельзя делить на ноль!\")\n",
    "finally:\n",
    "    print(\"Конец вычислений\")\n",
    "# ```"
   ]
  },
  {
   "cell_type": "code",
   "execution_count": 15,
   "id": "8b594560-f305-4f02-9913-dd709e4337c1",
   "metadata": {},
   "outputs": [
    {
     "name": "stdout",
     "output_type": "stream",
     "text": [
      "Попытка открыть файл...\n",
      "Файл не найден!\n",
      "Программа завершена\n"
     ]
    }
   ],
   "source": [
    "### **📌 7. Использование `else` в `try-except`**  \n",
    "# Блок `else` выполняется, если исключений не было.  \n",
    "\n",
    "# ```python\n",
    "try:\n",
    "    print(\"Попытка открыть файл...\")\n",
    "    with open(\"config.json\", \"r\") as file:\n",
    "        data = file.read()\n",
    "except FileNotFoundError:\n",
    "    print(\"Файл не найден!\")\n",
    "else:\n",
    "    print(\"Файл успешно прочитан!\")  # Выполняется, если нет ошибок\n",
    "finally:\n",
    "    print(\"Программа завершена\")\n",
    "# ```\n",
    "\n",
    "# ---"
   ]
  },
  {
   "cell_type": "code",
   "execution_count": 16,
   "id": "a2c068b5-d4e7-4e06-870f-823a61204246",
   "metadata": {},
   "outputs": [],
   "source": [
    "## 🎯 **Вывод**  \n",
    "# Конструкция `try-except-finally` полезна в любом проекте:  \n",
    "# ✅ **Обработка ошибок ввода**,  \n",
    "# ✅ **Безопасная работа с файлами и БД**,  \n",
    "# ✅ **Грамотное управление сетевыми запросами**,  \n",
    "# ✅ **Гарантированное освобождение ресурсов**.  \n",
    "\n",
    "# **Совет:** Всегда закрывайте ресурсы (файлы, соединения) в `finally`, чтобы избежать утечек!  \n",
    "\n",
    "# ---"
   ]
  }
 ],
 "metadata": {
  "kernelspec": {
   "display_name": "Python 3 (ipykernel)",
   "language": "python",
   "name": "python3"
  },
  "language_info": {
   "codemirror_mode": {
    "name": "ipython",
    "version": 3
   },
   "file_extension": ".py",
   "mimetype": "text/x-python",
   "name": "python",
   "nbconvert_exporter": "python",
   "pygments_lexer": "ipython3",
   "version": "3.12.3"
  }
 },
 "nbformat": 4,
 "nbformat_minor": 5
}
