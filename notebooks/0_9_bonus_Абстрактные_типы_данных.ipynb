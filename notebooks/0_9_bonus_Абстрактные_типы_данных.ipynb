{
 "cells": [
  {
   "cell_type": "markdown",
   "id": "24d458ae-ff53-4f0c-9ee0-64c32738ac39",
   "metadata": {},
   "source": [
    "# Абстрактные типы данных в Python: теоретические основы и практическая реализация"
   ]
  },
  {
   "cell_type": "markdown",
   "id": "6fde114f-d20f-4c7b-990f-b34d6f2c318d",
   "metadata": {},
   "source": [
    "## 1. Введение в абстрактные типы данных (АТД)"
   ]
  },
  {
   "cell_type": "code",
   "execution_count": 6,
   "id": "eaffcf03-50c8-4c4c-aae8-1f72d1246dbf",
   "metadata": {},
   "outputs": [],
   "source": [
    "# Основные характеристики АТД:\n",
    "# - **Инкапсуляция** данных и операций\n",
    "# - **Определение интерфейса** (публичные методы)\n",
    "# - **Независимость** от конкретной реализации\n",
    "\n",
    "# ```python\n",
    "from abc import ABC, abstractmethod\n",
    "\n",
    "class StackADT(ABC):\n",
    "    @abstractmethod\n",
    "    def push(self, item):\n",
    "        pass\n",
    "    \n",
    "    @abstractmethod\n",
    "    def pop(self):\n",
    "        pass\n",
    "    \n",
    "    @abstractmethod\n",
    "    def peek(self):\n",
    "        pass\n",
    "    \n",
    "    @abstractmethod\n",
    "    def is_empty(self):\n",
    "        pass\n",
    "    \n",
    "    @abstractmethod\n",
    "    def size(self):\n",
    "        pass\n",
    "# ```"
   ]
  },
  {
   "cell_type": "markdown",
   "id": "80aa38bf-1a12-46ac-8e51-7c5126b503e9",
   "metadata": {},
   "source": [
    "## 2. Основные абстрактные типы данных"
   ]
  },
  {
   "cell_type": "markdown",
   "id": "8ed7ca0e-247f-405f-b362-6f6daef05498",
   "metadata": {},
   "source": [
    "### 2.1. Контейнеры (Containers)"
   ]
  },
  {
   "cell_type": "code",
   "execution_count": 7,
   "id": "cf22b539-4e24-4121-a970-ed148765aef8",
   "metadata": {},
   "outputs": [],
   "source": [
    "# Контейнеры - это АТД, хранящие коллекции элементов с возможностью добавления,\n",
    "# удаления и проверки на вхождение.\n",
    "\n",
    "# ```python\n",
    "class ContainerADT(ABC):\n",
    "    @abstractmethod\n",
    "    def add(self, item):\n",
    "        \"\"\"Добавить элемент в контейнер\"\"\"\n",
    "        pass\n",
    "    \n",
    "    @abstractmethod\n",
    "    def remove(self, item):\n",
    "        \"\"\"Удалить элемент из контейнера\"\"\"\n",
    "        pass\n",
    "    \n",
    "    @abstractmethod\n",
    "    def __contains__(self, item):\n",
    "        \"\"\"Проверить наличие элемента\"\"\"\n",
    "        pass\n",
    "    \n",
    "    @abstractmethod\n",
    "    def is_empty(self):\n",
    "        \"\"\"Проверить на пустоту\"\"\"\n",
    "        pass\n",
    "    \n",
    "    @abstractmethod\n",
    "    def size(self):\n",
    "        \"\"\"Получить размер контейнера\"\"\"\n",
    "        pass\n",
    "# ```"
   ]
  },
  {
   "cell_type": "markdown",
   "id": "4d1372de-6c9d-4243-9376-ed7d42899c11",
   "metadata": {},
   "source": [
    "### 2.2. Последовательности (Sequences)"
   ]
  },
  {
   "cell_type": "code",
   "execution_count": 8,
   "id": "0628df20-605d-4404-86c8-2a09f5ca2c60",
   "metadata": {},
   "outputs": [],
   "source": [
    "# Последовательности - это упорядоченные контейнеры с доступом по индексу.\n",
    "\n",
    "# ```python\n",
    "class SequenceADT(ContainerADT):\n",
    "    @abstractmethod\n",
    "    def __getitem__(self, index):\n",
    "        \"\"\"Получить элемент по индексу\"\"\"\n",
    "        pass\n",
    "    \n",
    "    @abstractmethod\n",
    "    def __setitem__(self, index, value):\n",
    "        \"\"\"Установить элемент по индексу\"\"\"\n",
    "        pass\n",
    "    \n",
    "    @abstractmethod\n",
    "    def insert(self, index, item):\n",
    "        \"\"\"Вставить элемент по индексу\"\"\"\n",
    "        pass\n",
    "    \n",
    "    @abstractmethod\n",
    "    def index_of(self, item):\n",
    "        \"\"\"Найти индекс элемента\"\"\"\n",
    "        pass\n",
    "# ```"
   ]
  },
  {
   "cell_type": "markdown",
   "id": "726d346d-147d-4a1d-80af-2d249da2bb2c",
   "metadata": {},
   "source": [
    "### 2.3. Ассоциативные массивы (Maps)"
   ]
  },
  {
   "cell_type": "code",
   "execution_count": 9,
   "id": "42436284-c060-4789-8156-fec0dec571ec",
   "metadata": {},
   "outputs": [],
   "source": [
    "# Ассоциативные массивы хранят пары ключ-значение с возможностью быстрого доступа по ключу.\n",
    "\n",
    "# ```python\n",
    "class MapADT(ABC):\n",
    "    @abstractmethod\n",
    "    def __setitem__(self, key, value):\n",
    "        \"\"\"Добавить пару ключ-значение\"\"\"\n",
    "        pass\n",
    "    \n",
    "    @abstractmethod\n",
    "    def __getitem__(self, key):\n",
    "        \"\"\"Получить значение по ключу\"\"\"\n",
    "        pass\n",
    "    \n",
    "    @abstractmethod\n",
    "    def __delitem__(self, key):\n",
    "        \"\"\"Удалить пару по ключу\"\"\"\n",
    "        pass\n",
    "    \n",
    "    @abstractmethod\n",
    "    def __len__(self):\n",
    "        \"\"\"Количество элементов\"\"\"\n",
    "        pass\n",
    "    \n",
    "    @abstractmethod\n",
    "    def __contains__(self, key):\n",
    "        \"\"\"Проверить наличие ключа\"\"\"\n",
    "        pass\n",
    "    \n",
    "    @abstractmethod\n",
    "    def keys(self):\n",
    "        \"\"\"Получить все ключи\"\"\"\n",
    "        pass\n",
    "    \n",
    "    @abstractmethod\n",
    "    def values(self):\n",
    "        \"\"\"Получить все значения\"\"\"\n",
    "        pass\n",
    "    \n",
    "    @abstractmethod\n",
    "    def items(self):\n",
    "        \"\"\"Получить все пары ключ-значение\"\"\"\n",
    "        pass\n",
    "# ```"
   ]
  },
  {
   "cell_type": "markdown",
   "id": "57bb8660-6c39-40cd-8155-f23e1b6f59df",
   "metadata": {},
   "source": [
    "## 3. Реализации АТД в Python"
   ]
  },
  {
   "cell_type": "markdown",
   "id": "d0235130-0584-49c8-8bf9-f536bd5e6070",
   "metadata": {},
   "source": [
    "### 3.1. Стек (Stack)"
   ]
  },
  {
   "cell_type": "code",
   "execution_count": 10,
   "id": "25685cd4-f214-4bd9-baad-5181942c53ca",
   "metadata": {},
   "outputs": [],
   "source": [
    "# ```python\n",
    "class ListStack(StackADT):\n",
    "    def __init__(self):\n",
    "        self._items = []\n",
    "    \n",
    "    def push(self, item):\n",
    "        self._items.append(item)\n",
    "    \n",
    "    def pop(self):\n",
    "        if self.is_empty():\n",
    "            raise IndexError(\"Stack is empty\")\n",
    "        return self._items.pop()\n",
    "    \n",
    "    def peek(self):\n",
    "        if self.is_empty():\n",
    "            raise IndexError(\"Stack is empty\")\n",
    "        return self._items[-1]\n",
    "    \n",
    "    def is_empty(self):\n",
    "        return len(self._items) == 0\n",
    "    \n",
    "    def size(self):\n",
    "        return len(self._items)\n",
    "    \n",
    "    def __repr__(self):\n",
    "        return f\"Stack({self._items})\"\n",
    "# ```"
   ]
  },
  {
   "cell_type": "markdown",
   "id": "6ba172b3-9d90-408f-a469-ff6300db3362",
   "metadata": {},
   "source": [
    "### 3.2. Очередь (Queue)"
   ]
  },
  {
   "cell_type": "code",
   "execution_count": 12,
   "id": "3732df70-2719-460e-95a4-0391559917e4",
   "metadata": {},
   "outputs": [],
   "source": [
    "# ```python\n",
    "from collections import deque\n",
    "\n",
    "class ListQueue(SequenceADT):\n",
    "    def __init__(self):\n",
    "        self._items = deque()\n",
    "    \n",
    "    def add(self, item):\n",
    "        self._items.append(item)\n",
    "    \n",
    "    def remove(self):\n",
    "        if self.is_empty():\n",
    "            raise IndexError(\"Queue is empty\")\n",
    "        return self._items.popleft()\n",
    "    \n",
    "    def __contains__(self, item):\n",
    "        return item in self._items\n",
    "    \n",
    "    def is_empty(self):\n",
    "        return len(self._items) == 0\n",
    "    \n",
    "    def size(self):\n",
    "        return len(self._items)\n",
    "    \n",
    "    def __repr__(self):\n",
    "        return f\"Queue({list(self._items)})\"\n",
    "# ```"
   ]
  },
  {
   "cell_type": "markdown",
   "id": "f0f8fb6d-c0d8-4b14-a9a9-d18068417414",
   "metadata": {},
   "source": [
    "## 4. Анализ сложности операций"
   ]
  },
  {
   "cell_type": "code",
   "execution_count": 13,
   "id": "b54e4a5c-b173-4dc4-8e85-b8dcc54c2828",
   "metadata": {},
   "outputs": [
    {
     "name": "stdout",
     "output_type": "stream",
     "text": [
      "Время 100,000 операций push в стек: 0.00981 сек\n",
      "Время 100,000 операций вставки в словарь: 0.00316 сек\n"
     ]
    }
   ],
   "source": [
    "# Сложность операций для основных АТД (усредненные случаи):\n",
    "\n",
    "# | АТД          | Операция            | Сложность  | Реализация в Python      |\n",
    "# |--------------|---------------------|------------|--------------------------|\n",
    "# | **Стек**     | push/pop            | O(1)       | list.append/list.pop     |\n",
    "# | **Очередь**  | enqueue/dequeue     | O(1)       | collections.deque        |\n",
    "# | **Список**   | доступ по индексу   | O(1)       | list                     |\n",
    "# | **Словарь**  | вставка/поиск       | O(1)       | dict                     |\n",
    "# | **Множество**| добавление/проверка | O(1)       | set                      |\n",
    "\n",
    "# ```python\n",
    "import timeit\n",
    "\n",
    "# Тестирование времени операций\n",
    "stack_push = timeit.timeit(\n",
    "    's.push(1)',\n",
    "    setup='from __main__ import ListStack; s = ListStack()',\n",
    "    number=100000\n",
    ")\n",
    "\n",
    "dict_insert = timeit.timeit(\n",
    "    'd[i] = i',\n",
    "    setup='d = {}; i = 0',\n",
    "    number=100000\n",
    ")\n",
    "\n",
    "print(f\"Время 100,000 операций push в стек: {stack_push:.5f} сек\")\n",
    "print(f\"Время 100,000 операций вставки в словарь: {dict_insert:.5f} сек\")\n",
    "# ```"
   ]
  },
  {
   "cell_type": "markdown",
   "id": "1fe7995d-35c3-4f7b-a9f2-9f507b30b479",
   "metadata": {},
   "source": [
    "## 5. Иерархия АТД в Python"
   ]
  },
  {
   "cell_type": "code",
   "execution_count": 14,
   "id": "c33b575a-bf6c-4bed-8741-5e614bad6ec0",
   "metadata": {},
   "outputs": [
    {
     "name": "stdout",
     "output_type": "stream",
     "text": [
      "list является MutableSequence: True\n",
      "set является MutableSet: True\n",
      "dict является MutableMapping: True\n"
     ]
    }
   ],
   "source": [
    "# Python использует систему абстрактных базовых классов (ABC) для определения интерфейсов коллекций:\n",
    "\n",
    "# ```python\n",
    "from collections.abc import MutableSequence, MutableSet, MutableMapping\n",
    "\n",
    "# Проверка реализации АТД\n",
    "print(f\"list является MutableSequence: {isinstance([], MutableSequence)}\")\n",
    "print(f\"set является MutableSet: {isinstance(set(), MutableSet)}\")\n",
    "print(f\"dict является MutableMapping: {isinstance({}, MutableMapping)}\")\n",
    "# ```"
   ]
  },
  {
   "cell_type": "markdown",
   "id": "32379602-b097-48e8-bb55-b36a988fe401",
   "metadata": {},
   "source": [
    "\n",
    "## 6. Заключение"
   ]
  },
  {
   "cell_type": "code",
   "execution_count": null,
   "id": "b233d949-79bb-4178-94dd-62d08c451d27",
   "metadata": {},
   "outputs": [],
   "source": [
    "# 1. АТД определяют **контракт** для структур данных через их поведение\n",
    "# 2. В Python АТД реализуются через:\n",
    "#    - Встроенные типы (list, dict, set)\n",
    "#    - Абстрактные базовые классы (collections.abc)\n",
    "#    - Пользовательские реализации\n",
    "# 3. Выбор конкретной реализации влияет на **производительность** программы\n",
    "# 4. Понимание АТД помогает писать более **универсальный** и **поддерживаемый** код\n",
    "\n",
    "# ```python\n",
    "# Пример полиморфной функции, работающей с любым SequenceADT\n",
    "def process_sequence(seq: SequenceADT):\n",
    "    if not seq.is_empty():\n",
    "        first = seq[0]\n",
    "        last = seq[-1]\n",
    "        return f\"First: {first}, Last: {last}\"\n",
    "    return \"Empty sequence\"\n",
    "\n",
    "# Работает и со списком, и с нашей реализацией очереди\n",
    "print(process_sequence([1, 2, 3]))\n",
    "queue = ListQueue()\n",
    "queue.add(10); queue.add(20); queue.add(30)\n",
    "print(process_sequence(queue))\n",
    "# ```"
   ]
  },
  {
   "cell_type": "code",
   "execution_count": null,
   "id": "26de7059-43ae-4105-be45-ac64de714e85",
   "metadata": {},
   "outputs": [],
   "source": []
  }
 ],
 "metadata": {
  "kernelspec": {
   "display_name": "Python 3 (ipykernel)",
   "language": "python",
   "name": "python3"
  },
  "language_info": {
   "codemirror_mode": {
    "name": "ipython",
    "version": 3
   },
   "file_extension": ".py",
   "mimetype": "text/x-python",
   "name": "python",
   "nbconvert_exporter": "python",
   "pygments_lexer": "ipython3",
   "version": "3.12.3"
  }
 },
 "nbformat": 4,
 "nbformat_minor": 5
}
