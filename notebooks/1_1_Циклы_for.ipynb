{
 "cells": [
  {
   "cell_type": "markdown",
   "id": "6a0c021b-8b10-42d1-a20c-6172e6c985c9",
   "metadata": {},
   "source": [
    "# Цикл for в Python: Теоретические основы и механизмы работы"
   ]
  },
  {
   "cell_type": "code",
   "execution_count": 1,
   "id": "7a00c0fe-caab-4766-9261-921b9b0f4611",
   "metadata": {},
   "outputs": [],
   "source": [
    "# Цикл for в Python — это мощный инструмент для итерации по элементам коллекций.\n",
    "# В отличие от многих других языков, где for используется как счётчик с условием,\n",
    "# в Python он работает с итерируемыми объектами (iterables), перебирая их элементы последовательно. \n",
    "# Эта статья посвящена теории, лежащей в основе цикла for, его внутренним механизмам и ключевым концепциям.\n",
    "\n",
    "# ---\n",
    "\n",
    "# #### 1. Итерируемые объекты и итераторы\n",
    "# Цикл for тесно связан с понятиями итерируемого объекта (iterable) и итератора (iterator).  \n",
    "# - Итерируемый объект — это любой объект, способный возвращать свои элементы по одному.\n",
    "#   Примеры: списки (list), строки (str), словари (dict), множества (set), генераторы.  \n",
    "# - Итератор — объект, реализующий протокол итерации через методы:  \n",
    "#   - __iter__(): возвращает сам итератор.  \n",
    "#   - __next__(): возвращает следующий элемент или вызывает исключение StopIteration, если элементы закончились.  \n",
    "\n",
    "# Цикл for автоматически создаёт итератор из итерируемого объекта, \n",
    "# используя функцию iter(), а затем вызывает next() до получения StopIteration.\n",
    "\n",
    "# Пример:  \n",
    "# numbers = [1, 2, 3]\n",
    "# iterator = iter(numbers)\n",
    "# print(next(iterator))  # 1\n",
    "# print(next(iterator))  # 2\n",
    "# ---\n",
    "\n",
    "# #### 2. **Синтаксис цикла for**\n",
    "# Базовая структура:  \n",
    "# for элемент in итерируемый_объект:\n",
    "#     # тело цикла\n",
    "# else:\n",
    "#     # блок else (опционально)\n",
    "# - **Блок else** выполняется, если цикл завершился естественным образом (без break).  \n",
    "# - **Тело цикла** выполняется для каждого элемента итерируемогПримеры:**Примеры:**  \n",
    "# # Итерация по списку\n",
    "# for num in [1, 2, 3]:\n",
    "#     print(num * 2)  # 2, 4, 6\n",
    "\n",
    "# # Итерация по строке\n",
    "# for char in \"Python\":\n",
    "#     print(char)  # P, y, t, h, o, n\n",
    "\n",
    "# # Итерация по ключам словаря\n",
    "# d = {\"a\": 1, \"b\": 2}\n",
    "# for key in d:\n",
    "#     print(key, d[key])  # a 1, b 2\n",
    "# -Функции для работы с forботы с for**\n",
    "# - **range()**: Генерирует последовательность чисел.  \n",
    " \n",
    "#   for i in range(3):  # 0, 1, 2\n",
    "#       print(i)\n",
    "  \n",
    "# - **`enumerate()**: Возвращает пары (индекс, элемент).  \n",
    "#   ``python\n",
    "#   for index, value in enumerate([\"a\", \"b\"]):\n",
    "#       print(index, val`zip()` 1 b\n",
    " \n",
    "# - **`zip()`**: Объединяет несколько итерируемых объектов.  \n",
    "  \n",
    "# python\n",
    "#   for a, b in zip([1, 2], [\"x\", \"y\"]):\n",
    "#       print(a, b)  # 1 x, 2 y\n",
    " \n",
    "\n",
    "# ---\n",
    "\n",
    "# #### 4. **Управление потоком выполнения**\n",
    "# - **`break`**: Досрочно прерывает цикл.  \n",
    "# - **`continue`**: Переходит к следующей итерации.  \n",
    "# - **`pass`**: Заглушка (не выполняет действий).  \n",
    "\n",
    "# **Пример:**  \n",
    "# python\n",
    "# for num in range(5):\n",
    "#     if num == 3:\n",
    "#         break  # цикл останавливается\n",
    "# Вложенные циклы, 1, 2\n",
    "\n",
    "# ---\n",
    "\n",
    "# #### 5. **Вложенные циклы**\n",
    "# Циклы `for` могут быть вложенными для работы с многомерными структурами:  \n",
    "# python\n",
    "# matrix = [[1, 2], [3, 4]]\n",
    "# for row in matrix:\n",
    "#     for element in row:\n",
    "#         print(element)  # 1, 2, 3, 4\n",
    "\n",
    "# ---\n",
    "\n",
    "# #### 6. **Генераторы и comprehensions**\n",
    "# Циклы `for` используются в генераторах списков, множеств и словарей для создания коллекций:  \n",
    "# python\n",
    "# squares = [x**2 for x in range(5)]  # [0, 1, 4, 9, 16]\n",
    "\n",
    "# ---\n",
    "\n",
    "# #### 7. **Создание собственных итерируемых объектов**\n",
    "# Любой класс можно сделать итерируемым, реализовав методы `__iter__()` и `__next__()`.  \n",
    "# **Пример:**  \n",
    "# python\n",
    "# class Cinit    def __init__(self, limit):\n",
    "#         self.limit = limit\n",
    "#         self.curreiter    def __iter__(self):\n",
    "#         returnext    def __next__(self):\n",
    "#         if self.current < self.limit:\n",
    "#             self.current += 1\n",
    "#             return self.current\n",
    "#         raise StopIteration\n",
    "\n",
    "# for num in CoОсобенности цикла `for` в Python`\n",
    "\n",
    "# ---\n",
    "\n",
    "# #### 8. **Особенности цикла `for` в Python**\n",
    "# - Нет явного счётчика (используйте `enumerate()` или `range()`).  \n",
    "# - Работает с любым итерируемым объектом, включая файлы, генераторы и пользовательские классы.  \n",
    "# - Поддерживает синтаксис `else`, что редко встречается в других языках.\n",
    "\n",
    "# ---\n",
    "\n",
    "# #### Заключение\n",
    "# Цикл for в Python — это не просто инструмент для перебора элементов,\n",
    "# а часть мощной системы итерации, основанной на протоколах.\n",
    "# Понимание работы итерируемых объектов и итераторов позволяет эффективно использовать цик"
   ]
  },
  {
   "cell_type": "markdown",
   "id": "a1c0fca0-0e97-4a69-af4a-18fe8f97042b",
   "metadata": {},
   "source": [
    "# Цикл for в Python: Практические примеры для эффективного кода"
   ]
  },
  {
   "cell_type": "code",
   "execution_count": 2,
   "id": "48af7f5d-ce03-40ee-a0d1-4ba78a46f25e",
   "metadata": {},
   "outputs": [],
   "source": [
    "# Цикл for в Python — один из самых часто используемых инструментов. \n",
    "# Он позволяет легко перебирать элементы коллекций, обрабатывать данные и автоматизировать рутинные задачи. \n",
    "# В этой статье разберём практические примеры, которые помогут глубже понять, как применять цикл for в реальных проектах.\n",
    "\n",
    "# ---"
   ]
  },
  {
   "cell_type": "code",
   "execution_count": 4,
   "id": "4d017f42-e74b-4514-9d49-347a981c3f74",
   "metadata": {},
   "outputs": [
    {
     "name": "stdout",
     "output_type": "stream",
     "text": [
      "APPLE\n",
      "BANANA\n",
      "CHERRY\n",
      "H\n",
      "e\n",
      "l\n",
      "l\n",
      "o\n",
      "name\n",
      "age\n",
      "city\n",
      "Alice\n",
      "30\n",
      "London\n",
      "name: Alice\n",
      "age: 30\n",
      "city: London\n",
      "10\n",
      "20\n",
      "30\n",
      "5.0\n",
      "10.0\n",
      "15.0\n"
     ]
    }
   ],
   "source": [
    "#### 1. Итерация по базовым структурам данных\n",
    "\n",
    "# Списки (list):  \n",
    "fruits = [\"apple\", \"banana\", \"cherry\"]\n",
    "for fruit in fruits:\n",
    "    print(fruit.upper())\n",
    "# Вывод: APPLE, BANANA, CHERRY\n",
    "\n",
    "\n",
    "# Строки (str):  \n",
    "text = \"Hello\"\n",
    "for char in text:\n",
    "    print(char)\n",
    "# Вывод: H, e, l, l, o\n",
    "\n",
    "\n",
    "# Словари (dict):  \n",
    "# Итерация по ключам, значениям и парам ключ-значение:\n",
    "user = {\"name\": \"Alice\", \"age\": 30, \"city\": \"London\"}\n",
    "\n",
    "# По ключам:\n",
    "for key in user:\n",
    "    print(key)  # name, age, city\n",
    "\n",
    "# По значениям:\n",
    "for value in user.values():\n",
    "    print(value)  # Alice, 30, London\n",
    "\n",
    "# По парам:\n",
    "for key, value in user.items():\n",
    "    print(f\"{key}: {value}\")\n",
    "# Вывод: name: Alice, age: 30, city: London\n",
    "# Множества (set) и кортежи (tuple):  \n",
    "unique_numbers = {1, 2, 3}\n",
    "for num in unique_numbers:\n",
    "    print(num * 10)  # 10, 20, 30\n",
    "\n",
    "coordinates = (10, 20, 30)\n",
    "for coord in coordinates:\n",
    "    print(coord / 2)  # 5.0, 10.0, 15.0\n",
    "# ---"
   ]
  },
  {
   "cell_type": "code",
   "execution_count": 6,
   "id": "5f63560f-d87e-42cb-b24c-cb0f77ac6b56",
   "metadata": {},
   "outputs": [
    {
     "name": "stdout",
     "output_type": "stream",
     "text": [
      "0\n",
      "2\n",
      "4\n",
      "6\n",
      "8\n",
      "5\n",
      "4\n",
      "3\n",
      "2\n",
      "1\n"
     ]
    }
   ],
   "source": [
    "#### 2. **Использование range() для управления итерациями**\n",
    "\n",
    "# Генерация последовательностей чисел:\n",
    "# Четные числа от 0 до 8:\n",
    "for i in range(0, 10, 2):\n",
    "    print(i)  # 0, 2, 4, 6, 8\n",
    "\n",
    "# Обратный отсчёт:\n",
    "for i in range(5, 0, -1):\n",
    "    print(i)  # 5, 4, 3, 2, 1\n",
    "# ---"
   ]
  },
  {
   "cell_type": "code",
   "execution_count": 7,
   "id": "e7b3899b-0c33-4ca7-b358-bec35722b527",
   "metadata": {},
   "outputs": [
    {
     "name": "stdout",
     "output_type": "stream",
     "text": [
      "Индекс 0: red\n",
      "Индекс 1: green\n",
      "Индекс 2: blue\n"
     ]
    }
   ],
   "source": [
    "#### 3. **enumerate(): Работа с индексами и элементами**\n",
    "\n",
    "# Получение индекса элемента в списке:\n",
    "colors = [\"red\", \"green\", \"blue\"]\n",
    "for index, color in enumerate(colors):\n",
    "    print(f\"Индекс {index}: {color}\")\n",
    "# Вывод:\n",
    "# Индекс 0: red\n",
    "# Индекс 1: green\n",
    "# Индекс 2: blue\n",
    "# ---"
   ]
  },
  {
   "cell_type": "code",
   "execution_count": 8,
   "id": "9a321fe1-6e62-43e1-bb6b-4f1c4f812baa",
   "metadata": {},
   "outputs": [
    {
     "name": "stdout",
     "output_type": "stream",
     "text": [
      "Alice is 25 years old\n",
      "Bob is 30 years old\n"
     ]
    }
   ],
   "source": [
    "#### 4. **zip(): Параллельная итерация по нескольким коллекциям**\n",
    "\n",
    "# Объединение списков:\n",
    "names = [\"Alice\", \"Bob\"]\n",
    "ages = [25, 30]\n",
    "for name, age in zip(names, ages):\n",
    "    print(f\"{name} is {age} years old\")\n",
    "# Вывод:\n",
    "# Alice is 25 years old\n",
    "# Bob is 30 years old"
   ]
  },
  {
   "cell_type": "code",
   "execution_count": 9,
   "id": "9e8a3ddc-56d5-4b53-8976-a7b209e2cb5b",
   "metadata": {},
   "outputs": [
    {
     "name": "stdout",
     "output_type": "stream",
     "text": [
      "1 2 3 \n",
      "4 5 6 \n",
      "7 8 9 \n"
     ]
    }
   ],
   "source": [
    "#### 5. Вложенные циклы для обработки матрицтки матриц**\n",
    "\n",
    "# Обход двумерного списка:\n",
    "matrix = [\n",
    "    [1, 2, 3],\n",
    "    [4, 5, 6],\n",
    "    [7, 8, 9]\n",
    "]\n",
    "\n",
    "# Построчный вывод:\n",
    "for row in matrix:\n",
    "    for num in row:\n",
    "        print(num, end=\" \")\n",
    "    print()  # Переход на новую строку\n",
    "# Вывод:\n",
    "# 1 2 3\n",
    "# 4 5 6\n",
    "# 7 8 9"
   ]
  },
  {
   "cell_type": "code",
   "execution_count": 10,
   "id": "c44112e0-2e29-42d7-8fd9-60e8be55a3ba",
   "metadata": {},
   "outputs": [
    {
     "name": "stdout",
     "output_type": "stream",
     "text": [
      "[10, 20, 50]\n"
     ]
    }
   ],
   "source": [
    "#### 6. Фильтрация данных в циклеых в цикле**\n",
    "\n",
    "# Использование if внутри for:\n",
    "numbers = [10, 20, 33, 45, 50]\n",
    "even_numbers = []\n",
    "for num in numbers:\n",
    "    if num % 2 == 0:\n",
    "        even_numbers.append(num)\n",
    "print(even_numbers)  # [10, 20, 50]"
   ]
  },
  {
   "cell_type": "code",
   "execution_count": 11,
   "id": "8e0c8faa-30bc-42c8-a7ea-03360f10d1d2",
   "metadata": {},
   "outputs": [],
   "source": [
    "#### 7. Генераторы списков, словарей и множестви множеств**\n",
    "\n",
    "# Создание коллекций в одну строку:\n",
    "# Список квадратов:\n",
    "squares = [x**2 for x in range(5)]  # [0, 1, 4, 9, 16]\n",
    "\n",
    "# Словарь с парами число-квадрат:\n",
    "square_dict = {x: x**2 for x in [1, 2, 3]}  # {1: 1, 2: 4, 3: 9}\n",
    "\n",
    "# Множество чётных чисел:\n",
    "even_set = {x for x in range(10) if x % 2 == 0}  # {0, 2, 4, 6, 8}\n",
    "# ---"
   ]
  },
  {
   "cell_type": "code",
   "execution_count": 14,
   "id": "259135fc-2073-49b9-9425-d725f03850a1",
   "metadata": {},
   "outputs": [
    {
     "name": "stdout",
     "output_type": "stream",
     "text": [
      "0\n",
      "1\n",
      "2\n",
      "3\n",
      "4\n",
      "1 3 5 7 9\n",
      "1 3 5 7 9\n",
      "1 3 5 7 9\n",
      "1 3 5 7 9\n",
      "1 3 5 7 9\n",
      "0\n",
      "1\n",
      "2\n",
      "Цикл завершён!\n"
     ]
    }
   ],
   "source": [
    "#### 8. **Управление потоком: break, continue, else**\n",
    "\n",
    "# - **break** — прервать цикл досрочно:\n",
    "for num in range(10):\n",
    "    if num == 5:\n",
    "        break\n",
    "    print(num)  # 0, 1, 2, 3, 4\n",
    "    \n",
    "# - **`continue** — пропустить текущую итерацию:\n",
    "# ``python\n",
    "for num in range(10):\n",
    "    if num % 2 == 0:\n",
    "        continue\n",
    "    print(1, 3, 5, 7, 9)\n",
    "\n",
    "# - **`else`** — выполнить код после успешного завершения цикла (без `break`):\n",
    "# python\n",
    "for num in range(3):\n",
    "    print(num)\n",
    "else:\n",
    "    print(\"Цикл завершён!\")\n",
    "# Вывод: 0, 1, 2, Цикл завершён!\n",
    "\n",
    "# ---"
   ]
  },
  {
   "cell_type": "code",
   "execution_count": 15,
   "id": "c3889b1b-eec4-4754-9368-1fe9c97827a9",
   "metadata": {
    "collapsed": true,
    "jupyter": {
     "outputs_hidden": true
    },
    "scrolled": true
   },
   "outputs": [
    {
     "ename": "FileNotFoundError",
     "evalue": "[Errno 2] No such file or directory: 'data.txt'",
     "output_type": "error",
     "traceback": [
      "\u001b[1;31m---------------------------------------------------------------------------\u001b[0m",
      "\u001b[1;31mFileNotFoundError\u001b[0m                         Traceback (most recent call last)",
      "Cell \u001b[1;32mIn[15], line 5\u001b[0m\n\u001b[0;32m      1\u001b[0m \u001b[38;5;66;03m#### 9. **Чтение файлов построчно**\u001b[39;00m\n\u001b[0;32m      2\u001b[0m \n\u001b[0;32m      3\u001b[0m \u001b[38;5;66;03m# Обработка текстовых файлов:\u001b[39;00m\n\u001b[0;32m      4\u001b[0m \u001b[38;5;66;03m# python\u001b[39;00m\n\u001b[1;32m----> 5\u001b[0m \u001b[38;5;28;01mwith\u001b[39;00m \u001b[38;5;28mopen\u001b[39m(\u001b[38;5;124m\"\u001b[39m\u001b[38;5;124mdata.txt\u001b[39m\u001b[38;5;124m\"\u001b[39m, \u001b[38;5;124m\"\u001b[39m\u001b[38;5;124mr\u001b[39m\u001b[38;5;124m\"\u001b[39m) \u001b[38;5;28;01mas\u001b[39;00m file:\n\u001b[0;32m      6\u001b[0m     \u001b[38;5;28;01mfor\u001b[39;00m line \u001b[38;5;129;01min\u001b[39;00m file:\n\u001b[0;32m      7\u001b[0m         \u001b[38;5;28mprint\u001b[39m(line\u001b[38;5;241m.\u001b[39mstrip())\n",
      "File \u001b[1;32m~\\anaconda3\\Lib\\site-packages\\IPython\\core\\interactiveshell.py:324\u001b[0m, in \u001b[0;36m_modified_open\u001b[1;34m(file, *args, **kwargs)\u001b[0m\n\u001b[0;32m    317\u001b[0m \u001b[38;5;28;01mif\u001b[39;00m file \u001b[38;5;129;01min\u001b[39;00m {\u001b[38;5;241m0\u001b[39m, \u001b[38;5;241m1\u001b[39m, \u001b[38;5;241m2\u001b[39m}:\n\u001b[0;32m    318\u001b[0m     \u001b[38;5;28;01mraise\u001b[39;00m \u001b[38;5;167;01mValueError\u001b[39;00m(\n\u001b[0;32m    319\u001b[0m         \u001b[38;5;124mf\u001b[39m\u001b[38;5;124m\"\u001b[39m\u001b[38;5;124mIPython won\u001b[39m\u001b[38;5;124m'\u001b[39m\u001b[38;5;124mt let you open fd=\u001b[39m\u001b[38;5;132;01m{\u001b[39;00mfile\u001b[38;5;132;01m}\u001b[39;00m\u001b[38;5;124m by default \u001b[39m\u001b[38;5;124m\"\u001b[39m\n\u001b[0;32m    320\u001b[0m         \u001b[38;5;124m\"\u001b[39m\u001b[38;5;124mas it is likely to crash IPython. If you know what you are doing, \u001b[39m\u001b[38;5;124m\"\u001b[39m\n\u001b[0;32m    321\u001b[0m         \u001b[38;5;124m\"\u001b[39m\u001b[38;5;124myou can use builtins\u001b[39m\u001b[38;5;124m'\u001b[39m\u001b[38;5;124m open.\u001b[39m\u001b[38;5;124m\"\u001b[39m\n\u001b[0;32m    322\u001b[0m     )\n\u001b[1;32m--> 324\u001b[0m \u001b[38;5;28;01mreturn\u001b[39;00m io_open(file, \u001b[38;5;241m*\u001b[39margs, \u001b[38;5;241m*\u001b[39m\u001b[38;5;241m*\u001b[39mkwargs)\n",
      "\u001b[1;31mFileNotFoundError\u001b[0m: [Errno 2] No such file or directory: 'data.txt'"
     ]
    }
   ],
   "source": [
    "#### 9. **Чтение файлов построчно**\n",
    "\n",
    "# Обработка текстовых файлов:\n",
    "# python\n",
    "with open(\"data.txt\", \"r\") as file:\n",
    "    for line in file:\n",
    "        print(line.strip())  # Удаление пробелов и переносов строк\n",
    "\n",
    "# ---"
   ]
  },
  {
   "cell_type": "code",
   "execution_count": 16,
   "id": "0075bc4d-c568-4509-bc9e-41ae12cffcca",
   "metadata": {},
   "outputs": [
    {
     "name": "stdout",
     "output_type": "stream",
     "text": [
      "15\n",
      "[3]\n",
      "['HELLO', 'WORLD']\n"
     ]
    }
   ],
   "source": [
    "#### 10. **Практические задачи**\n",
    "\n",
    "# **Задача 1:** Посчитать сумму элементов списка.  \n",
    "# python\n",
    "numbers = [1, 2, 3, 4, 5]\n",
    "total = 0\n",
    "for num in numbers:\n",
    "    total += num\n",
    "print(total)  # 15\n",
    "\n",
    "\n",
    "# Задача 2: Найти общие элементы в двух списках.  \n",
    "list1 = [1, 2, 3]\n",
    "list2 = [3, 4, 5]\n",
    "common = []\n",
    "for item in list1:\n",
    "    if item in list2:\n",
    "        common.append(item)\n",
    "print(common)  # [3]\n",
    "\n",
    "\n",
    "\n",
    "# Задача 3: Преобразовать список строк в верхний регистр.  \n",
    "words = [\"hello\", \"world\"]\n",
    "upper_words = [word.upper() for word in words]\n",
    "print(upper_words)  # ['HELLO', 'WORLD']\n",
    "# ---"
   ]
  },
  {
   "cell_type": "code",
   "execution_count": 17,
   "id": "2b723f9e-6ce0-4245-9604-5cdc0c9ae0e7",
   "metadata": {},
   "outputs": [
    {
     "name": "stdout",
     "output_type": "stream",
     "text": [
      "0 1 1 2 3 5 8 13 "
     ]
    }
   ],
   "source": [
    "#### 11. Создание собственного итерируемого объекта\n",
    "\n",
    "# Пример класса, который генерирует числа Фибоначчи до заданного предела:\n",
    "class Fibonacci:\n",
    "    def __init__(self, limit):\n",
    "        self.limit = limit\n",
    "        self.a, self.b = 0, 1\n",
    "\n",
    "    def __iter__(self):\n",
    "        return self\n",
    "\n",
    "    def __next__(self):\n",
    "        if self.a > self.limit:\n",
    "            raise StopIteration\n",
    "        result = self.a\n",
    "        self.a, self.b = self.b, self.a + self.b\n",
    "        return result\n",
    "\n",
    "# Использование:\n",
    "for num in Fibonacci(20):\n",
    "    print(num, end=\" \")  # 0 1 1 2 3 5 8 13 21\n",
    "# ---\n",
    "\n"
   ]
  },
  {
   "cell_type": "code",
   "execution_count": 18,
   "id": "1b67a59f-5776-4d8d-a90b-c9cabc88a3e4",
   "metadata": {},
   "outputs": [],
   "source": [
    "#### Заключение\n",
    "\n",
    "# Цикл for в Python — это универсальный инструмент, который помогает решать множество задач:\n",
    "# от простого перебора элементов до сложных преобразований данных.\n",
    "# Освоив его синтаксис и встроенные функции (range(), enumerate(), zip()), вы сможете писать лаконичный и эффективный код. \n",
    "# Практикуйтесь на реальных проектах, экспериментируйте с генераторами и не забывайте о возможностях управления потоком выполнения!"
   ]
  }
 ],
 "metadata": {
  "kernelspec": {
   "display_name": "Python 3 (ipykernel)",
   "language": "python",
   "name": "python3"
  },
  "language_info": {
   "codemirror_mode": {
    "name": "ipython",
    "version": 3
   },
   "file_extension": ".py",
   "mimetype": "text/x-python",
   "name": "python",
   "nbconvert_exporter": "python",
   "pygments_lexer": "ipython3",
   "version": "3.12.3"
  }
 },
 "nbformat": 4,
 "nbformat_minor": 5
}
