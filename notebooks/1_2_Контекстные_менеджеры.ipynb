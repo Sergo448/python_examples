{
 "cells": [
  {
   "cell_type": "markdown",
   "id": "c5cad4dd-a72f-4eb3-91bf-21f3d74d1bf8",
   "metadata": {},
   "source": [
    "# **Контекстные менеджеры в Python: теоретические основы**"
   ]
  },
  {
   "cell_type": "code",
   "execution_count": null,
   "id": "e5f63038-ed69-40cb-87f9-52c7913e047e",
   "metadata": {},
   "outputs": [],
   "source": [
    "## **1. Определение и назначение**\n",
    "# Контекстный менеджер (context manager) — это объект, который определяет контекст выполнения блока кода, обеспечивая:  \n",
    "# - **Инициализацию ресурсов** при входе в контекст.  \n",
    "# - **Корректное освобождение** ресурсов при выходе (даже в случае исключения).  \n",
    "\n",
    "# Основная цель — замена ручного управления ресурсами (например, закрытие файлов, соединений) на автоматическое.\n",
    "\n",
    "# ---"
   ]
  },
  {
   "cell_type": "code",
   "execution_count": 1,
   "id": "84a12dff-cd9f-4d61-bdfb-f7700d15308e",
   "metadata": {},
   "outputs": [],
   "source": [
    "## **2. Протокол контекстного менеджера**\n",
    "# Любой объект может стать контекстным менеджером, если реализует **протокол `__enter__`/`__exit__`**:\n",
    "\n",
    "### **Методы:**\n",
    "# 1. **`__enter__(self)`**  \n",
    "#    - Вызывается при входе в блок `with`.  \n",
    "#    - Возвращаемое значение передаётся в переменную после `as`.  \n",
    "\n",
    "# 2. **`__exit__(self, exc_type, exc_val, exc_tb)`**  \n",
    "#    - Вызывается при выходе из блока `with`.  \n",
    "#    - Параметры (`exc_type`, `exc_val`, `exc_tb`):  \n",
    "#      - Если исключения не было — все `None`.  \n",
    "#      - Если было — содержат тип, значение и traceback исключения.  \n",
    "#    - Если метод возвращает `True`, исключение подавляется.  \n",
    "\n",
    "### **Пример реализации:**\n",
    "# ```python\n",
    "class MyContextManager:\n",
    "    def __enter__(self):\n",
    "        print(\"Вход в контекст\")\n",
    "        return self  # Объект для as\n",
    "\n",
    "    def __exit__(self, exc_type, exc_val, exc_tb):\n",
    "        print(\"Выход из контекста\")\n",
    "        if exc_type:\n",
    "            print(f\"Исключение: {exc_val}\")\n",
    "        return True  # Подавить исключение\n",
    "# ```\n",
    "\n",
    "# ---"
   ]
  },
  {
   "cell_type": "code",
   "execution_count": 2,
   "id": "bbe4aae6-93b5-4138-b5d4-5066576aa36a",
   "metadata": {},
   "outputs": [
    {
     "name": "stdout",
     "output_type": "stream",
     "text": [
      "Вход в контекст\n",
      "Внутри контекста\n",
      "Выход из контекста\n"
     ]
    }
   ],
   "source": [
    "## **3. Синтаксис `with`**\n",
    "# Конструкция `with` гарантирует вызов `__exit__` при любом выходе из блока (нормальном или через исключение):\n",
    "# ```python\n",
    "with MyContextManager() as cm:\n",
    "    print(\"Внутри контекста\")\n",
    "    # cm — объект, возвращённый __enter__\n",
    "# ```\n",
    "\n",
    "# ---"
   ]
  },
  {
   "cell_type": "code",
   "execution_count": 3,
   "id": "d96a9bee-dc41-499d-bf56-78735bd85ee7",
   "metadata": {},
   "outputs": [],
   "source": [
    "## **4. Теоретические аспекты**\n",
    "\n",
    "### **a. Безопасность ресурсов**\n",
    "# Контекстные менеджеры решают проблему **утечки ресурсов** (файлы, сокеты, БД), так как `__exit__` вызывается **всегда**, даже при:  \n",
    "# - Возврате (`return`).  \n",
    "# - Исключении.  \n",
    "# - Выходе из функции.  \n",
    "\n",
    "### **b. Иерархия контекстов**\n",
    "# Несколько менеджеров можно комбинировать:  \n",
    "# ```python\n",
    "# with open(\"a.txt\") as f1, open(\"b.txt\") as f2:\n",
    "    # Оба файла гарантированно закроются\n",
    "# ```\n",
    "\n",
    "### **c. Подавление исключений**\n",
    "# Если `__exit__` возвращает `True`, исключение не распространяется дальше.  \n",
    "# Пример подавления `ValueError`:  \n",
    "# ```python\n",
    "class SuppressValueError:\n",
    "    def __exit__(self, exc_type, exc_val, exc_tb):\n",
    "        return exc_type is ValueError  # Подавить только ValueError\n",
    "# ```\n",
    "\n",
    "# ---"
   ]
  },
  {
   "cell_type": "code",
   "execution_count": 4,
   "id": "5961704f-9281-456a-b327-b8f0ed97dbdd",
   "metadata": {},
   "outputs": [],
   "source": [
    "## **5. Встроенные контекстные менеджеры**\n",
    "# Python включает готовые менеджеры для частых задач:\n",
    "\n",
    "# | Менеджер                     | Ресурс                 |\n",
    "# |------------------------------|------------------------|\n",
    "# | `open(file)`                 | Файлы                  |\n",
    "# | `threading.Lock()`           | Блокировки потоков     |\n",
    "# | `contextlib.redirect_stdout` | Перенаправление вывода |\n",
    "# | `sqlite3.connect(db)`        | Соединения с БД        |\n",
    "\n",
    "# ---"
   ]
  },
  {
   "cell_type": "code",
   "execution_count": 5,
   "id": "ffeaa561-b13b-4e99-8336-061065c66e87",
   "metadata": {},
   "outputs": [],
   "source": [
    "## **6. Генераторы как контекстные менеджеры**\n",
    "# Модуль `contextlib` позволяет создавать менеджеры из генераторов через `@contextmanager`:  \n",
    "# ```python\n",
    "from contextlib import contextmanager\n",
    "\n",
    "@contextmanager\n",
    "def timer():\n",
    "    start = time.time()\n",
    "    try:\n",
    "        yield start  # Аналог __enter__\n",
    "    finally:\n",
    "        print(f\"Time: {time.time() - start}s\")  # Аналог __exit__\n",
    "# ```\n",
    "\n",
    "# **Принцип работы**:  \n",
    "# 1. Код до `yield` — инициализация (аналог `__enter__`).  \n",
    "# 2. `yield` возвращает объект для `as`.  \n",
    "# 3. Код после `yield` — очистка (аналог `__exit__`).  \n",
    "\n",
    "# ---"
   ]
  },
  {
   "cell_type": "code",
   "execution_count": 7,
   "id": "f7252f18-f2a3-4610-be03-e5ebddbcdd75",
   "metadata": {
    "collapsed": true,
    "jupyter": {
     "outputs_hidden": true
    }
   },
   "outputs": [
    {
     "ename": "NameError",
     "evalue": "name 'Resource' is not defined",
     "output_type": "error",
     "traceback": [
      "\u001b[1;31m---------------------------------------------------------------------------\u001b[0m",
      "\u001b[1;31mNameError\u001b[0m                                 Traceback (most recent call last)",
      "Cell \u001b[1;32mIn[7], line 4\u001b[0m\n\u001b[0;32m      1\u001b[0m \u001b[38;5;66;03m## **7. Математическая модель**\u001b[39;00m\n\u001b[0;32m      2\u001b[0m \u001b[38;5;66;03m# Контекстные менеджеры можно описать как **функции высшего порядка**, гарантирующие выполнение условий:  \u001b[39;00m\n\u001b[0;32m      3\u001b[0m \u001b[38;5;66;03m# ```\u001b[39;00m\n\u001b[1;32m----> 4\u001b[0m \u001b[38;5;28;01mwith\u001b[39;00m Resource() \u001b[38;5;28;01mas\u001b[39;00m r:\n\u001b[0;32m      5\u001b[0m     f(r)\n\u001b[0;32m      6\u001b[0m \u001b[38;5;66;03m# ```\u001b[39;00m\n\u001b[0;32m      7\u001b[0m \u001b[38;5;66;03m# Эквивалентно:  \u001b[39;00m\n\u001b[0;32m      8\u001b[0m \u001b[38;5;66;03m# ```\u001b[39;00m\n\u001b[0;32m      9\u001b[0m \u001b[38;5;66;03m# Resource().__enter__() → r  \u001b[39;00m\n",
      "\u001b[1;31mNameError\u001b[0m: name 'Resource' is not defined"
     ]
    }
   ],
   "source": [
    "## **7. Математическая модель**\n",
    "# Контекстные менеджеры можно описать как **функции высшего порядка**, гарантирующие выполнение условий:  \n",
    "# ```\n",
    "with Resource() as r:\n",
    "    f(r)\n",
    "# ```\n",
    "# Эквивалентно:  \n",
    "# ```\n",
    "Resource().__enter__() → r  \n",
    "try:  \n",
    "    f(r)  \n",
    "finally:  \n",
    "    Resource().__exit__()  \n",
    "# ```\n",
    "\n",
    "# ---"
   ]
  },
  {
   "cell_type": "code",
   "execution_count": null,
   "id": "fa1b06ba-d715-4ce0-8389-706aaef1fab2",
   "metadata": {},
   "outputs": [],
   "source": [
    "## **Заключение**\n",
    "# Контекстные менеджеры — это реализация **идиомы RAII** (Resource Acquisition Is Initialization) в Python:  \n",
    "# - **Инкапсулируют** логику управления ресурсами.  \n",
    "# - **Гарантируют** безопасность при исключениях.  \n",
    "# - **Упрощают** код, устраняя шаблонные `try/finally`.  \n",
    "\n",
    "# Их использование делает код **надежнее** и **чище**, особенно при работе с внешними ресурсами."
   ]
  },
  {
   "cell_type": "code",
   "execution_count": 8,
   "id": "451cc493-1e42-4c26-a955-b02258abe559",
   "metadata": {},
   "outputs": [],
   "source": [
    "## **8. Ограничения**\n",
    "# 1. **Нельзя войти в контекст дважды** без повторного вызова `with`.  \n",
    "# 2. **Состояние объекта** должно быть консистентным после `__exit__`.  \n",
    "# 3. **Вложенность** контекстов может усложнить отладку.  \n",
    "\n",
    "# ---"
   ]
  },
  {
   "cell_type": "markdown",
   "id": "305b2d28-bf23-405e-8c47-eb6fd4d2c7cf",
   "metadata": {},
   "source": [
    "# **Практические примеры использования контекстных менеджеров в Python**"
   ]
  },
  {
   "cell_type": "code",
   "execution_count": 9,
   "id": "1ab04e83-fdb6-425a-bdc8-a8c4ea132573",
   "metadata": {},
   "outputs": [],
   "source": [
    "# Контекстные менеджеры (`with`) в Python обеспечивают безопасное управление ресурсами. Вот **все основные практические применения** с примерами:\n",
    "\n",
    "# ---"
   ]
  },
  {
   "cell_type": "code",
   "execution_count": 10,
   "id": "51399b78-8466-4f4f-a74e-68b82ffdfa57",
   "metadata": {
    "collapsed": true,
    "jupyter": {
     "outputs_hidden": true
    },
    "scrolled": true
   },
   "outputs": [
    {
     "ename": "FileNotFoundError",
     "evalue": "[Errno 2] No such file or directory: 'data.txt'",
     "output_type": "error",
     "traceback": [
      "\u001b[1;31m---------------------------------------------------------------------------\u001b[0m",
      "\u001b[1;31mFileNotFoundError\u001b[0m                         Traceback (most recent call last)",
      "Cell \u001b[1;32mIn[10], line 6\u001b[0m\n\u001b[0;32m      1\u001b[0m \u001b[38;5;66;03m## **1. Работа с файлами**\u001b[39;00m\n\u001b[0;32m      2\u001b[0m \u001b[38;5;66;03m# Автоматическое закрытие файлов даже при возникновении исключений.\u001b[39;00m\n\u001b[0;32m      3\u001b[0m \n\u001b[0;32m      4\u001b[0m \u001b[38;5;66;03m# ```python\u001b[39;00m\n\u001b[0;32m      5\u001b[0m \u001b[38;5;66;03m# Чтение файла\u001b[39;00m\n\u001b[1;32m----> 6\u001b[0m \u001b[38;5;28;01mwith\u001b[39;00m \u001b[38;5;28mopen\u001b[39m(\u001b[38;5;124m'\u001b[39m\u001b[38;5;124mdata.txt\u001b[39m\u001b[38;5;124m'\u001b[39m, \u001b[38;5;124m'\u001b[39m\u001b[38;5;124mr\u001b[39m\u001b[38;5;124m'\u001b[39m) \u001b[38;5;28;01mas\u001b[39;00m file:\n\u001b[0;32m      7\u001b[0m     content \u001b[38;5;241m=\u001b[39m file\u001b[38;5;241m.\u001b[39mread()\n\u001b[0;32m      8\u001b[0m \u001b[38;5;66;03m# Файл закрыт автоматически\u001b[39;00m\n\u001b[0;32m      9\u001b[0m \n\u001b[0;32m     10\u001b[0m \u001b[38;5;66;03m# Запись в файл\u001b[39;00m\n",
      "File \u001b[1;32m~\\anaconda3\\Lib\\site-packages\\IPython\\core\\interactiveshell.py:324\u001b[0m, in \u001b[0;36m_modified_open\u001b[1;34m(file, *args, **kwargs)\u001b[0m\n\u001b[0;32m    317\u001b[0m \u001b[38;5;28;01mif\u001b[39;00m file \u001b[38;5;129;01min\u001b[39;00m {\u001b[38;5;241m0\u001b[39m, \u001b[38;5;241m1\u001b[39m, \u001b[38;5;241m2\u001b[39m}:\n\u001b[0;32m    318\u001b[0m     \u001b[38;5;28;01mraise\u001b[39;00m \u001b[38;5;167;01mValueError\u001b[39;00m(\n\u001b[0;32m    319\u001b[0m         \u001b[38;5;124mf\u001b[39m\u001b[38;5;124m\"\u001b[39m\u001b[38;5;124mIPython won\u001b[39m\u001b[38;5;124m'\u001b[39m\u001b[38;5;124mt let you open fd=\u001b[39m\u001b[38;5;132;01m{\u001b[39;00mfile\u001b[38;5;132;01m}\u001b[39;00m\u001b[38;5;124m by default \u001b[39m\u001b[38;5;124m\"\u001b[39m\n\u001b[0;32m    320\u001b[0m         \u001b[38;5;124m\"\u001b[39m\u001b[38;5;124mas it is likely to crash IPython. If you know what you are doing, \u001b[39m\u001b[38;5;124m\"\u001b[39m\n\u001b[0;32m    321\u001b[0m         \u001b[38;5;124m\"\u001b[39m\u001b[38;5;124myou can use builtins\u001b[39m\u001b[38;5;124m'\u001b[39m\u001b[38;5;124m open.\u001b[39m\u001b[38;5;124m\"\u001b[39m\n\u001b[0;32m    322\u001b[0m     )\n\u001b[1;32m--> 324\u001b[0m \u001b[38;5;28;01mreturn\u001b[39;00m io_open(file, \u001b[38;5;241m*\u001b[39margs, \u001b[38;5;241m*\u001b[39m\u001b[38;5;241m*\u001b[39mkwargs)\n",
      "\u001b[1;31mFileNotFoundError\u001b[0m: [Errno 2] No such file or directory: 'data.txt'"
     ]
    }
   ],
   "source": [
    "## **1. Работа с файлами**\n",
    "# Автоматическое закрытие файлов даже при возникновении исключений.\n",
    "\n",
    "# ```python\n",
    "# Чтение файла\n",
    "with open('data.txt', 'r') as file:\n",
    "    content = file.read()\n",
    "# Файл закрыт автоматически\n",
    "\n",
    "# Запись в файл\n",
    "with open('output.txt', 'w') as file:\n",
    "    file.write('Hello, World!')\n",
    "# ```\n",
    "\n",
    "# ---"
   ]
  },
  {
   "cell_type": "code",
   "execution_count": null,
   "id": "fb71d513-66cc-4807-adc5-206dca61a2d9",
   "metadata": {},
   "outputs": [],
   "source": [
    "## **2. Работа с базами данных**\n",
    "# Автоматическое закрытие соединений и транзакций.\n",
    "\n",
    "### SQLite\n",
    "# ```python\n",
    "import sqlite3\n",
    "\n",
    "with sqlite3.connect('database.db') as conn:\n",
    "    cursor = conn.cursor()\n",
    "    cursor.execute('SELECT * FROM users')\n",
    "    data = cursor.fetchall()\n",
    "# Соединение закрыто\n",
    "# ```\n",
    "\n",
    "### PostgreSQL (psycopg2)\n",
    "# ```python\n",
    "import psycopg2\n",
    "\n",
    "with psycopg2.connect(dbname='test', user='postgres') as conn:\n",
    "    with conn.cursor() as cursor:  # Вложенный контекст\n",
    "        cursor.execute('SELECT version()')\n",
    "# Соединение и курсор закрыты\n",
    "# ```\n",
    "\n",
    "# ---"
   ]
  },
  {
   "cell_type": "code",
   "execution_count": null,
   "id": "43995cc7-9686-4d5f-8d9c-68ab12103f7a",
   "metadata": {},
   "outputs": [],
   "source": [
    "## **3. Многопоточность: блокировки**\n",
    "# Автоматическое освобождение блокировок.\n",
    "\n",
    "# ```python\n",
    "import threading\n",
    "\n",
    "lock = threading.Lock()\n",
    "\n",
    "with lock:  # Захватываем блокировку\n",
    "    print('Критическая секция')\n",
    "# Блокировка освобождена\n",
    "# ```\n",
    "\n",
    "# ---"
   ]
  },
  {
   "cell_type": "code",
   "execution_count": null,
   "id": "3d9d9c2a-95cb-4fbe-b192-d394ac4931be",
   "metadata": {},
   "outputs": [],
   "source": [
    "## **4. Временные директории**\n",
    "# Автоматическое удаление временных файлов.\n",
    "\n",
    "# ```python\n",
    "import tempfile\n",
    "\n",
    "with tempfile.TemporaryDirectory() as tmp_dir:\n",
    "    print(f'Временная директория: {tmp_dir}')\n",
    "    # Файлы в tmp_dir будут удалены автоматически\n",
    "# ```\n",
    "\n",
    "# ---"
   ]
  },
  {
   "cell_type": "code",
   "execution_count": null,
   "id": "6f3c11da-5bd4-406d-a171-cdaf07f01be5",
   "metadata": {},
   "outputs": [],
   "source": [
    "## **5. Таймеры выполнения**\n",
    "# Замер времени выполнения блока кода.\n",
    "\n",
    "# ```python\n",
    "from contextlib import contextmanager\n",
    "import time\n",
    "\n",
    "@contextmanager\n",
    "def timer():\n",
    "    start = time.time()\n",
    "    yield\n",
    "    print(f'Время выполнения: {time.time() - start:.2f} сек')\n",
    "\n",
    "with timer():\n",
    "    # Долгая операция\n",
    "    time.sleep(1)\n",
    "# ```\n",
    "\n",
    "# ---"
   ]
  },
  {
   "cell_type": "code",
   "execution_count": null,
   "id": "afd0ac67-baa9-4a30-8e43-02aa18e898cd",
   "metadata": {},
   "outputs": [],
   "source": [
    "## **6. Перенаправление вывода**\n",
    "# Временное перенаправление `stdout`/`stderr`.\n",
    "\n",
    "# ```python\n",
    "from contextlib import redirect_stdout\n",
    "import io\n",
    "\n",
    "buffer = io.StringIO()\n",
    "\n",
    "with redirect_stdout(buffer):  # Перенаправляем вывод в buffer\n",
    "    print('Это не выведется в консоль')\n",
    "\n",
    "print(f'Захваченный вывод: {buffer.getvalue()}')\n",
    "# ```\n",
    "\n",
    "# ---"
   ]
  },
  {
   "cell_type": "code",
   "execution_count": null,
   "id": "cae6c0db-8d69-4339-b945-ff5aca634f28",
   "metadata": {},
   "outputs": [],
   "source": [
    "## **7. Изменение рабочей директории**\n",
    "# Временное изменение текущей директории.\n",
    "\n",
    "# ```python\n",
    "from contextlib import contextmanager\n",
    "import os\n",
    "\n",
    "@contextmanager\n",
    "def change_dir(path):\n",
    "    old_dir = os.getcwd()\n",
    "    os.chdir(path)\n",
    "    yield\n",
    "    os.chdir(old_dir)\n",
    "\n",
    "with change_dir('/tmp'):\n",
    "    print(f'Текущая директория: {os.getcwd()}')\n",
    "# Автоматически вернулись в исходную директорию\n",
    "# ```\n",
    "\n",
    "# ---"
   ]
  },
  {
   "cell_type": "code",
   "execution_count": null,
   "id": "0f3f1e52-d114-4a4a-89da-b8b92a28ca5b",
   "metadata": {},
   "outputs": [],
   "source": [
    "## **8. HTTP-сессии (requests)**\n",
    "# Автоматическое закрытие сессии.\n",
    "\n",
    "# ```python\n",
    "import requests\n",
    "\n",
    "with requests.Session() as session:\n",
    "    response = session.get('https://api.example.com/data')\n",
    "    print(response.json())\n",
    "# Сессия закрыта\n",
    "# ```\n",
    "\n",
    "# ---"
   ]
  },
  {
   "cell_type": "code",
   "execution_count": null,
   "id": "fbefd6cd-2ff4-4f03-8d42-9a573cb6673d",
   "metadata": {},
   "outputs": [],
   "source": [
    "## **9. Работа с matplotlib**\n",
    "# Автоматическое закрытие фигур.\n",
    "\n",
    "# ```python\n",
    "import matplotlib.pyplot as plt\n",
    "\n",
    "with plt.figure() as fig:\n",
    "    plt.plot([1, 2, 3])\n",
    "    plt.savefig('plot.png')\n",
    "# Ресурсы освобождены\n",
    "# ```\n",
    "\n",
    "# ---"
   ]
  },
  {
   "cell_type": "code",
   "execution_count": null,
   "id": "72d0dbed-e44b-480e-ad04-59ce342f4a3d",
   "metadata": {},
   "outputs": [],
   "source": [
    "## **10. Подавление исключений**\n",
    "# Временное игнорирование ошибок.\n",
    "\n",
    "# ```python\n",
    "from contextlib import suppress\n",
    "\n",
    "with suppress(FileNotFoundError):  # Игнорируем FileNotFoundError\n",
    "    os.remove('non_existent_file.txt')\n",
    "print('Программа продолжает работу')\n",
    "# ```\n",
    "\n",
    "# ---"
   ]
  },
  {
   "cell_type": "code",
   "execution_count": null,
   "id": "24c5dafb-6b66-42fd-b48d-454e83a8d6fe",
   "metadata": {},
   "outputs": [],
   "source": [
    "## **11. Сетевое программирование (сокеты)**\n",
    "# Автоматическое закрытие сокетов.\n",
    "\n",
    "# ```python\n",
    "import socket\n",
    "\n",
    "with socket.socket(socket.AF_INET, socket.SOCK_STREAM) as s:\n",
    "    s.connect(('example.com', 80))\n",
    "    s.sendall(b'GET / HTTP/1.1\\r\\nHost: example.com\\r\\n\\r\\n')\n",
    "    data = s.recv(1024)\n",
    "# Сокет закрыт\n",
    "# ```\n",
    "\n",
    "# ---"
   ]
  },
  {
   "cell_type": "code",
   "execution_count": null,
   "id": "70fa8c01-b369-420c-b261-d6c857f8584f",
   "metadata": {},
   "outputs": [],
   "source": [
    "## **12. Работа с zip-архивами**\n",
    "# Автоматическое закрытие архивов.\n",
    "\n",
    "# ```python\n",
    "import zipfile\n",
    "\n",
    "with zipfile.ZipFile('archive.zip', 'r') as zip_ref:\n",
    "    zip_ref.extractall('extracted_files')\n",
    "# Архив закрыт\n",
    "# ```\n",
    "\n",
    "# ---"
   ]
  },
  {
   "cell_type": "code",
   "execution_count": null,
   "id": "697ed6dc-9d37-400c-94c7-53be9fa17000",
   "metadata": {},
   "outputs": [],
   "source": [
    "## **13. Пользовательские контекстные менеджеры**\n",
    "# Создание собственных менеджеров.\n",
    "\n",
    "# ```python\n",
    "class DatabaseConnection:\n",
    "    def __enter__(self):\n",
    "        print('Подключение к БД')\n",
    "        return self\n",
    "    \n",
    "    def __exit__(self, exc_type, exc_val, exc_tb):\n",
    "        print('Отключение от БД')\n",
    "        if exc_type:\n",
    "            print(f'Ошибка: {exc_val}')\n",
    "        return True  # Подавить исключение\n",
    "\n",
    "with DatabaseConnection() as db:\n",
    "    print('Выполняем запросы')\n",
    "    # raise ValueError('Ошибка запроса')  # Будет подавлено\n",
    "# ```\n",
    "\n",
    "# ---"
   ]
  },
  {
   "cell_type": "code",
   "execution_count": 11,
   "id": "43a5a4cf-6275-40ac-8a38-d754fcf56a81",
   "metadata": {
    "collapsed": true,
    "jupyter": {
     "outputs_hidden": true
    },
    "scrolled": true
   },
   "outputs": [
    {
     "ename": "RuntimeError",
     "evalue": "asyncio.run() cannot be called from a running event loop",
     "output_type": "error",
     "traceback": [
      "\u001b[1;31m---------------------------------------------------------------------------\u001b[0m",
      "\u001b[1;31mRuntimeError\u001b[0m                              Traceback (most recent call last)",
      "Cell \u001b[1;32mIn[11], line 13\u001b[0m\n\u001b[0;32m     10\u001b[0m         \u001b[38;5;28;01masync\u001b[39;00m \u001b[38;5;28;01mwith\u001b[39;00m session\u001b[38;5;241m.\u001b[39mget(\u001b[38;5;124m'\u001b[39m\u001b[38;5;124mhttps://api.example.com/data\u001b[39m\u001b[38;5;124m'\u001b[39m) \u001b[38;5;28;01mas\u001b[39;00m resp:\n\u001b[0;32m     11\u001b[0m             \u001b[38;5;28;01mreturn\u001b[39;00m \u001b[38;5;28;01mawait\u001b[39;00m resp\u001b[38;5;241m.\u001b[39mjson()\n\u001b[1;32m---> 13\u001b[0m data \u001b[38;5;241m=\u001b[39m asyncio\u001b[38;5;241m.\u001b[39mrun(fetch_data())\n",
      "File \u001b[1;32m~\\anaconda3\\Lib\\asyncio\\runners.py:190\u001b[0m, in \u001b[0;36mrun\u001b[1;34m(main, debug, loop_factory)\u001b[0m\n\u001b[0;32m    161\u001b[0m \u001b[38;5;250m\u001b[39m\u001b[38;5;124;03m\"\"\"Execute the coroutine and return the result.\u001b[39;00m\n\u001b[0;32m    162\u001b[0m \n\u001b[0;32m    163\u001b[0m \u001b[38;5;124;03mThis function runs the passed coroutine, taking care of\u001b[39;00m\n\u001b[1;32m   (...)\u001b[0m\n\u001b[0;32m    186\u001b[0m \u001b[38;5;124;03m    asyncio.run(main())\u001b[39;00m\n\u001b[0;32m    187\u001b[0m \u001b[38;5;124;03m\"\"\"\u001b[39;00m\n\u001b[0;32m    188\u001b[0m \u001b[38;5;28;01mif\u001b[39;00m events\u001b[38;5;241m.\u001b[39m_get_running_loop() \u001b[38;5;129;01mis\u001b[39;00m \u001b[38;5;129;01mnot\u001b[39;00m \u001b[38;5;28;01mNone\u001b[39;00m:\n\u001b[0;32m    189\u001b[0m     \u001b[38;5;66;03m# fail fast with short traceback\u001b[39;00m\n\u001b[1;32m--> 190\u001b[0m     \u001b[38;5;28;01mraise\u001b[39;00m \u001b[38;5;167;01mRuntimeError\u001b[39;00m(\n\u001b[0;32m    191\u001b[0m         \u001b[38;5;124m\"\u001b[39m\u001b[38;5;124masyncio.run() cannot be called from a running event loop\u001b[39m\u001b[38;5;124m\"\u001b[39m)\n\u001b[0;32m    193\u001b[0m \u001b[38;5;28;01mwith\u001b[39;00m Runner(debug\u001b[38;5;241m=\u001b[39mdebug, loop_factory\u001b[38;5;241m=\u001b[39mloop_factory) \u001b[38;5;28;01mas\u001b[39;00m runner:\n\u001b[0;32m    194\u001b[0m     \u001b[38;5;28;01mreturn\u001b[39;00m runner\u001b[38;5;241m.\u001b[39mrun(main)\n",
      "\u001b[1;31mRuntimeError\u001b[0m: asyncio.run() cannot be called from a running event loop"
     ]
    }
   ],
   "source": [
    "## **14. Асинхронные контекстные менеджеры**\n",
    "# Для работы с `async/await`.\n",
    "\n",
    "# ```python\n",
    "import aiohttp\n",
    "import asyncio\n",
    "\n",
    "async def fetch_data():\n",
    "    async with aiohttp.ClientSession() as session:  # Асинхронный with\n",
    "        async with session.get('https://api.example.com/data') as resp:\n",
    "            return await resp.json()\n",
    "\n",
    "data = asyncio.run(fetch_data())\n",
    "# ```\n",
    "\n",
    "# ---"
   ]
  },
  {
   "cell_type": "code",
   "execution_count": null,
   "id": "f0eabfb1-aac4-4fe6-89d6-76038dc789eb",
   "metadata": {},
   "outputs": [],
   "source": [
    "## **15. Тестирование: мокирование**\n",
    "# Временная замена объектов при тестировании.\n",
    "\n",
    "# ```python\n",
    "from unittest.mock import patch\n",
    "\n",
    "with patch('module.function', return_value=42):\n",
    "    result = module.function()  # Вернет 42\n",
    "# Оригинальная function восстановлена\n",
    "# ```\n",
    "\n",
    "# ---"
   ]
  },
  {
   "cell_type": "code",
   "execution_count": null,
   "id": "288ef245-5cae-4e10-85bd-4e7c9f7b8097",
   "metadata": {},
   "outputs": [],
   "source": [
    "## **Итог**\n",
    "# Контекстные менеджеры применяются для:\n",
    "# 1. Управления **ресурсами** (файлы, сетевые соединения, БД).\n",
    "# 2. Обеспечения **безопасности** при исключениях.\n",
    "# 3. Временных **изменений состояния** (директории, настройки).\n",
    "# 4. **Автоматизации** повторяющихся операций (таймеры, логирование).\n",
    "\n",
    "# Их использование делает код **чище** и **надежнее**, избавляя от ручного управления жизненным циклом ресурсов."
   ]
  }
 ],
 "metadata": {
  "kernelspec": {
   "display_name": "Python 3 (ipykernel)",
   "language": "python",
   "name": "python3"
  },
  "language_info": {
   "codemirror_mode": {
    "name": "ipython",
    "version": 3
   },
   "file_extension": ".py",
   "mimetype": "text/x-python",
   "name": "python",
   "nbconvert_exporter": "python",
   "pygments_lexer": "ipython3",
   "version": "3.12.3"
  }
 },
 "nbformat": 4,
 "nbformat_minor": 5
}
