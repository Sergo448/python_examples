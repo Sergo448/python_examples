{
 "cells": [
  {
   "cell_type": "code",
   "execution_count": null,
   "id": "c284aba2-85a9-48f2-bf5e-44a72dc7dffb",
   "metadata": {},
   "outputs": [],
   "source": [
    "# **Цикл `while` в Python: теоретические основы**"
   ]
  },
  {
   "cell_type": "code",
   "execution_count": null,
   "id": "3361f93a-ec17-4073-8214-b1ccc9b02485",
   "metadata": {},
   "outputs": [],
   "source": [
    "# ---\n",
    "\n",
    "## **1. Определение и назначение**\n",
    "# Цикл `while` — это управляющая конструкция, которая выполняет блок кода **многократно**, пока заданное условие остается истинным (`True`).  \n",
    "# Основные сценарии использования:\n",
    "# - Когда количество итераций заранее неизвестно.\n",
    "# - Для обработки данных до достижения определенного состояния.\n",
    "# - Взаимодействие с пользователем (например, проверка ввода).\n",
    "\n",
    "# ---\n",
    "\n",
    "## **2. Синтаксис**\n",
    "# ```python\n",
    "# while условие:\n",
    "#     # Блок кода (тело цикла)\n",
    "# ```\n",
    "# - **Условие** — логическое выражение, которое проверяется **перед каждой итерацией**.\n",
    "# - Если условие вернет `True`, выполняется тело цикла.\n",
    "# - Если условие становится `False`, цикл завершается.\n",
    "\n",
    "# ---\n",
    "\n",
    "## **3. Принцип работы**\n",
    "# 1. Проверка условия.\n",
    "# 2. Если `True` → выполнение тела цикла.\n",
    "# 3. Повтор шагов 1–2 до тех пор, пока условие не станет `False`.\n",
    "\n",
    "# **Пример:**  \n",
    "# ```python\n",
    "count = 0\n",
    "while count < 5:\n",
    "    print(f\"Итерация {count}\")\n",
    "    count += 1\n",
    "# ```\n",
    "# **Вывод:**  \n",
    "# ```\n",
    "# Итерация 0\n",
    "# Итерация 1\n",
    "# Итерация 2\n",
    "# Итерация 3\n",
    "# Итерация 4\n",
    "# ```\n",
    "\n",
    "# ---\n",
    "\n",
    "## **4. Управление циклом**\n",
    "### **4.1. Оператор `break`**\n",
    "# Немедленно прерывает выполнение цикла:\n",
    "# ```python\n",
    "while True:\n",
    "    user_input = input(\"Введите 'stop': \")\n",
    "    if user_input == \"stop\":\n",
    "        break\n",
    "# ```\n",
    "\n",
    "### **4.2. Оператор `continue`**\n",
    "# Пропускает текущую итерацию и переходит к следующей проверке условия:\n",
    "# ```python\n",
    "num = 0\n",
    "while num < 5:\n",
    "    num += 1\n",
    "    if num % 2 == 0:\n",
    "        continue\n",
    "    print(num)  # Выведет 1, 3, 5\n",
    "# ```\n",
    "\n",
    "### **4.3. Блок `else`**\n",
    "# Выполняется **после завершения цикла**, если он не был прерван оператором `break`:\n",
    "# ```python\n",
    "attempt = 0\n",
    "while attempt < 3:\n",
    "    print(f\"Попытка {attempt + 1}\")\n",
    "    attempt += 1\n",
    "else:\n",
    "    print(\"Цикл завершен.\")\n",
    "# ```\n",
    "\n",
    "# ---\n",
    "\n",
    "## **5. Бесконечный цикл**\n",
    "# Цикл, условие которого всегда истинно. Для выхода используется `break`:\n",
    "# ```python\n",
    "while True:\n",
    "    response = input(\"Введите команду: \")\n",
    "    if response == \"exit\":\n",
    "        break\n",
    "# ```\n",
    "\n",
    "# ---\n",
    "\n",
    "## **6. Важные особенности**\n",
    "### **6.1. Изменение условий**\n",
    "# Условие может зависеть от переменных, которые модифицируются внутри цикла:\n",
    "# ```python\n",
    "total = 0\n",
    "while total < 100:\n",
    "    total += int(input(\"Введите число: \"))\n",
    "# ```\n",
    "\n",
    "### **6.2. Логические выражения**\n",
    "# Условие может включать сложные выражения с операторами `and`, `or`, `not`:\n",
    "# ```python\n",
    "x = 10\n",
    "y = 5\n",
    "while x > 0 and y < 20:\n",
    "    x -= 1\n",
    "    y += 3\n",
    "# ```\n",
    "\n",
    "# ---\n",
    "\n",
    "## **7. Типовые ошибки**\n",
    "### **7.1. Бесконечный цикл**\n",
    "# Если условие всегда `True`, а `break` отсутствует:\n",
    "# ```python\n",
    "# Ошибка!\n",
    "# count = 0\n",
    "# while count < 5:\n",
    "#     print(count)  # Переменная count не изменяется → цикл бесконечен\n",
    "# ```\n",
    "\n",
    "### **7.2. Неверное изменение переменных**\n",
    "# Неправильная логика обновления переменных условия:\n",
    "# ```python\n",
    "# Цикл выполнится 1 раз вместо 5\n",
    "# count = 0\n",
    "# while count < 5:\n",
    "#     print(count)\n",
    "#     count = 1  # Переменная всегда равна 1 → условие всегда True\n",
    "# ```\n",
    "\n",
    "# ---\n",
    "\n",
    "## **8. Примеры использования**\n",
    "### **8.1. Обработка пользовательского ввода**\n",
    "# ```python\n",
    "while True:\n",
    "    age = input(\"Введите возраст (или 'exit'): \")\n",
    "    if age == \"exit\":\n",
    "        break\n",
    "    if age.isdigit():\n",
    "        print(f\"Ваш возраст: {age}\")\n",
    "    else:\n",
    "        print(\"Ошибка! Введите число.\")\n",
    "# ```\n",
    "\n",
    "### **8.2. Чтение данных из файла**\n",
    "# ```python\n",
    "file = open(\"data.txt\", \"r\")\n",
    "line = file.readline()\n",
    "while line:\n",
    "    print(line.strip())\n",
    "    line = file.readline()\n",
    "file.close()\n",
    "# ```\n",
    "\n",
    "### **8.3. Имитация цикла `do-while`**\n",
    "# В Python нет цикла `do-while`, но его можно эмулировать:\n",
    "# ```python\n",
    "while True:\n",
    "    # Тело цикла\n",
    "    user_input = input(\"Введите 'да': \")\n",
    "    if user_input == \"да\":\n",
    "        break\n",
    "# ```\n",
    "\n",
    "# ---\n",
    "\n",
    "# ## **9. Заключение**\n",
    "# Цикл `while` — мощный инструмент для решения задач с неизвестным числом итераций.  \n",
    "# **Рекомендации:**\n",
    "# - Всегда проверяйте, чтобы условие могло стать `False`.\n",
    "# - Используйте `break` и `continue` для гибкого управления.\n",
    "# - Избегайте бесконечных циклов без механизма выхода."
   ]
  },
  {
   "cell_type": "markdown",
   "id": "e204dacb-526e-44c5-8e9e-bca91319e76a",
   "metadata": {},
   "source": [
    "# **Практические примеры цикла `while` в Python**"
   ]
  },
  {
   "cell_type": "code",
   "execution_count": 1,
   "id": "db1c5995-a0f8-4b99-ad53-8aa0786c5156",
   "metadata": {},
   "outputs": [],
   "source": [
    "# Цикл `while` в Python используется, когда количество итераций заранее неизвестно.\n",
    "# В этой статье разберем реальные кейсы применения `while` с подробными примерами и пояснениями.\n",
    "\n",
    "# ---"
   ]
  },
  {
   "cell_type": "code",
   "execution_count": 12,
   "id": "2a7e5fbe-e790-47a5-b6f5-06bcba6f5ad7",
   "metadata": {},
   "outputs": [
    {
     "name": "stdout",
     "output_type": "stream",
     "text": [
      "1\n",
      "2\n",
      "3\n",
      "4\n",
      "5\n"
     ]
    }
   ],
   "source": [
    "## **1. Простой счетчик**\n",
    "# **Задача:** Вывести числа от 1 до 5.  \n",
    "# ```python\n",
    "count = 1\n",
    "while count <= 5:\n",
    "    print(count)\n",
    "    count += 1  # Увеличиваем счетчик на 1\n",
    "# ```\n",
    "# **Вывод:**  \n",
    "# ```\n",
    "# 1\n",
    "# 2\n",
    "# 3\n",
    "# 4\n",
    "# 5\n",
    "# ```\n",
    "\n",
    "# ---"
   ]
  },
  {
   "cell_type": "code",
   "execution_count": 13,
   "id": "f507880b-297e-41f4-a835-94fc35a3c6b1",
   "metadata": {},
   "outputs": [
    {
     "name": "stdin",
     "output_type": "stream",
     "text": [
      "Введите число (0 для выхода):  5\n"
     ]
    },
    {
     "name": "stdout",
     "output_type": "stream",
     "text": [
      "Вы ввели: 5\n"
     ]
    },
    {
     "name": "stdin",
     "output_type": "stream",
     "text": [
      "Введите число (0 для выхода):  0\n"
     ]
    },
    {
     "name": "stdout",
     "output_type": "stream",
     "text": [
      "Вы ввели: 0\n"
     ]
    }
   ],
   "source": [
    "## **2. Обработка пользовательского ввода**\n",
    "# **Задача:** Запрашивать у пользователя число, пока не будет введен 0.  \n",
    "# ```python\n",
    "num = None\n",
    "while num != 0:\n",
    "    num = int(input(\"Введите число (0 для выхода): \"))\n",
    "    print(f\"Вы ввели: {num}\")\n",
    "# ```\n",
    "\n",
    "# ---"
   ]
  },
  {
   "cell_type": "code",
   "execution_count": 14,
   "id": "a9f52f37-fd6c-478b-9d8b-c3fbc81e47b4",
   "metadata": {},
   "outputs": [
    {
     "name": "stdin",
     "output_type": "stream",
     "text": [
      "Введите число от 1 до 100:  5\n"
     ]
    },
    {
     "name": "stdout",
     "output_type": "stream",
     "text": [
      "Спасибо!\n"
     ]
    }
   ],
   "source": [
    "## **3. Проверка корректности ввода**\n",
    "# **Задача:** Требовать ввода числа в диапазоне 1–100.  \n",
    "# ```python\n",
    "while True:\n",
    "    user_input = int(input(\"Введите число от 1 до 100: \"))\n",
    "    if 1 <= user_input <= 100:\n",
    "        print(\"Спасибо!\")\n",
    "        break\n",
    "    else:\n",
    "        print(\"Ошибка! Попробуйте снова.\")\n",
    "# ```\n",
    "\n",
    "# ---"
   ]
  },
  {
   "cell_type": "code",
   "execution_count": 9,
   "id": "55f196fa-031e-41e6-b35c-30474671f4ea",
   "metadata": {
    "collapsed": true,
    "jupyter": {
     "outputs_hidden": true
    }
   },
   "outputs": [
    {
     "ename": "FileNotFoundError",
     "evalue": "[Errno 2] No such file or directory: 'data.txt'",
     "output_type": "error",
     "traceback": [
      "\u001b[1;31m---------------------------------------------------------------------------\u001b[0m",
      "\u001b[1;31mFileNotFoundError\u001b[0m                         Traceback (most recent call last)",
      "Cell \u001b[1;32mIn[9], line 4\u001b[0m\n\u001b[0;32m      1\u001b[0m \u001b[38;5;66;03m## **4. Чтение данных из файла**\u001b[39;00m\n\u001b[0;32m      2\u001b[0m \u001b[38;5;66;03m# **Задача:** Читать файл построчно до конца.  \u001b[39;00m\n\u001b[0;32m      3\u001b[0m \u001b[38;5;66;03m# ```python\u001b[39;00m\n\u001b[1;32m----> 4\u001b[0m file \u001b[38;5;241m=\u001b[39m \u001b[38;5;28mopen\u001b[39m(\u001b[38;5;124m\"\u001b[39m\u001b[38;5;124mdata.txt\u001b[39m\u001b[38;5;124m\"\u001b[39m, \u001b[38;5;124m\"\u001b[39m\u001b[38;5;124mr\u001b[39m\u001b[38;5;124m\"\u001b[39m)\n\u001b[0;32m      5\u001b[0m \u001b[38;5;28;01mwhile\u001b[39;00m \u001b[38;5;28;01mTrue\u001b[39;00m:\n\u001b[0;32m      6\u001b[0m     line \u001b[38;5;241m=\u001b[39m file\u001b[38;5;241m.\u001b[39mreadline()\n",
      "File \u001b[1;32m~\\anaconda3\\Lib\\site-packages\\IPython\\core\\interactiveshell.py:324\u001b[0m, in \u001b[0;36m_modified_open\u001b[1;34m(file, *args, **kwargs)\u001b[0m\n\u001b[0;32m    317\u001b[0m \u001b[38;5;28;01mif\u001b[39;00m file \u001b[38;5;129;01min\u001b[39;00m {\u001b[38;5;241m0\u001b[39m, \u001b[38;5;241m1\u001b[39m, \u001b[38;5;241m2\u001b[39m}:\n\u001b[0;32m    318\u001b[0m     \u001b[38;5;28;01mraise\u001b[39;00m \u001b[38;5;167;01mValueError\u001b[39;00m(\n\u001b[0;32m    319\u001b[0m         \u001b[38;5;124mf\u001b[39m\u001b[38;5;124m\"\u001b[39m\u001b[38;5;124mIPython won\u001b[39m\u001b[38;5;124m'\u001b[39m\u001b[38;5;124mt let you open fd=\u001b[39m\u001b[38;5;132;01m{\u001b[39;00mfile\u001b[38;5;132;01m}\u001b[39;00m\u001b[38;5;124m by default \u001b[39m\u001b[38;5;124m\"\u001b[39m\n\u001b[0;32m    320\u001b[0m         \u001b[38;5;124m\"\u001b[39m\u001b[38;5;124mas it is likely to crash IPython. If you know what you are doing, \u001b[39m\u001b[38;5;124m\"\u001b[39m\n\u001b[0;32m    321\u001b[0m         \u001b[38;5;124m\"\u001b[39m\u001b[38;5;124myou can use builtins\u001b[39m\u001b[38;5;124m'\u001b[39m\u001b[38;5;124m open.\u001b[39m\u001b[38;5;124m\"\u001b[39m\n\u001b[0;32m    322\u001b[0m     )\n\u001b[1;32m--> 324\u001b[0m \u001b[38;5;28;01mreturn\u001b[39;00m io_open(file, \u001b[38;5;241m*\u001b[39margs, \u001b[38;5;241m*\u001b[39m\u001b[38;5;241m*\u001b[39mkwargs)\n",
      "\u001b[1;31mFileNotFoundError\u001b[0m: [Errno 2] No such file or directory: 'data.txt'"
     ]
    }
   ],
   "source": [
    "## **4. Чтение данных из файла**\n",
    "# **Задача:** Читать файл построчно до конца.  \n",
    "# ```python\n",
    "file = open(\"data.txt\", \"r\")\n",
    "while True:\n",
    "    line = file.readline()\n",
    "    if not line:  # Если строки закончились\n",
    "        break\n",
    "    print(line.strip())\n",
    "file.close()\n",
    "# ```\n",
    "\n",
    "# ---"
   ]
  },
  {
   "cell_type": "code",
   "execution_count": 8,
   "id": "8be7162d-e4e5-415e-a4c7-184430c36315",
   "metadata": {},
   "outputs": [
    {
     "name": "stdin",
     "output_type": "stream",
     "text": [
      "Угадайте число (1-10):  5\n"
     ]
    },
    {
     "name": "stdout",
     "output_type": "stream",
     "text": [
      "Осталось попыток: 2\n"
     ]
    },
    {
     "name": "stdin",
     "output_type": "stream",
     "text": [
      "Угадайте число (1-10):  6\n"
     ]
    },
    {
     "name": "stdout",
     "output_type": "stream",
     "text": [
      "Осталось попыток: 1\n"
     ]
    },
    {
     "name": "stdin",
     "output_type": "stream",
     "text": [
      "Угадайте число (1-10):  7\n"
     ]
    },
    {
     "name": "stdout",
     "output_type": "stream",
     "text": [
      "Осталось попыток: 0\n",
      "Поражение! Число было: 1\n"
     ]
    }
   ],
   "source": [
    "## **5. Игра «Угадай число»**\n",
    "# **Задача:** Пользователь угадывает число от 1 до 10.  \n",
    "# ```python\n",
    "import random\n",
    "secret = random.randint(1, 10)\n",
    "attempts = 3\n",
    "\n",
    "while attempts > 0:\n",
    "    guess = int(input(\"Угадайте число (1-10): \"))\n",
    "    if guess == secret:\n",
    "        print(\"Победа!\")\n",
    "        break\n",
    "    else:\n",
    "        attempts -= 1\n",
    "        print(f\"Осталось попыток: {attempts}\")\n",
    "else:\n",
    "    print(f\"Поражение! Число было: {secret}\")\n",
    "# ```\n",
    "\n",
    "# ---"
   ]
  },
  {
   "cell_type": "code",
   "execution_count": 7,
   "id": "70cc8933-a7b0-4741-90a4-7552f074c4cb",
   "metadata": {},
   "outputs": [
    {
     "name": "stdout",
     "output_type": "stream",
     "text": [
      "Съели: яблоко\n",
      "Съели: банан\n",
      "Съели: апельсин\n",
      "Фруктов не осталось!\n"
     ]
    }
   ],
   "source": [
    "## **6. Обработка списка**\n",
    "# **Задача:** Удалять элементы из списка, пока он не станет пустым.  \n",
    "# ```python\n",
    "fruits = [\"яблоко\", \"банан\", \"апельсин\"]\n",
    "while fruits:\n",
    "    print(f\"Съели: {fruits.pop(0)}\")\n",
    "print(\"Фруктов не осталось!\")\n",
    "# ```\n",
    "# **Вывод:**  \n",
    "# ```\n",
    "# Съели: яблоко\n",
    "# Съели: банан\n",
    "# Съели: апельсин\n",
    "# Фруктов не осталось!\n",
    "# ```\n",
    "\n",
    "# ---"
   ]
  },
  {
   "cell_type": "code",
   "execution_count": 6,
   "id": "941d626d-e48b-43c2-82f8-ff778695a5ca",
   "metadata": {},
   "outputs": [
    {
     "name": "stdout",
     "output_type": "stream",
     "text": [
      "10\n",
      "9\n",
      "10\n",
      "5\n",
      "6\n",
      "9\n",
      "8\n",
      "10\n",
      "10\n",
      "2\n",
      "3\n",
      "7\n",
      "Стоп!\n"
     ]
    }
   ],
   "source": [
    "## **7. Бесконечный цикл с выходом по условию**\n",
    "# **Задача:** Выводить случайные числа, пока не выпадет 7.  \n",
    "# ```python\n",
    "import random\n",
    "while True:\n",
    "    num = random.randint(1, 10)\n",
    "    print(num)\n",
    "    if num == 7:\n",
    "        print(\"Стоп!\")\n",
    "        break\n",
    "# ```\n",
    "\n",
    "# ---"
   ]
  },
  {
   "cell_type": "code",
   "execution_count": 5,
   "id": "23432b14-d858-4e1d-9413-a89717cd8e1c",
   "metadata": {},
   "outputs": [
    {
     "name": "stdout",
     "output_type": "stream",
     "text": [
      "Осталось: 10 сек.\n",
      "Осталось: 9 сек.\n",
      "Осталось: 8 сек.\n",
      "Осталось: 7 сек.\n",
      "Осталось: 6 сек.\n",
      "Осталось: 5 сек.\n",
      "Осталось: 4 сек.\n",
      "Осталось: 3 сек.\n",
      "Осталось: 2 сек.\n",
      "Осталось: 1 сек.\n",
      "Осталось: 0 сек.\n",
      "Время вышло!\n"
     ]
    }
   ],
   "source": [
    "## **8. Таймер обратного отсчета**\n",
    "# **Задача:** Вывести обратный отсчет от 10 до 0.  \n",
    "# ```python\n",
    "timer = 10\n",
    "while timer >= 0:\n",
    "    print(f\"Осталось: {timer} сек.\")\n",
    "    timer -= 1\n",
    "print(\"Время вышло!\")\n",
    "# ```\n",
    "\n",
    "# ---"
   ]
  },
  {
   "cell_type": "code",
   "execution_count": 4,
   "id": "a1bbe3ba-d689-444c-8fe1-8f2302f8257e",
   "metadata": {},
   "outputs": [
    {
     "name": "stdout",
     "output_type": "stream",
     "text": [
      "1. Начать игру\n",
      "2. Настройки\n",
      "3. Выход\n"
     ]
    },
    {
     "name": "stdin",
     "output_type": "stream",
     "text": [
      "Выберите пункт:  3\n"
     ]
    },
    {
     "name": "stdout",
     "output_type": "stream",
     "text": [
      "Выход...\n"
     ]
    }
   ],
   "source": [
    "## **9. Вложенные циклы while**\n",
    "# **Задача:** Симулятор меню с подпунктами.  \n",
    "# ```python\n",
    "while True:\n",
    "    print(\"1. Начать игру\")\n",
    "    print(\"2. Настройки\")\n",
    "    print(\"3. Выход\")\n",
    "    choice = input(\"Выберите пункт: \")\n",
    "\n",
    "    if choice == \"1\":\n",
    "        print(\"Игра началась!\")\n",
    "    elif choice == \"2\":\n",
    "        while True:\n",
    "            print(\"1. Громкость\")\n",
    "            print(\"2. Язык\")\n",
    "            print(\"3. Назад\")\n",
    "            sub_choice = input(\"Выберите настройку: \")\n",
    "            if sub_choice == \"3\":\n",
    "                break\n",
    "    elif choice == \"3\":\n",
    "        print(\"Выход...\")\n",
    "        break\n",
    "# ```\n",
    "\n",
    "# ---"
   ]
  },
  {
   "cell_type": "code",
   "execution_count": 3,
   "id": "185e133d-6fcb-4ccd-967f-8451f5253cf5",
   "metadata": {},
   "outputs": [
    {
     "name": "stdin",
     "output_type": "stream",
     "text": [
      "Введите число:  99\n"
     ]
    },
    {
     "name": "stdout",
     "output_type": "stream",
     "text": [
      "Текущая сумма: 99\n"
     ]
    },
    {
     "name": "stdin",
     "output_type": "stream",
     "text": [
      "Введите число:  700\n"
     ]
    },
    {
     "name": "stdout",
     "output_type": "stream",
     "text": [
      "Текущая сумма: 799\n",
      "Предел достигнут!\n"
     ]
    }
   ],
   "source": [
    "## **10. Обработка данных с условием**\n",
    "# **Задача:** Суммировать числа, пока сумма не превысит 100.  \n",
    "# ```python\n",
    "total = 0\n",
    "while total <= 100:\n",
    "    num = int(input(\"Введите число: \"))\n",
    "    total += num\n",
    "    print(f\"Текущая сумма: {total}\")\n",
    "print(\"Предел достигнут!\")\n",
    "# ```\n",
    "\n",
    "# ---"
   ]
  },
  {
   "cell_type": "markdown",
   "id": "160407f7-1146-4457-8d5f-fd0d8230d3e6",
   "metadata": {},
   "source": [
    "## **Итоги**"
   ]
  },
  {
   "cell_type": "code",
   "execution_count": 15,
   "id": "9e689fd8-82d2-4c13-ae79-dbb12573b215",
   "metadata": {},
   "outputs": [],
   "source": [
    "# - **`while`** идеален для задач с неизвестным числом итераций.\n",
    "# - Используйте **`break`** для выхода и **`continue`** для пропуска итераций.\n",
    "# - Всегда проверяйте, чтобы условие могло стать **`False`**, иначе цикл станет бесконечным.\n",
    "\n",
    "# **Совет:** Для отладки добавляйте временные `print()`, чтобы отслеживать изменения переменных."
   ]
  },
  {
   "cell_type": "code",
   "execution_count": null,
   "id": "4d2db268-fb2b-4ca4-be4e-383cc774df82",
   "metadata": {},
   "outputs": [],
   "source": []
  }
 ],
 "metadata": {
  "kernelspec": {
   "display_name": "Python 3 (ipykernel)",
   "language": "python",
   "name": "python3"
  },
  "language_info": {
   "codemirror_mode": {
    "name": "ipython",
    "version": 3
   },
   "file_extension": ".py",
   "mimetype": "text/x-python",
   "name": "python",
   "nbconvert_exporter": "python",
   "pygments_lexer": "ipython3",
   "version": "3.12.3"
  }
 },
 "nbformat": 4,
 "nbformat_minor": 5
}
