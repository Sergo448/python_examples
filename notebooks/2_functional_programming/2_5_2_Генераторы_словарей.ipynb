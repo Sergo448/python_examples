{
 "cells": [
  {
   "cell_type": "markdown",
   "id": "ac9bc0dd-5cdd-406c-a9fa-55b1e0b74bf2",
   "metadata": {},
   "source": [
    "# **Генераторы словарей в Python: полное руководство с примерами**"
   ]
  },
  {
   "cell_type": "code",
   "execution_count": 1,
   "id": "055d35e7-7df7-4fac-b010-3578eebb4430",
   "metadata": {},
   "outputs": [],
   "source": [
    "# Генераторы словарей (dictionary comprehensions) — это элегантный и эффективный способ\n",
    "# создания словарей в Python, который сочетает лаконичность синтаксиса с \n",
    "# высокой производительностью. Они представляют собой \"питонический\" способ преобразования\n",
    "# и фильтрации данных при создании словарей."
   ]
  },
  {
   "cell_type": "code",
   "execution_count": 3,
   "id": "ed58e060-8bb8-4e09-ada5-7ffa2a2a321f",
   "metadata": {},
   "outputs": [
    {
     "name": "stdout",
     "output_type": "stream",
     "text": [
      "{1: 1, 2: 4, 3: 9, 4: 16}\n"
     ]
    }
   ],
   "source": [
    "## **1. Базовый синтаксис**\n",
    "\n",
    "# Стандартная форма генератора словаря:\n",
    "# ```python\n",
    "# {key_expression: value_expression for item in iterable}\n",
    "# ```\n",
    "\n",
    "# **Простой пример:**\n",
    "# ```python\n",
    "numbers = [1, 2, 3, 4]\n",
    "squares_dict = {x: x**2 for x in numbers}\n",
    "print(squares_dict)  # {1: 1, 2: 4, 3: 9, 4: 16}\n",
    "# ```"
   ]
  },
  {
   "cell_type": "code",
   "execution_count": 4,
   "id": "79a8e519-fc80-4c6f-8c20-67b08327f8f6",
   "metadata": {},
   "outputs": [],
   "source": [
    "## **2. Основные варианты использования**\n",
    "\n",
    "### **2.1 Создание словаря из списка**\n",
    "# ```python\n",
    "fruits = ['apple', 'banana', 'cherry']\n",
    "fruit_lengths = {fruit: len(fruit) for fruit in fruits}\n",
    "# {'apple': 5, 'banana': 6, 'cherry': 6}\n",
    "# ```\n",
    "\n",
    "### **2.2 С условием (фильтрация)**\n",
    "# ```python\n",
    "numbers = [1, 2, 3, 4, 5, 6]\n",
    "even_squares = {x: x**2 for x in numbers if x % 2 == 0}\n",
    "# {2: 4, 4: 16, 6: 36}\n",
    "# ```\n",
    "\n",
    "### **2.3 Обработка пар ключ-значение**\n",
    "# ```python\n",
    "old_dict = {'a': 1, 'b': 2, 'c': 3}\n",
    "new_dict = {k: v*2 for (k, v) in old_dict.items()}\n",
    "# {'a': 2, 'b': 4, 'c': 6}\n",
    "# ```\n",
    "\n",
    "### **2.4 Трансформация ключей и значений**\n",
    "# ```python\n",
    "user = {'name': 'Alice', 'age': 30, 'city': 'New York'}\n",
    "prefixed_keys = {f'user_{key}': str(value).upper() for key, value in user.items()}\n",
    "# {'user_name': 'ALICE', 'user_age': '30', 'user_city': 'NEW YORK'}\n",
    "# ```"
   ]
  },
  {
   "cell_type": "code",
   "execution_count": 5,
   "id": "127e2ba8-69f5-4bb9-80ed-88bb22275dfd",
   "metadata": {},
   "outputs": [],
   "source": [
    "## **3. Продвинутые техники**\n",
    "\n",
    "### **3.1 Вложенные генераторы словарей**\n",
    "# ```python\n",
    "matrix = [[1, 2], [3, 4], [5, 6]]\n",
    "flattened = {f'pos_{i}_{j}': matrix[i][j] \n",
    "            for i in range(len(matrix)) \n",
    "            for j in range(len(matrix[i]))}\n",
    "# {'pos_0_0': 1, 'pos_0_1': 2, 'pos_1_0': 3, ...}\n",
    "# ```\n",
    "\n",
    "### **3.2 Слияние словарей с условием**\n",
    "# ```python\n",
    "dict1 = {'a': 1, 'b': 2}\n",
    "dict2 = {'b': 3, 'c': 4}\n",
    "merged = {k: dict2.get(k, v) for k, v in dict1.items()}\n",
    "# {'a': 1, 'b': 3}\n",
    "# ```\n",
    "\n",
    "### **3.3 Обработка двух списков в словарь**\n",
    "# ```python\n",
    "keys = ['id', 'name', 'email']\n",
    "values = [101, 'Alice', 'alice@example.com']\n",
    "user_dict = {keys[i]: values[i] for i in range(len(keys))}\n",
    "# {'id': 101, 'name': 'Alice', 'email': 'alice@example.com'}\n",
    "# ```"
   ]
  },
  {
   "cell_type": "code",
   "execution_count": 6,
   "id": "64ce312d-1bb9-416b-bffc-d8e8bc613df7",
   "metadata": {},
   "outputs": [],
   "source": [
    "## **4. Практические примеры**\n",
    "\n",
    "### **4.1 Обработка JSON-данных**\n",
    "# ```python\n",
    "import json\n",
    "\n",
    "json_data = '''\n",
    "[\n",
    "    {\"id\": 1, \"name\": \"Alice\", \"active\": true},\n",
    "    {\"id\": 2, \"name\": \"Bob\", \"active\": false},\n",
    "    {\"id\": 3, \"name\": \"Carol\", \"active\": true}\n",
    "]\n",
    "'''\n",
    "\n",
    "users = json.loads(json_data)\n",
    "active_users = {user['id']: user['name'] for user in users if user['active']}\n",
    "# {1: 'Alice', 3: 'Carol'}\n",
    "# ```\n",
    "\n",
    "### **4.2 Инверсия словаря (ключ ↔ значение)**\n",
    "# ```python\n",
    "original = {'a': 1, 'b': 2, 'c': 3}\n",
    "inverted = {v: k for k, v in original.items()}\n",
    "# {1: 'a', 2: 'b', 3: 'c'}\n",
    "# ```\n",
    "\n",
    "### **4.3 Нормализация данных**\n",
    "# ```python\n",
    "data = {'PRICE': 100, 'QUANTITY': 5, 'DISCOUNT': 0.1}\n",
    "normalized = {k.lower(): float(v) for k, v in data.items()}\n",
    "# {'price': 100.0, 'quantity': 5.0, 'discount': 0.1}\n",
    "# ```"
   ]
  },
  {
   "cell_type": "code",
   "execution_count": 7,
   "id": "4a3976c8-d210-477d-af2b-ab053fe3584d",
   "metadata": {},
   "outputs": [
    {
     "name": "stdout",
     "output_type": "stream",
     "text": [
      "0.1073904000222683\n",
      "0.09564449999015778\n"
     ]
    }
   ],
   "source": [
    "## **5. Производительность и оптимизация**\n",
    "\n",
    "### **5.1 Сравнение с dict() и циклами**\n",
    "# Генераторы словарей работают быстрее традиционных методов:\n",
    "\n",
    "# ```python\n",
    "# Тест производительности\n",
    "import timeit\n",
    "\n",
    "# Вариант с циклом\n",
    "def with_loop():\n",
    "    result = {}\n",
    "    for x in range(1000):\n",
    "        result[x] = x**2\n",
    "    return result\n",
    "\n",
    "# Вариант с генератором\n",
    "def with_comprehension():\n",
    "    return {x: x**2 for x in range(1000)}\n",
    "\n",
    "print(timeit.timeit(with_loop, number=1000))        # ~0.12 сек\n",
    "print(timeit.timeit(with_comprehension, number=1000)) # ~0.08 сек\n",
    "# ```\n",
    "\n",
    "### **5.2 Когда использовать альтернативы**\n",
    "# 1. **Очень сложная логика** — обычный цикл может быть читаемее\n",
    "# 2. **Динамическое создание ключей** — когда ключи заранее неизвестны\n",
    "# 3. **Побочные эффекты** — генераторы предназначены для чистых преобразований"
   ]
  },
  {
   "cell_type": "code",
   "execution_count": 8,
   "id": "6914bac6-2984-4538-9599-2f03e1b138d3",
   "metadata": {},
   "outputs": [],
   "source": [
    "## **6. Полезные паттерны**\n",
    "\n",
    "### **6.1 Подсчет частоты элементов**\n",
    "# ```python\n",
    "words = [\"apple\", \"banana\", \"apple\", \"cherry\", \"banana\", \"apple\"]\n",
    "word_counts = {word: words.count(word) for word in set(words)}\n",
    "# {'apple': 3, 'banana': 2, 'cherry': 1}\n",
    "# ```\n",
    "\n",
    "### **6.2 Создание конфигурационных словарей**\n",
    "# ```python\n",
    "params = ['timeout', 'retries', 'debug']\n",
    "defaults = [30, 3, False]\n",
    "config = {param: default for param, default in zip(params, defaults)}\n",
    "# {'timeout': 30, 'retries': 3, 'debug': False}\n",
    "# ```\n",
    "\n",
    "### **6.3 Фильтрация None-значений**\n",
    "# ```python\n",
    "data = {'name': 'Alice', 'age': None, 'email': 'alice@example.com'}\n",
    "clean_data = {k: v for k, v in data.items() if v is not None}\n",
    "# {'name': 'Alice', 'email': 'alice@example.com'}\n",
    "# ```"
   ]
  },
  {
   "cell_type": "code",
   "execution_count": 9,
   "id": "306489b2-695e-450d-85dd-d5a2d0242218",
   "metadata": {},
   "outputs": [],
   "source": [
    "## **7. Ограничения и подводные камни**\n",
    "\n",
    "# 1. **Уникальность ключей** — последнее значение перезаписывает предыдущее:\n",
    "#    ```python\n",
    "#    data = [('a', 1), ('b', 2), ('a', 3)]\n",
    "#    result = {k: v for k, v in data}  # {'a': 3, 'b': 2}\n",
    "#    ```\n",
    "\n",
    "# 2. **Читаемость сложных выражений** — иногда лучше использовать цикл\n",
    "\n",
    "# 3. **Порядок элементов** — гарантированно сохраняется с Python 3.7+"
   ]
  },
  {
   "cell_type": "code",
   "execution_count": 10,
   "id": "9d604903-30e5-4ccf-a63a-700a6954ba10",
   "metadata": {},
   "outputs": [],
   "source": [
    "## **8. Лучшие практики**\n",
    "\n",
    "# 1. **Поддерживайте читаемость** — разбивайте сложные генераторы\n",
    "# 2. **Используйте осмысленные имена** переменных в выражениях\n",
    "# 3. **Избегайте глубокой вложенности** — максимум 2 уровня\n",
    "# 4. **Комбинируйте с другими генераторами** для сложных преобразований\n",
    "\n",
    "# **Плохой пример (слишком сложно):**\n",
    "# ```python\n",
    "{(x, y): x*y for x in range(10) if x % 2 == 0 for y in range(10) if y % 3 == 0}\n",
    "# ```\n",
    "\n",
    "# **Улучшенная версия:**\n",
    "# ```python\n",
    "even_numbers = [x for x in range(10) if x % 2 == 0]\n",
    "multiples_of_3 = [y for y in range(10) if y % 3 == 0]\n",
    "coordinates = {(x, y): x*y for x in even_numbers for y in multiples_of_3}\n",
    "# ```"
   ]
  },
  {
   "cell_type": "code",
   "execution_count": 11,
   "id": "382bf102-9539-4277-9c17-a124c3e77fb0",
   "metadata": {},
   "outputs": [],
   "source": [
    "## **Заключение**\n",
    "\n",
    "# Генераторы словарей — мощный инструмент Python, который:\n",
    "# - Делает код более читаемым и выразительным\n",
    "# - Повышает производительность операций\n",
    "# - Упрощает создание и преобразование словарей\n",
    "\n",
    "# **Идеальные сценарии использования:**\n",
    "# - Преобразование данных из одного формата в другой\n",
    "# - Фильтрация и очистка словарей\n",
    "# - Создание производных структур данных\n",
    "# - Обработка JSON и конфигураций\n",
    "\n",
    "# **Пример из реальной практики (Django):**\n",
    "# ```python\n",
    "# # Преобразование QuerySet в словарь\n",
    "# from django.contrib.auth.models import User\n",
    "# users_dict = {user.id: user.username for user in User.objects.all()}\n",
    "# ```\n",
    "\n",
    "# Освоив генераторы словарей, вы сможете писать более чистый, эффективный и \"питоничный\" код при работе со словарями!"
   ]
  }
 ],
 "metadata": {
  "kernelspec": {
   "display_name": "Python 3 (ipykernel)",
   "language": "python",
   "name": "python3"
  },
  "language_info": {
   "codemirror_mode": {
    "name": "ipython",
    "version": 3
   },
   "file_extension": ".py",
   "mimetype": "text/x-python",
   "name": "python",
   "nbconvert_exporter": "python",
   "pygments_lexer": "ipython3",
   "version": "3.12.3"
  }
 },
 "nbformat": 4,
 "nbformat_minor": 5
}
