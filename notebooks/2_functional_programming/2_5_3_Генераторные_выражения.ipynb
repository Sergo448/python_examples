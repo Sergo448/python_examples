{
 "cells": [
  {
   "cell_type": "markdown",
   "id": "1a9a3c84-2ae0-4e5c-861e-77f515978e9b",
   "metadata": {},
   "source": [
    "# **Генераторные выражения в Python: полное руководство с примерами**"
   ]
  },
  {
   "cell_type": "code",
   "execution_count": 1,
   "id": "19dde50f-b6e5-4aac-b20f-b0cf57687f68",
   "metadata": {},
   "outputs": [],
   "source": [
    "# Генераторные выражения (generator expressions) — это мощный инструмент Python для создания \n",
    "# итераторов с минимальным потреблением памяти. Они похожи на генераторы \n",
    "# списков, но работают \"лениво\", вычисляя элементы по требованию, что делает их \n",
    "# идеальными для обработки больших объемов данных."
   ]
  },
  {
   "cell_type": "code",
   "execution_count": 2,
   "id": "fdc0ca9a-fcf7-4aa0-b72c-eeaa5c27d06e",
   "metadata": {},
   "outputs": [],
   "source": [
    "## **1. Основные концепции**\n",
    "\n",
    "### **1.1 Что такое генераторное выражение?**\n",
    "# Генераторное выражение — это компактный синтаксис для создания генераторов (итераторов)\n",
    "# без явного написания функции с `yield`.\n",
    "\n",
    "# **Базовый синтаксис:**\n",
    "# ```python\n",
    "# (expression for item in iterable)\n",
    "# ```\n",
    "\n",
    "### **1.2 Отличие от генераторов списков**\n",
    "# | Характеристика       | Генератор списка          | Генераторное выражение    |\n",
    "# |----------------------|---------------------------|---------------------------|\n",
    "# | Синтаксис            | `[x for x in range(10)]`  | `(x for x in range(10))`  |\n",
    "# | Возвращаемый тип     | Список                    | Итератор (генератор)      |\n",
    "# | Память               | Хранит все элементы       | Генерирует \"на лету\"      |\n",
    "# | Оценка               | Сразу (энергичная)        | По требованию (ленивая)   |"
   ]
  },
  {
   "cell_type": "code",
   "execution_count": 3,
   "id": "ca43c121-b22e-4762-99f7-5612781a1984",
   "metadata": {},
   "outputs": [
    {
     "name": "stdout",
     "output_type": "stream",
     "text": [
      "0\n",
      "1\n",
      "[0, 2, 4, 6, 8]\n",
      "30\n"
     ]
    }
   ],
   "source": [
    "## **2. Базовые примеры**\n",
    "\n",
    "### **2.1 Простое генераторное выражение**\n",
    "# ```python\n",
    "numbers = (x for x in range(5))\n",
    "print(next(numbers))  # 0\n",
    "print(next(numbers))  # 1\n",
    "# ```\n",
    "\n",
    "### **2.2 С условием фильтрации**\n",
    "# ```python\n",
    "even_numbers = (x for x in range(10) if x % 2 == 0)\n",
    "print(list(even_numbers))  # [0, 2, 4, 6, 8]\n",
    "# ```\n",
    "\n",
    "### **2.3 С преобразованием элементов**\n",
    "# ```python\n",
    "squares = (x**2 for x in range(5))\n",
    "print(sum(squares))  # 30 (0 + 1 + 4 + 9 + 16)\n",
    "# ```"
   ]
  },
  {
   "cell_type": "code",
   "execution_count": 4,
   "id": "711b938e-cc52-43f3-bbff-cb95df61cc71",
   "metadata": {},
   "outputs": [
    {
     "name": "stdout",
     "output_type": "stream",
     "text": [
      "[1, 2, 3, 4, 5, 6]\n",
      "[1.0, 2.0, 3.0, 4.0]\n",
      "[4, 16]\n"
     ]
    }
   ],
   "source": [
    "## **3. Продвинутые техники**\n",
    "\n",
    "### **3.1 Вложенные генераторные выражения**\n",
    "# ```python\n",
    "matrix = [[1, 2], [3, 4], [5, 6]]\n",
    "flat = (num for row in matrix for num in row)\n",
    "print(list(flat))  # [1, 2, 3, 4, 5, 6]\n",
    "# ```\n",
    "\n",
    "### **3.2 Комбинация с функциями**\n",
    "# ```python\n",
    "import math\n",
    "roots = (math.sqrt(x) for x in (1, 4, 9, 16))\n",
    "print(list(roots))  # [1.0, 2.0, 3.0, 4.0]\n",
    "# ```\n",
    "\n",
    "### **3.3 Пайплайны обработки данных**\n",
    "# ```python\n",
    "data = (1, 2, 3, 4, 5)\n",
    "pipeline = (\n",
    "    x**2 \n",
    "    for x in data \n",
    "    if x % 2 == 0\n",
    ")\n",
    "print(list(pipeline))  # [4, 16]\n",
    "# ```"
   ]
  },
  {
   "cell_type": "code",
   "execution_count": 6,
   "id": "fe96e063-c170-44e4-aca0-5c9ccb6d963e",
   "metadata": {
    "collapsed": true,
    "jupyter": {
     "outputs_hidden": true
    },
    "scrolled": true
   },
   "outputs": [
    {
     "ename": "FileNotFoundError",
     "evalue": "[Errno 2] No such file or directory: 'huge.log'",
     "output_type": "error",
     "traceback": [
      "\u001b[1;31m---------------------------------------------------------------------------\u001b[0m",
      "\u001b[1;31mFileNotFoundError\u001b[0m                         Traceback (most recent call last)",
      "Cell \u001b[1;32mIn[6], line 10\u001b[0m\n\u001b[0;32m      7\u001b[0m         \u001b[38;5;28;01mreturn\u001b[39;00m (line\u001b[38;5;241m.\u001b[39mstrip() \u001b[38;5;28;01mfor\u001b[39;00m line \u001b[38;5;129;01min\u001b[39;00m f)\n\u001b[0;32m      9\u001b[0m \u001b[38;5;66;03m# Обработка без загрузки всего файла в память\u001b[39;00m\n\u001b[1;32m---> 10\u001b[0m \u001b[38;5;28;01mfor\u001b[39;00m line \u001b[38;5;129;01min\u001b[39;00m read_large_file(\u001b[38;5;124m\"\u001b[39m\u001b[38;5;124mhuge.log\u001b[39m\u001b[38;5;124m\"\u001b[39m):\n\u001b[0;32m     11\u001b[0m     process(line)\n\u001b[0;32m     12\u001b[0m \u001b[38;5;66;03m# ```\u001b[39;00m\n\u001b[0;32m     13\u001b[0m \n\u001b[0;32m     14\u001b[0m \u001b[38;5;66;03m### **4.2 Фильтрация данных в реальном времени**\u001b[39;00m\n\u001b[0;32m     15\u001b[0m \u001b[38;5;66;03m# ```python\u001b[39;00m\n",
      "Cell \u001b[1;32mIn[6], line 6\u001b[0m, in \u001b[0;36mread_large_file\u001b[1;34m(file_path)\u001b[0m\n\u001b[0;32m      5\u001b[0m \u001b[38;5;28;01mdef\u001b[39;00m \u001b[38;5;21mread_large_file\u001b[39m(file_path):\n\u001b[1;32m----> 6\u001b[0m     \u001b[38;5;28;01mwith\u001b[39;00m \u001b[38;5;28mopen\u001b[39m(file_path) \u001b[38;5;28;01mas\u001b[39;00m f:\n\u001b[0;32m      7\u001b[0m         \u001b[38;5;28;01mreturn\u001b[39;00m (line\u001b[38;5;241m.\u001b[39mstrip() \u001b[38;5;28;01mfor\u001b[39;00m line \u001b[38;5;129;01min\u001b[39;00m f)\n",
      "File \u001b[1;32m~\\anaconda3\\Lib\\site-packages\\IPython\\core\\interactiveshell.py:324\u001b[0m, in \u001b[0;36m_modified_open\u001b[1;34m(file, *args, **kwargs)\u001b[0m\n\u001b[0;32m    317\u001b[0m \u001b[38;5;28;01mif\u001b[39;00m file \u001b[38;5;129;01min\u001b[39;00m {\u001b[38;5;241m0\u001b[39m, \u001b[38;5;241m1\u001b[39m, \u001b[38;5;241m2\u001b[39m}:\n\u001b[0;32m    318\u001b[0m     \u001b[38;5;28;01mraise\u001b[39;00m \u001b[38;5;167;01mValueError\u001b[39;00m(\n\u001b[0;32m    319\u001b[0m         \u001b[38;5;124mf\u001b[39m\u001b[38;5;124m\"\u001b[39m\u001b[38;5;124mIPython won\u001b[39m\u001b[38;5;124m'\u001b[39m\u001b[38;5;124mt let you open fd=\u001b[39m\u001b[38;5;132;01m{\u001b[39;00mfile\u001b[38;5;132;01m}\u001b[39;00m\u001b[38;5;124m by default \u001b[39m\u001b[38;5;124m\"\u001b[39m\n\u001b[0;32m    320\u001b[0m         \u001b[38;5;124m\"\u001b[39m\u001b[38;5;124mas it is likely to crash IPython. If you know what you are doing, \u001b[39m\u001b[38;5;124m\"\u001b[39m\n\u001b[0;32m    321\u001b[0m         \u001b[38;5;124m\"\u001b[39m\u001b[38;5;124myou can use builtins\u001b[39m\u001b[38;5;124m'\u001b[39m\u001b[38;5;124m open.\u001b[39m\u001b[38;5;124m\"\u001b[39m\n\u001b[0;32m    322\u001b[0m     )\n\u001b[1;32m--> 324\u001b[0m \u001b[38;5;28;01mreturn\u001b[39;00m io_open(file, \u001b[38;5;241m*\u001b[39margs, \u001b[38;5;241m*\u001b[39m\u001b[38;5;241m*\u001b[39mkwargs)\n",
      "\u001b[1;31mFileNotFoundError\u001b[0m: [Errno 2] No such file or directory: 'huge.log'"
     ]
    }
   ],
   "source": [
    "## **4. Практическое применение**\n",
    "\n",
    "### **4.1 Чтение больших файлов**\n",
    "# ```python\n",
    "def read_large_file(file_path):\n",
    "    with open(file_path) as f:\n",
    "        return (line.strip() for line in f)\n",
    "\n",
    "# Обработка без загрузки всего файла в память\n",
    "for line in read_large_file(\"huge.log\"):\n",
    "    process(line)\n",
    "# ```\n",
    "\n",
    "### **4.2 Фильтрация данных в реальном времени**\n",
    "# ```python\n",
    "sensor_data = (get_sensor_value() for _ in iter(int, 1))\n",
    "high_values = (x for x in sensor_data if x > 0.8)\n",
    "\n",
    "for value in high_values:  # Бесконечный поток\n",
    "    alert(value)\n",
    "# ```\n",
    "\n",
    "### **4.3 Экономия памяти при агрегации**\n",
    "# ```python\n",
    "# Плохо: загружает все в память\n",
    "sum([x**2 for x in range(10**6)])\n",
    "\n",
    "# Хорошо: вычисляет \"на лету\"\n",
    "sum(x**2 for x in range(10**6))\n",
    "# ```"
   ]
  },
  {
   "cell_type": "code",
   "execution_count": 7,
   "id": "3482ee13-e375-4370-8481-3928bcdb2863",
   "metadata": {},
   "outputs": [
    {
     "name": "stdout",
     "output_type": "stream",
     "text": [
      "8448728\n",
      "200\n"
     ]
    }
   ],
   "source": [
    "## **5. Оптимизация производительности**\n",
    "\n",
    "### **5.1 Сравнение с альтернативами**\n",
    "# ```python\n",
    "import sys\n",
    "from timeit import timeit\n",
    "\n",
    "# Генератор списка\n",
    "lst = [x**2 for x in range(1000000)]\n",
    "print(sys.getsizeof(lst))  # ~8.5 MB\n",
    "\n",
    "# Генераторное выражение\n",
    "gen = (x**2 for x in range(1000000))\n",
    "print(sys.getsizeof(gen))  # ~120 bytes\n",
    "# ```\n",
    "\n",
    "### **5.2 Оптимальные сценарии использования**\n",
    "# - **Большие/бесконечные последовательности**\n",
    "# - **Цепочки преобразований данных**\n",
    "# - **Когда нужен только один проход по данным**"
   ]
  },
  {
   "cell_type": "code",
   "execution_count": 8,
   "id": "a82c1055-cb93-45e1-b202-2d095d6ab126",
   "metadata": {},
   "outputs": [],
   "source": [
    "## **6. Ограничения и подводные камни**\n",
    "\n",
    "# 1. **Одноразовость**:\n",
    "#    ```python\n",
    "#    gen = (x for x in range(3))\n",
    "#    list(gen)  # [0, 1, 2]\n",
    "#    list(gen)  # [] (генератор исчерпан)\n",
    "#    ```\n",
    "\n",
    "# 2. **Нет индексации**:\n",
    "#    ```python\n",
    "#    gen = (x for x in range(10))\n",
    "#    gen[5]  # TypeError: 'generator' object is not subscriptable\n",
    "#    ```\n",
    "\n",
    "# 3. **Сложная отладка** — ошибки возникают только при выполнении"
   ]
  },
  {
   "cell_type": "code",
   "execution_count": 9,
   "id": "16490668-6f1b-40a1-8224-eba4a19f6e2b",
   "metadata": {},
   "outputs": [
    {
     "name": "stdout",
     "output_type": "stream",
     "text": [
      "120\n"
     ]
    }
   ],
   "source": [
    "## **7. Комбинация с другими инструментами**\n",
    "\n",
    "### **7.1 С функциями высшего порядка**\n",
    "# ```python\n",
    "from functools import reduce\n",
    "product = reduce(lambda x, y: x * y, (x for x in range(1, 6)))\n",
    "print(product)  # 120 (5!)\n",
    "# ```\n",
    "\n",
    "### **7.2 В генераторах словарей и множеств**\n",
    "# ```python\n",
    "squares_dict = {x: x**2 for x in (i for i in range(5))}\n",
    "# {0: 0, 1: 1, 2: 4, 3: 9, 4: 16}\n",
    "# ```"
   ]
  },
  {
   "cell_type": "code",
   "execution_count": 11,
   "id": "25d09ac2-d84b-4d1c-bf32-6d91bcd1371b",
   "metadata": {},
   "outputs": [],
   "source": [
    "## **8. Лучшие практики**\n",
    "\n",
    "# 1. **Именуйте сложные выражения**:\n",
    "#    ```python\n",
    "#    # Вместо:\n",
    "#    result = sum(x**2 for x in (y for y in data if y > 0))\n",
    "\n",
    "#    # Лучше:\n",
    "#    positive_numbers = (y for y in data if y > 0)\n",
    "#    squares = (x**2 for x in positive_numbers)\n",
    "#    result = sum(squares)\n",
    "#    ```\n",
    "\n",
    "# 2. **Избегайте длинных цепочек** — максимум 3-4 преобразования\n",
    "\n",
    "# 3. **Используйте круглые скобки** явно для ясности:\n",
    "#    ```python\n",
    "#    # Неоднозначно:\n",
    "#    sum(x**2 for x in range(10))\n",
    "\n",
    "#    # Явно:\n",
    "#    sum((x**2 for x in range(10)))\n",
    "#    ```"
   ]
  },
  {
   "cell_type": "code",
   "execution_count": 12,
   "id": "5ae9e321-2035-4d29-9c4e-fae10ec89c2d",
   "metadata": {
    "collapsed": true,
    "jupyter": {
     "outputs_hidden": true
    },
    "scrolled": true
   },
   "outputs": [
    {
     "ename": "FileNotFoundError",
     "evalue": "[Errno 2] No such file or directory: 'production.log'",
     "output_type": "error",
     "traceback": [
      "\u001b[1;31m---------------------------------------------------------------------------\u001b[0m",
      "\u001b[1;31mFileNotFoundError\u001b[0m                         Traceback (most recent call last)",
      "Cell \u001b[1;32mIn[12], line 18\u001b[0m\n\u001b[0;32m     15\u001b[0m \u001b[38;5;28;01mdef\u001b[39;00m \u001b[38;5;21mparse_logs\u001b[39m(file):\n\u001b[0;32m     16\u001b[0m     \u001b[38;5;28;01mreturn\u001b[39;00m (parse_line(line) \u001b[38;5;28;01mfor\u001b[39;00m line \u001b[38;5;129;01min\u001b[39;00m file \u001b[38;5;28;01mif\u001b[39;00m is_valid(line))\n\u001b[1;32m---> 18\u001b[0m \u001b[38;5;28;01mfor\u001b[39;00m entry \u001b[38;5;129;01min\u001b[39;00m parse_logs(\u001b[38;5;28mopen\u001b[39m(\u001b[38;5;124m\"\u001b[39m\u001b[38;5;124mproduction.log\u001b[39m\u001b[38;5;124m\"\u001b[39m)):\n\u001b[0;32m     19\u001b[0m     analyze(entry)\n",
      "File \u001b[1;32m~\\anaconda3\\Lib\\site-packages\\IPython\\core\\interactiveshell.py:324\u001b[0m, in \u001b[0;36m_modified_open\u001b[1;34m(file, *args, **kwargs)\u001b[0m\n\u001b[0;32m    317\u001b[0m \u001b[38;5;28;01mif\u001b[39;00m file \u001b[38;5;129;01min\u001b[39;00m {\u001b[38;5;241m0\u001b[39m, \u001b[38;5;241m1\u001b[39m, \u001b[38;5;241m2\u001b[39m}:\n\u001b[0;32m    318\u001b[0m     \u001b[38;5;28;01mraise\u001b[39;00m \u001b[38;5;167;01mValueError\u001b[39;00m(\n\u001b[0;32m    319\u001b[0m         \u001b[38;5;124mf\u001b[39m\u001b[38;5;124m\"\u001b[39m\u001b[38;5;124mIPython won\u001b[39m\u001b[38;5;124m'\u001b[39m\u001b[38;5;124mt let you open fd=\u001b[39m\u001b[38;5;132;01m{\u001b[39;00mfile\u001b[38;5;132;01m}\u001b[39;00m\u001b[38;5;124m by default \u001b[39m\u001b[38;5;124m\"\u001b[39m\n\u001b[0;32m    320\u001b[0m         \u001b[38;5;124m\"\u001b[39m\u001b[38;5;124mas it is likely to crash IPython. If you know what you are doing, \u001b[39m\u001b[38;5;124m\"\u001b[39m\n\u001b[0;32m    321\u001b[0m         \u001b[38;5;124m\"\u001b[39m\u001b[38;5;124myou can use builtins\u001b[39m\u001b[38;5;124m'\u001b[39m\u001b[38;5;124m open.\u001b[39m\u001b[38;5;124m\"\u001b[39m\n\u001b[0;32m    322\u001b[0m     )\n\u001b[1;32m--> 324\u001b[0m \u001b[38;5;28;01mreturn\u001b[39;00m io_open(file, \u001b[38;5;241m*\u001b[39margs, \u001b[38;5;241m*\u001b[39m\u001b[38;5;241m*\u001b[39mkwargs)\n",
      "\u001b[1;31mFileNotFoundError\u001b[0m: [Errno 2] No such file or directory: 'production.log'"
     ]
    }
   ],
   "source": [
    "## **Заключение**\n",
    "\n",
    "# Генераторные выражения — это мощный инструмент для:\n",
    "# - **Экономии памяти** при работе с большими данными\n",
    "# - **Создания эффективных пайплайнов** обработки\n",
    "# - **Ленивых вычислений** по требованию\n",
    "\n",
    "# **Идеальные сценарии:**\n",
    "# - Обработка потоковых данных\n",
    "# - Фильтрация и трансформация больших наборов\n",
    "# - Интеграция с `map()`, `filter()`, `reduce()`\n",
    "\n",
    "# **Пример из реальной практики (обработка логов):**\n",
    "# ```python\n",
    "def parse_logs(file):\n",
    "    return (parse_line(line) for line in file if is_valid(line))\n",
    "\n",
    "for entry in parse_logs(open(\"production.log\")):\n",
    "    analyze(entry)  # Обработка без загрузки всего файла\n",
    "# ```\n",
    "\n",
    "# Освоив генераторные выражения, вы сможете писать более эффективный и \"питоничный\" код, особенно при работе с большими объемами данных!"
   ]
  },
  {
   "cell_type": "code",
   "execution_count": null,
   "id": "2730222e-370b-4cb3-8888-4b4e5d6be88f",
   "metadata": {},
   "outputs": [],
   "source": []
  }
 ],
 "metadata": {
  "kernelspec": {
   "display_name": "Python 3 (ipykernel)",
   "language": "python",
   "name": "python3"
  },
  "language_info": {
   "codemirror_mode": {
    "name": "ipython",
    "version": 3
   },
   "file_extension": ".py",
   "mimetype": "text/x-python",
   "name": "python",
   "nbconvert_exporter": "python",
   "pygments_lexer": "ipython3",
   "version": "3.12.3"
  }
 },
 "nbformat": 4,
 "nbformat_minor": 5
}
