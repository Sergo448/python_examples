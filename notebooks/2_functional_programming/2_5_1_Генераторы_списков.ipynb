{
 "cells": [
  {
   "cell_type": "markdown",
   "id": "37b3d9df-db03-46b6-bfcc-1b9396546dbd",
   "metadata": {},
   "source": [
    "# **Генераторы списков в Python: полное руководство с примерами**"
   ]
  },
  {
   "cell_type": "code",
   "execution_count": 1,
   "id": "ad67f9e1-7062-47bc-906c-171ceb3c3a5d",
   "metadata": {},
   "outputs": [],
   "source": [
    "# Генераторы списков (list comprehensions) — это элегантный и производительный способ создания списков в Python. \n",
    "# Они сочетают лаконичность синтаксиса с эффективностью выполнения,\n",
    "# предлагая более читаемую альтернативу циклам `for` и функциям `map()`/`filter()`."
   ]
  },
  {
   "cell_type": "code",
   "execution_count": 3,
   "id": "7eb1aead-68d8-43d2-b377-bbcae2a86376",
   "metadata": {},
   "outputs": [
    {
     "name": "stdout",
     "output_type": "stream",
     "text": [
      "[1, 4, 9, 16, 25]\n"
     ]
    }
   ],
   "source": [
    "## **1. Базовый синтаксис**\n",
    "\n",
    "# Стандартная форма генератора списка:\n",
    "# ```python\n",
    "# [expression for item in iterable]\n",
    "# ```\n",
    "\n",
    "# **Пример:**\n",
    "# ```python\n",
    "numbers = [1, 2, 3, 4, 5]\n",
    "squares = [x**2 for x in numbers]\n",
    "print(squares)  # [1, 4, 9, 16, 25]\n",
    "# ```"
   ]
  },
  {
   "cell_type": "code",
   "execution_count": 4,
   "id": "4d2adf12-625a-4e35-8786-a140cb7ae4e5",
   "metadata": {},
   "outputs": [],
   "source": [
    "## **2. Основные варианты использования**\n",
    "\n",
    "### **2.1 Простая генерация**\n",
    "# Создание списка чисел от 0 до 9:\n",
    "# ```python\n",
    "nums = [x for x in range(10)]\n",
    "# [0, 1, 2, 3, 4, 5, 6, 7, 8, 9]\n",
    "# ```\n",
    "\n",
    "### **2.2 С условием (фильтрация)**\n",
    "# Добавляем условие с помощью `if`:\n",
    "# ```python\n",
    "even_numbers = [x for x in range(10) if x % 2 == 0]\n",
    "# [0, 2, 4, 6, 8]\n",
    "# ```\n",
    "\n",
    "### **2.3 С преобразованием элементов**\n",
    "# Применение функций к элементам:\n",
    "# ```python\n",
    "names = [\"alice\", \"bob\", \"carol\"]\n",
    "capitalized = [name.capitalize() for name in names]\n",
    "# [\"Alice\", \"Bob\", \"Carol\"]\n",
    "# ```\n",
    "\n",
    "### **2.4 Вложенные циклы**\n",
    "# Обработка вложенных структур:\n",
    "# ```python\n",
    "matrix = [[1, 2, 3], [4, 5, 6], [7, 8, 9]]\n",
    "flattened = [num for row in matrix for num in row]\n",
    "# [1, 2, 3, 4, 5, 6, 7, 8, 9]\n",
    "# ```"
   ]
  },
  {
   "cell_type": "code",
   "execution_count": 5,
   "id": "a66aa176-993a-4497-814c-f8e2fe0b8b79",
   "metadata": {},
   "outputs": [],
   "source": [
    "## **3. Продвинутые техники**\n",
    "\n",
    "### **3.1 Условные выражения (тернарный оператор)**\n",
    "# ```python\n",
    "numbers = [1, 2, 3, 4, 5]\n",
    "labels = [\"even\" if x % 2 == 0 else \"odd\" for x in numbers]\n",
    "# [\"odd\", \"even\", \"odd\", \"even\", \"odd\"]\n",
    "# ```\n",
    "\n",
    "### **3.2 Множественные условия**\n",
    "# Комбинирование нескольких условий:\n",
    "# ```python\n",
    "numbers = range(20)\n",
    "filtered = [x for x in numbers if x % 2 == 0 if x % 3 == 0]\n",
    "# [0, 6, 12, 18]\n",
    "# ```\n",
    "\n",
    "### **3.3 Генераторы словарей и множеств**\n",
    "# Аналогичный синтаксис для других типов коллекций:\n",
    "\n",
    "# **Словарь:**\n",
    "# ```python\n",
    "names = [\"Alice\", \"Bob\"]\n",
    "name_lengths = {name: len(name) for name in names}\n",
    "# {\"Alice\": 5, \"Bob\": 3}\n",
    "# ```\n",
    "\n",
    "# **Множество:**\n",
    "# ```python\n",
    "numbers = [1, 2, 2, 3, 4, 4, 5]\n",
    "unique_squares = {x**2 for x in numbers}\n",
    "# {1, 4, 9, 16, 25}\n",
    "# ```"
   ]
  },
  {
   "cell_type": "code",
   "execution_count": 6,
   "id": "af104700-fef4-4d72-8aa2-65f95081e6fc",
   "metadata": {},
   "outputs": [
    {
     "name": "stdout",
     "output_type": "stream",
     "text": [
      "0.09066719998372719\n",
      "0.07882590001099743\n"
     ]
    }
   ],
   "source": [
    "## **4. Производительность и оптимизация**\n",
    "\n",
    "### **4.1 Сравнение с циклами**\n",
    "# Генераторы списков работают быстрее обычных циклов:\n",
    "\n",
    "# ```python\n",
    "# Тест производительности\n",
    "import timeit\n",
    "\n",
    "# Вариант с циклом\n",
    "def with_loop():\n",
    "    result = []\n",
    "    for x in range(1000):\n",
    "        if x % 2 == 0:\n",
    "            result.append(x**2)\n",
    "    return result\n",
    "\n",
    "# Вариант с генератором\n",
    "def with_comprehension():\n",
    "    return [x**2 for x in range(1000) if x % 2 == 0]\n",
    "\n",
    "print(timeit.timeit(with_loop, number=1000))        # ~0.15 сек\n",
    "print(timeit.timeit(with_comprehension, number=1000)) # ~0.10 сек\n",
    "# ```\n",
    "\n",
    "### **4.2 Когда избегать генераторов**\n",
    "# 1. **Слишком сложные условия** — снижают читаемость\n",
    "# 2. **Побочные эффекты** — генераторы предназначены для создания новых данных\n",
    "# 3. **Очень большие коллекции** — лучше использовать генераторные выражения"
   ]
  },
  {
   "cell_type": "code",
   "execution_count": 7,
   "id": "aeb2ef67-5e83-4a68-81c3-d22524b31ba5",
   "metadata": {
    "collapsed": true,
    "jupyter": {
     "outputs_hidden": true
    },
    "scrolled": true
   },
   "outputs": [
    {
     "ename": "FileNotFoundError",
     "evalue": "[Errno 2] No such file or directory: 'data.csv'",
     "output_type": "error",
     "traceback": [
      "\u001b[1;31m---------------------------------------------------------------------------\u001b[0m",
      "\u001b[1;31mFileNotFoundError\u001b[0m                         Traceback (most recent call last)",
      "Cell \u001b[1;32mIn[7], line 7\u001b[0m\n\u001b[0;32m      1\u001b[0m \u001b[38;5;66;03m## **5. Практические примеры**\u001b[39;00m\n\u001b[0;32m      2\u001b[0m \n\u001b[0;32m      3\u001b[0m \u001b[38;5;66;03m### **5.1 Обработка CSV-данных**\u001b[39;00m\n\u001b[0;32m      4\u001b[0m \u001b[38;5;66;03m# ```python\u001b[39;00m\n\u001b[0;32m      5\u001b[0m \u001b[38;5;28;01mimport\u001b[39;00m \u001b[38;5;21;01mcsv\u001b[39;00m\n\u001b[1;32m----> 7\u001b[0m \u001b[38;5;28;01mwith\u001b[39;00m \u001b[38;5;28mopen\u001b[39m(\u001b[38;5;124m\"\u001b[39m\u001b[38;5;124mdata.csv\u001b[39m\u001b[38;5;124m\"\u001b[39m) \u001b[38;5;28;01mas\u001b[39;00m f:\n\u001b[0;32m      8\u001b[0m     data \u001b[38;5;241m=\u001b[39m [row \u001b[38;5;28;01mfor\u001b[39;00m row \u001b[38;5;129;01min\u001b[39;00m csv\u001b[38;5;241m.\u001b[39mreader(f)]\n\u001b[0;32m      9\u001b[0m     \u001b[38;5;66;03m# Фильтрация пустых строк\u001b[39;00m\n",
      "File \u001b[1;32m~\\anaconda3\\Lib\\site-packages\\IPython\\core\\interactiveshell.py:324\u001b[0m, in \u001b[0;36m_modified_open\u001b[1;34m(file, *args, **kwargs)\u001b[0m\n\u001b[0;32m    317\u001b[0m \u001b[38;5;28;01mif\u001b[39;00m file \u001b[38;5;129;01min\u001b[39;00m {\u001b[38;5;241m0\u001b[39m, \u001b[38;5;241m1\u001b[39m, \u001b[38;5;241m2\u001b[39m}:\n\u001b[0;32m    318\u001b[0m     \u001b[38;5;28;01mraise\u001b[39;00m \u001b[38;5;167;01mValueError\u001b[39;00m(\n\u001b[0;32m    319\u001b[0m         \u001b[38;5;124mf\u001b[39m\u001b[38;5;124m\"\u001b[39m\u001b[38;5;124mIPython won\u001b[39m\u001b[38;5;124m'\u001b[39m\u001b[38;5;124mt let you open fd=\u001b[39m\u001b[38;5;132;01m{\u001b[39;00mfile\u001b[38;5;132;01m}\u001b[39;00m\u001b[38;5;124m by default \u001b[39m\u001b[38;5;124m\"\u001b[39m\n\u001b[0;32m    320\u001b[0m         \u001b[38;5;124m\"\u001b[39m\u001b[38;5;124mas it is likely to crash IPython. If you know what you are doing, \u001b[39m\u001b[38;5;124m\"\u001b[39m\n\u001b[0;32m    321\u001b[0m         \u001b[38;5;124m\"\u001b[39m\u001b[38;5;124myou can use builtins\u001b[39m\u001b[38;5;124m'\u001b[39m\u001b[38;5;124m open.\u001b[39m\u001b[38;5;124m\"\u001b[39m\n\u001b[0;32m    322\u001b[0m     )\n\u001b[1;32m--> 324\u001b[0m \u001b[38;5;28;01mreturn\u001b[39;00m io_open(file, \u001b[38;5;241m*\u001b[39margs, \u001b[38;5;241m*\u001b[39m\u001b[38;5;241m*\u001b[39mkwargs)\n",
      "\u001b[1;31mFileNotFoundError\u001b[0m: [Errno 2] No such file or directory: 'data.csv'"
     ]
    }
   ],
   "source": [
    "## **5. Практические примеры**\n",
    "\n",
    "### **5.1 Обработка CSV-данных**\n",
    "# ```python\n",
    "import csv\n",
    "\n",
    "with open(\"data.csv\") as f:\n",
    "    data = [row for row in csv.reader(f)]\n",
    "    # Фильтрация пустых строк\n",
    "    clean_data = [row for row in data if any(field.strip() for field in row)]\n",
    "# ```\n",
    "\n",
    "### **5.2 Трансформация JSON**\n",
    "# ```python\n",
    "import json\n",
    "\n",
    "users_json = '[{\"name\": \"Alice\", \"age\": 25}, {\"name\": \"Bob\", \"age\": 30}]'\n",
    "users = json.loads(users_json)\n",
    "\n",
    "# Извлечение имен пользователей старше 28\n",
    "names = [user[\"name\"] for user in users if user[\"age\"] > 28]\n",
    "# [\"Bob\"]\n",
    "# ```\n",
    "\n",
    "### **5.3 Работа с матрицами**\n",
    "# ```python\n",
    "matrix = [\n",
    "    [1, 2, 3],\n",
    "    [4, 5, 6],\n",
    "    [7, 8, 9]\n",
    "]\n",
    "\n",
    "# Транспонирование матрицы\n",
    "transposed = [[row[i] for row in matrix] for i in range(3)]\n",
    "# [\n",
    "#   [1, 4, 7], \n",
    "#   [2, 5, 8],\n",
    "#   [3, 6, 9]\n",
    "# ]\n",
    "# ```"
   ]
  },
  {
   "cell_type": "code",
   "execution_count": 8,
   "id": "0cc6e8fa-0e30-4bb4-a392-3ff46d35d772",
   "metadata": {},
   "outputs": [],
   "source": [
    "## **6. Альтернативы**\n",
    "\n",
    "### **6.1 Генераторные выражения**\n",
    "# Для ленивой обработки больших объемов данных:\n",
    "# ```python\n",
    "large_data = (x**2 for x in range(1000000) if x % 2 == 0)\n",
    "# ```\n",
    "\n",
    "### **6.2 Функции map() и filter()**\n",
    "# Функциональный стиль:\n",
    "# ```python\n",
    "numbers = [1, 2, 3, 4, 5]\n",
    "squares = list(map(lambda x: x**2, numbers))\n",
    "evens = list(filter(lambda x: x % 2 == 0, numbers))\n",
    "# ```"
   ]
  },
  {
   "cell_type": "code",
   "execution_count": 9,
   "id": "cd40027c-cb18-4228-bad4-8b8624515bdb",
   "metadata": {},
   "outputs": [],
   "source": [
    "## **7. Лучшие практики**\n",
    "\n",
    "# 1. **Сохраняйте читаемость** — разбивайте сложные генераторы\n",
    "# 2. **Избегайте вложенности глубже 2 уровней**\n",
    "# 3. **Используйте именованные выражения** для сложных вычислений\n",
    "# 4. **Применяйте генераторы словарей/множеств** для соответствующих задач\n",
    "\n",
    "# **Плохой пример (слишком сложно):**\n",
    "# ```python\n",
    "result = [(x, y) for x in range(10) if x % 2 == 0 for y in range(10) if y % 3 == 0]\n",
    "# ```\n",
    "\n",
    "# **Улучшенная версия:**\n",
    "# ```python\n",
    "even_numbers = [x for x in range(10) if x % 2 == 0]\n",
    "multiples_of_3 = [y for y in range(10) if y % 3 == 0]\n",
    "result = [(x, y) for x in even_numbers for y in multiples_of_3]\n",
    "# ```"
   ]
  },
  {
   "cell_type": "code",
   "execution_count": 10,
   "id": "2e413126-e96d-4a2f-9c60-1b517ae854e5",
   "metadata": {},
   "outputs": [],
   "source": [
    "## **Заключение**\n",
    "\n",
    "# Генераторы списков — мощный инструмент Python, который:\n",
    "# - Делает код более читаемым\n",
    "# - Повышает производительность\n",
    "# - Упрощает работу с коллекциями\n",
    "\n",
    "# **Когда использовать:**\n",
    "# - Создание новых списков на основе существующих\n",
    "# - Фильтрация и трансформация данных\n",
    "# - Замена простых циклов `for`\n",
    "\n",
    "# **Когда избегать:**\n",
    "# - Очень сложные условия\n",
    "# - Операции с побочными эффектами\n",
    "# - Обработка исключительно больших данных\n",
    "\n",
    "# Пример из реальной практики — обработка данных в Django:\n",
    "# ```python\n",
    "# # Получение списка email активных пользователей\n",
    "# active_emails = [user.email for user in User.objects.all() if user.is_active]\n",
    "# ```\n",
    "\n",
    "# Освоив генераторы списков, вы сможете писать более чистый, эффективный и \"питоничный\" код!"
   ]
  }
 ],
 "metadata": {
  "kernelspec": {
   "display_name": "Python 3 (ipykernel)",
   "language": "python",
   "name": "python3"
  },
  "language_info": {
   "codemirror_mode": {
    "name": "ipython",
    "version": 3
   },
   "file_extension": ".py",
   "mimetype": "text/x-python",
   "name": "python",
   "nbconvert_exporter": "python",
   "pygments_lexer": "ipython3",
   "version": "3.12.3"
  }
 },
 "nbformat": 4,
 "nbformat_minor": 5
}
