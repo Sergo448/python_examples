{
 "cells": [
  {
   "cell_type": "markdown",
   "id": "627eb57e-560b-495e-80f2-af1e44bf5f49",
   "metadata": {},
   "source": [
    "# **Функциональное программирование в Python: теоретические основы**"
   ]
  },
  {
   "cell_type": "code",
   "execution_count": null,
   "id": "181d93e4-a29c-4d8e-a314-da0e57973a62",
   "metadata": {},
   "outputs": [],
   "source": [
    "## **1. Философские и математические корни ФП**\n",
    "\n",
    "# Функциональное программирование (ФП) берёт начало в **лямбда-исчислении** Алонзо Чёрча (1930-е годы), где все вычисления выражаются через:\n",
    "# - **Абстракцию** (функции)\n",
    "# - **Аппликацию** (применение функций)\n",
    "# - **Связывание переменных**\n",
    "\n",
    "# Ключевой принцип: *\"Программа — это композиция функций, а не последовательность инструкций\"*."
   ]
  },
  {
   "cell_type": "code",
   "execution_count": null,
   "id": "74008ae5-233d-4cae-a0e8-41a5a339c492",
   "metadata": {},
   "outputs": [],
   "source": [
    "## **2. Базовые теоретические концепции**\n",
    "\n",
    "### **2.1. Чистые функции (Pure Functions)**\n",
    "# **Определение:** Функция `f: X → Y` называется чистой, если:\n",
    "# 1. **Детерминированность:** `∀x ∈ X, f(x)` всегда одинаков для данного `x`\n",
    "# 2. **Отсутствие побочных эффектов:** Не изменяет внешнее состояние\n",
    "\n",
    "# **Математическая модель:**\n",
    "# ```\n",
    "# f(x) = y, где y зависит только от x\n",
    "# ```\n",
    "\n",
    "# **Нарушения чистоты:**\n",
    "# - Модификация глобальных переменных\n",
    "# - Чтение/запись файлов\n",
    "# - Случайные числа/текущее время\n",
    "\n",
    "### **2.2. Неизменяемость (Immutability)**\n",
    "# **Принцип:** Данные после создания не могут быть изменены. Любая \"модификация\" создаёт новый объект.\n",
    "\n",
    "# **Теоретическое обоснование:**\n",
    "# - Устраняет проблемы **аллоцирования памяти**\n",
    "# - Гарантирует **потокобезопасность**\n",
    "# - Позволяет **оптимизацию** (persistent data structures)\n",
    "\n",
    "### **2.3. Функции высшего порядка (Higher-Order Functions)**\n",
    "# **Определение:** Функция, которая:\n",
    "# 1. Принимает одну или несколько функций как аргументы\n",
    "# 2. Возвращает функцию как результат\n",
    "\n",
    "# **Формальная запись:**\n",
    "# ```\n",
    "# H: (X → Y) × X → Y\n",
    "# ```\n",
    "\n",
    "# Примеры в математике:\n",
    "# - **Производная:** `d/dx(f) = f'`\n",
    "# - **Интеграл:** `∫f(x)dx`"
   ]
  },
  {
   "cell_type": "code",
   "execution_count": 2,
   "id": "2a9c8bd3-2c6b-4975-84e7-45f346d43b8b",
   "metadata": {},
   "outputs": [
    {
     "data": {
      "text/plain": [
       "5"
      ]
     },
     "execution_count": 2,
     "metadata": {},
     "output_type": "execute_result"
    }
   ],
   "source": [
    "## **3. Теория типов в ФП**\n",
    "\n",
    "### **3.1. Алгебраические типы данных (АТД)**\n",
    "# **Определение:** Типы, конструируемые через:\n",
    "# - **Произведение типов** (кортежи): `A × B`\n",
    "# - **Сумму типов** (объединения): `A + B`\n",
    "\n",
    "# **Примеры:**\n",
    "# ```python\n",
    "from typing import Union, Tuple\n",
    "\n",
    "# Сумма типов\n",
    "MaybeInt = Union[int, None]\n",
    "\n",
    "# # Произведение типов\n",
    "Point = Tuple[float, float]\n",
    "# ```\n",
    "\n",
    "### **3.2. Каррирование (Currying)**\n",
    "# **Теорема:** Любая функция многих аргументов может быть представлена как последовательность функций одного аргумента.\n",
    "\n",
    "# **Формальная запись:**\n",
    "# ```\n",
    "# f: A × B → C  ≅  f': A → (B → C)\n",
    "# ```\n",
    "\n",
    "# **Пример:**\n",
    "# ```python\n",
    "def add(a):\n",
    "    def inner(b):\n",
    "        return a + b\n",
    "    return inner\n",
    "\n",
    "add(2)(3)  # 5\n",
    "# ```"
   ]
  },
  {
   "cell_type": "code",
   "execution_count": 3,
   "id": "20f4df33-c53f-4c96-a259-b6846cc6f3d1",
   "metadata": {},
   "outputs": [],
   "source": [
    "## **4. Категорийные концепции**\n",
    "\n",
    "### **4.1. Функторы**\n",
    "# **Определение:** Отображение между категориями, сохраняющее:\n",
    "# 1. Идентичность: `F(id_A) = id_F(A)`\n",
    "# 2. Композицию: `F(f ∘ g) = F(f) ∘ F(g)`\n",
    "\n",
    "# **Пример в Python:**\n",
    "# ```python\n",
    "class Maybe:\n",
    "    def __init__(self, value):\n",
    "        self.value = value\n",
    "\n",
    "    def map(self, f):\n",
    "        return Maybe(f(self.value)) if self.value is not None else self\n",
    "# ```\n",
    "\n",
    "### **4.2. Моноиды**\n",
    "# **Аксиоматика:**\n",
    "# 1. **Ассоциативная бинарная операция:** `(a ⊕ b) ⊕ c = a ⊕ (b ⊕ c)`\n",
    "# 2. **Нейтральный элемент:** `∃e: a ⊕ e = e ⊕ a = a`\n",
    "\n",
    "# **Примеры:**\n",
    "# - Числа с операцией `+` и нейтральным `0`\n",
    "# - Списки с конкатенацией и пустым списком `[]`"
   ]
  },
  {
   "cell_type": "code",
   "execution_count": 4,
   "id": "e25194c9-968c-4be7-a7e9-72fc0160a216",
   "metadata": {},
   "outputs": [],
   "source": [
    "## **5. Теория рекурсии**\n",
    "\n",
    "### **5.1. Хвостовая рекурсия**\n",
    "# **Определение:** Рекурсивный вызов является последней операцией функции.\n",
    "\n",
    "# **Теорема:** Может быть оптимизирована в итерацию (но не в Python!).\n",
    "\n",
    "# **Пример:**\n",
    "# ```python\n",
    "def factorial(n, acc=1):\n",
    "    return acc if n == 0 else factorial(n-1, acc*n)\n",
    "# ```\n",
    "\n",
    "### **5.2. Фиксированная точка (Y-комбинатор)**\n",
    "# **Теорема:** Любая рекурсивная функция может быть выражена через комбинатор неподвижной точки.\n",
    "\n",
    "# **Формальная запись:**\n",
    "# ```\n",
    "# Y = λf.(λx.f(x x))(λx.f(x x))\n",
    "# ```\n",
    "\n",
    "# **Python-реализация:**\n",
    "# ```python\n",
    "Y = lambda f: (lambda x: x(x))(lambda x: f(lambda y: x(x)(y)))\n",
    "# ```"
   ]
  },
  {
   "cell_type": "code",
   "execution_count": 5,
   "id": "365dade6-6ab0-4a1f-bcb4-17538be68e94",
   "metadata": {},
   "outputs": [],
   "source": [
    "## **6. Ленивые вычисления**\n",
    "\n",
    "# **Принцип:** Выражение вычисляется только когда его результат действительно нужен.\n",
    "\n",
    "# **Теоретические преимущества:**\n",
    "# - Возможность работы с **бесконечными структурами данных**\n",
    "# - Оптимизация вычислительных ресурсов\n",
    "\n",
    "# **Пример в Python (генераторы):**\n",
    "# ```python\n",
    "def naturals():\n",
    "    n = 0\n",
    "    while True:\n",
    "        yield n\n",
    "        n += 1\n",
    "# ```"
   ]
  },
  {
   "cell_type": "code",
   "execution_count": 6,
   "id": "f5477afc-b2e4-4ad3-a21d-7d3ebd549258",
   "metadata": {},
   "outputs": [
    {
     "data": {
      "text/plain": [
       "<__main__.Maybe at 0x1a0be96fda0>"
      ]
     },
     "execution_count": 6,
     "metadata": {},
     "output_type": "execute_result"
    }
   ],
   "source": [
    "## **7. Теорема о монадах**\n",
    "\n",
    "# **Определение:** Монада — это:\n",
    "# 1. **Функтор** `M: C → C`\n",
    "# 2. **Единица (return):** `A → M(A)`\n",
    "# 3. **Умножение (join):** `M(M(A)) → M(A)`\n",
    "\n",
    "# **Законы:**\n",
    "# 1. **Левая идентичность:** `return x >>= f ≡ f x`\n",
    "# 2. **Правая идентичность:** `m >>= return ≡ m`\n",
    "# 3. **Ассоциативность:** `(m >>= f) >>= g ≡ m >>= (λx → f x >>= g)`\n",
    "\n",
    "# **Python-пример (Maybe-монада):**\n",
    "# ```python\n",
    "class Maybe:\n",
    "    def __init__(self, value):\n",
    "        self.value = value\n",
    "\n",
    "    def bind(self, f):\n",
    "        return f(self.value) if self.value is not None else None\n",
    "\n",
    "# Использование\n",
    "Maybe(5).bind(lambda x: Maybe(x + 1))  # Maybe(6)\n",
    "# ```"
   ]
  },
  {
   "cell_type": "code",
   "execution_count": 7,
   "id": "664f0a48-67c8-48a2-947c-584726a5193a",
   "metadata": {},
   "outputs": [],
   "source": [
    "## **8. Заключение: теоретическая ценность ФП**\n",
    "\n",
    "# 1. **Математическая строгость:** Программы становятся доказуемо корректными\n",
    "# 2. **Композиционность:** Модульность через композицию функций\n",
    "# 3. **Параллелизм:** Отсутствие состояния устраняет race conditions\n",
    "# 4. **Абстрактность:** Высокоуровневые паттерны (монады, функторы)\n",
    "\n",
    "# ФП в Python, хоть и не является \"чистым\" (как Haskell), предоставляет достаточный инструментарий для\n",
    "# применения этих теоретических концепций на практике."
   ]
  },
  {
   "cell_type": "markdown",
   "id": "4e54200c-3118-4bdd-a59e-a5cea3ccb885",
   "metadata": {},
   "source": [
    "# **Синтаксические конструкции функционального программирования в Python**"
   ]
  },
  {
   "cell_type": "code",
   "execution_count": 8,
   "id": "c8c07346-7903-4945-a419-1660a33b76d6",
   "metadata": {},
   "outputs": [],
   "source": [
    "# Функциональное программирование (ФП) в Python реализуется через ряд ключевых синтаксических конструкций.\n",
    "# В этом руководстве мы систематически разберём все элементы языка, которые используются в функциональном стиле."
   ]
  },
  {
   "cell_type": "code",
   "execution_count": 9,
   "id": "c6757948-4cbc-47b6-b29d-74c150002697",
   "metadata": {},
   "outputs": [
    {
     "name": "stdout",
     "output_type": "stream",
     "text": [
      "25\n"
     ]
    },
    {
     "data": {
      "text/plain": [
       "16"
      ]
     },
     "execution_count": 9,
     "metadata": {},
     "output_type": "execute_result"
    }
   ],
   "source": [
    "## **1. Базовые функциональные элементы**\n",
    "\n",
    "### **1.1 Лямбда-функции**\n",
    "# Анонимные функции, создаваемые через ключевое слово `lambda`:\n",
    "# ```python\n",
    "square = lambda x: x ** 2\n",
    "print(square(5))  # 25\n",
    "# ```\n",
    "\n",
    "# **Особенности:**\n",
    "# - Могут принимать несколько аргументов: `lambda x, y: x + y`\n",
    "# - Не поддерживают аннотации типов\n",
    "# - Должны умещаться в одно выражение\n",
    "\n",
    "### **1.2 Функции высшего порядка**\n",
    "# Функции, принимающие или возвращающие другие функции:\n",
    "# ```python\n",
    "def apply(func, arg):\n",
    "    return func(arg)\n",
    "\n",
    "apply(lambda x: x * 2, 8)  # 16\n",
    "# ```"
   ]
  },
  {
   "cell_type": "code",
   "execution_count": 10,
   "id": "0b0e765d-154c-46b2-b525-3608f4cccf3c",
   "metadata": {},
   "outputs": [],
   "source": [
    "## **2. Системные функции для работы с коллекциями**\n",
    "\n",
    "### **2.1 map()**\n",
    "# Применяет функцию к каждому элементу итерируемого объекта:\n",
    "# ```python\n",
    "numbers = [1, 2, 3]\n",
    "doubled = list(map(lambda x: x * 2, numbers))  # [2, 4, 6]\n",
    "# ```\n",
    "\n",
    "### **2.2 filter()**\n",
    "# Фильтрует элементы по условию:\n",
    "# ```python\n",
    "evens = list(filter(lambda x: x % 2 == 0, numbers))  # [2]\n",
    "# ```\n",
    "\n",
    "### **2.3 reduce()**\n",
    "# Агрегирует значения (требует импорта из functools):\n",
    "# ```python\n",
    "from functools import reduce\n",
    "sum_all = reduce(lambda a, b: a + b, numbers)  # 6\n",
    "# ```"
   ]
  },
  {
   "cell_type": "code",
   "execution_count": 11,
   "id": "a0fc62d1-6c0c-49f1-bc89-2cf5a73cca73",
   "metadata": {},
   "outputs": [
    {
     "data": {
      "text/plain": [
       "0"
      ]
     },
     "execution_count": 11,
     "metadata": {},
     "output_type": "execute_result"
    }
   ],
   "source": [
    "## **3. Генераторы и comprehensions**\n",
    "\n",
    "### **3.1 Генераторы списков**\n",
    "# ```python\n",
    "squares = [x**2 for x in range(5)]  # [0, 1, 4, 9, 16]\n",
    "# ```\n",
    "\n",
    "### **3.2 Генераторы словарей**\n",
    "# ```python\n",
    "square_dict = {x: x**2 for x in range(3)}  # {0: 0, 1: 1, 2: 4}\n",
    "# ```\n",
    "\n",
    "### **3.3 Генераторные выражения**\n",
    "# Ленивые аналоги list comprehensions:\n",
    "# ```python\n",
    "squares_gen = (x**2 for x in range(5))\n",
    "next(squares_gen)  # 0\n",
    "# ```"
   ]
  },
  {
   "cell_type": "code",
   "execution_count": 12,
   "id": "85165d3f-7a70-4d8c-aeb9-5d16d318fc4f",
   "metadata": {},
   "outputs": [],
   "source": [
    "## **4. Декораторы как функциональные конструкции**\n",
    "\n",
    "# Позволяют модифицировать поведение функций:\n",
    "# ```python\n",
    "def logger(func):\n",
    "    def wrapper(*args):\n",
    "        print(f\"Calling {func.__name__}\")\n",
    "        return func(*args)\n",
    "    return wrapper\n",
    "\n",
    "@logger\n",
    "def add(a, b):\n",
    "    return a + b\n",
    "# ```"
   ]
  },
  {
   "cell_type": "code",
   "execution_count": 13,
   "id": "93ed1d70-6cca-448e-a93c-113fa43b9b48",
   "metadata": {},
   "outputs": [
    {
     "data": {
      "text/plain": [
       "25"
      ]
     },
     "execution_count": 13,
     "metadata": {},
     "output_type": "execute_result"
    }
   ],
   "source": [
    "## **5. Каррирование и частичное применение**\n",
    "\n",
    "### **5.1 Ручное каррирование**\n",
    "# ```python\n",
    "def add(a):\n",
    "    def inner(b):\n",
    "        return a + b\n",
    "    return inner\n",
    "\n",
    "add_five = add(5)\n",
    "add_five(3)  # 8\n",
    "# ```\n",
    "\n",
    "### **5.2 functools.partial**\n",
    "# ```python\n",
    "from functools import partial\n",
    "\n",
    "def power(base, exp):\n",
    "    return base ** exp\n",
    "\n",
    "square = partial(power, exp=2)\n",
    "square(5)  # 25\n",
    "# ```"
   ]
  },
  {
   "cell_type": "code",
   "execution_count": 14,
   "id": "1ea6e8b6-92ec-4af2-9756-8bbefdba45da",
   "metadata": {},
   "outputs": [],
   "source": [
    "## **6. Рекурсивные конструкции**\n",
    "\n",
    "### **6.1 Классическая рекурсия**\n",
    "# ```python\n",
    "def factorial(n):\n",
    "    return 1 if n == 0 else n * factorial(n-1)\n",
    "# ```\n",
    "\n",
    "### **6.2 Хвостовая рекурсия**\n",
    "# (В Python не оптимизируется, но может быть реализована)\n",
    "# ```python\n",
    "def factorial(n, acc=1):\n",
    "    return acc if n == 0 else factorial(n-1, acc*n)\n",
    "# ```"
   ]
  },
  {
   "cell_type": "code",
   "execution_count": 15,
   "id": "d502ec2c-c87c-4aa3-a1fe-5bede899f046",
   "metadata": {},
   "outputs": [
    {
     "data": {
      "text/plain": [
       "8"
      ]
     },
     "execution_count": 15,
     "metadata": {},
     "output_type": "execute_result"
    }
   ],
   "source": [
    "## **7. Работа с функциями как с данными**\n",
    "\n",
    "### **7.1 Хранение функций в структурах**\n",
    "# ```python\n",
    "operations = {\n",
    "    'add': lambda a, b: a + b,\n",
    "    'mul': lambda a, b: a * b\n",
    "}\n",
    "\n",
    "operations['add'](2, 3)  # 5\n",
    "# ```\n",
    "\n",
    "### **7.2 Возврат функций из функций**\n",
    "# ```python\n",
    "def make_adder(n):\n",
    "    return lambda x: x + n\n",
    "\n",
    "add_three = make_adder(3)\n",
    "add_three(5)  # 8\n",
    "# ```"
   ]
  },
  {
   "cell_type": "code",
   "execution_count": 16,
   "id": "89b3863e-1e16-48b3-8416-af649be3eba3",
   "metadata": {},
   "outputs": [],
   "source": [
    "## **8. Монадические конструкции**\n",
    "\n",
    "### **8.1 Обработка Maybe (Option)**\n",
    "# ```python\n",
    "def safe_divide(a, b):\n",
    "    return a / b if b != 0 else None\n",
    "\n",
    "result = safe_divide(10, 2)  # 5.0\n",
    "# ```\n",
    "\n",
    "### **8.2 Эмуляция Either**\n",
    "# ```python\n",
    "def either_divide(a, b):\n",
    "    try:\n",
    "        return Right(a / b)\n",
    "    except ZeroDivisionError as e:\n",
    "        return Left(e)\n",
    "# ```"
   ]
  },
  {
   "cell_type": "code",
   "execution_count": 17,
   "id": "056ab5a6-5584-458c-b1bd-36459edc5ce3",
   "metadata": {},
   "outputs": [],
   "source": [
    "## **9. Ленивые вычисления**\n",
    "\n",
    "### **9.1 Генераторы**\n",
    "# ```python\n",
    "def fibonacci():\n",
    "    a, b = 0, 1\n",
    "    while True:\n",
    "        yield a\n",
    "        a, b = b, a + b\n",
    "\n",
    "fib = fibonacci()\n",
    "next(fib)  # 0\n",
    "next(fib)  # 1\n",
    "# ```\n",
    "\n",
    "### **9.2 itertools для ленивых операций**\n",
    "# ```python\n",
    "from itertools import count, islice\n",
    "\n",
    "infinite = count(10)\n",
    "first_five = list(islice(infinite, 5))  # [10, 11, 12, 13, 14]\n",
    "# ```"
   ]
  },
  {
   "cell_type": "code",
   "execution_count": 18,
   "id": "faeb13a3-a193-4214-80bb-1398d74b4335",
   "metadata": {},
   "outputs": [],
   "source": [
    "## **10. Дополнительные функциональные инструменты**\n",
    "\n",
    "### **10.1 Замыкания**\n",
    "# ```python\n",
    "def make_counter():\n",
    "    count = 0\n",
    "    def counter():\n",
    "        nonlocal count\n",
    "        count += 1\n",
    "        return count\n",
    "    return counter\n",
    "\n",
    "c = make_counter()\n",
    "c()  # 1\n",
    "c()  # 2\n",
    "# ```\n",
    "\n",
    "### **10.2 Функциональные цепочки**\n",
    "# ```python\n",
    "from functools import reduce\n",
    "\n",
    "result = reduce(\n",
    "    lambda acc, x: acc + x,\n",
    "    filter(\n",
    "        lambda x: x % 2 == 0,\n",
    "        map(\n",
    "            lambda x: x * 2,\n",
    "            range(10)\n",
    "        )\n",
    "    )\n",
    ")  # 40\n",
    "# ```\n",
    "\n",
    "## **Сравнительная таблица конструкций**\n",
    "\n",
    "# | Конструкция    | Пример                  | Применение              |\n",
    "# |----------------|-------------------------|-------------------------|\n",
    "# | Лямбда         | `lambda x: x+1`         | Простые преобразования  |\n",
    "# | map            | `map(f, items)`         | Массовые преобразования |\n",
    "# | filter         | `filter(pred, items)`   | Фильтрация коллекций    |\n",
    "# | reduce         | `reduce(f, items)`      | Агрегация значений      |\n",
    "# | Генераторы     | `(x**2 for x in items)` | Ленивые вычисления      |\n",
    "# | Каррирование   | `partial(f, arg)`       | Специализация функций   |\n",
    "# | Рекурсия       | `def f(): return f()`   | Чистые алгоритмы        |"
   ]
  },
  {
   "cell_type": "code",
   "execution_count": 19,
   "id": "0f3f1bfb-67a5-43e2-aa16-8d4198f7992f",
   "metadata": {},
   "outputs": [],
   "source": [
    "## **Заключение**\n",
    "\n",
    "# Python предоставляет богатый набор синтаксических конструкций для функционального программирования, включая:\n",
    "\n",
    "# 1. **Анонимные функции** через `lambda`\n",
    "# 2. **Функции высшего порядка** (`map`, `filter`, `reduce`)\n",
    "# 3. **Генераторы и comprehensions** для ленивых вычислений\n",
    "# 4. **Декораторы** для модификации поведения функций\n",
    "# 5. **Каррирование** через `functools.partial`\n",
    "# 6. **Рекурсивные** подходы\n",
    "# 7. **Монадические** паттерны\n",
    "\n",
    "# Хотя Python не является чисто функциональным языком, грамотное использование этих конструкций позволяет писать более:\n",
    "# - Декларативный\n",
    "# - Компонуемый\n",
    "# - Предсказуемый код\n",
    "\n",
    "# Для глубокого погружения рекомендуется изучить:\n",
    "# - Модуль `functools`\n",
    "# - Модуль `itertools`\n",
    "# - Концепции монад и функторов\n",
    "# - Теорию лямбда-исчисления"
   ]
  }
 ],
 "metadata": {
  "kernelspec": {
   "display_name": "Python 3 (ipykernel)",
   "language": "python",
   "name": "python3"
  },
  "language_info": {
   "codemirror_mode": {
    "name": "ipython",
    "version": 3
   },
   "file_extension": ".py",
   "mimetype": "text/x-python",
   "name": "python",
   "nbconvert_exporter": "python",
   "pygments_lexer": "ipython3",
   "version": "3.12.3"
  }
 },
 "nbformat": 4,
 "nbformat_minor": 5
}
