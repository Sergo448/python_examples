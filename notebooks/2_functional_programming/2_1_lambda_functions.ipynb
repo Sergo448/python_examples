{
 "cells": [
  {
   "cell_type": "markdown",
   "id": "30f61152-3798-4873-a45d-6d3c128932de",
   "metadata": {},
   "source": [
    "# **Лямбда-функции в Python: теоретический анализ**"
   ]
  },
  {
   "cell_type": "code",
   "execution_count": 1,
   "id": "9aec86a2-a737-451c-9c43-c0042159530b",
   "metadata": {},
   "outputs": [],
   "source": [
    "## **1. Лямбда-исчисление как теоретическая основа**\n",
    "\n",
    "# Лямбда-функции в Python являются практической реализацией **лямбда-исчисления** (λ-исчисления), \n",
    "# формальной системы, разработанной Алонзо Чёрчем в 1930-х годах. В λ-исчислении:\n",
    "\n",
    "# 1. **Все сущности являются функциями**\n",
    "# 2. **Функции могут принимать другие функции как аргументы**\n",
    "# 3. **Функции могут возвращать другие функции**\n",
    "\n",
    "# Базовые элементы λ-исчисления:\n",
    "# - **Абстракция**: `λx.M` (функция с параметром `x` и телом `M`)\n",
    "# - **Аппликация**: `(M N)` (применение функции `M` к аргументу `N`)"
   ]
  },
  {
   "cell_type": "code",
   "execution_count": 2,
   "id": "de3aff35-06c8-422a-9aa5-215bd9b8f66e",
   "metadata": {},
   "outputs": [],
   "source": [
    "## **2. Формальное определение лямбда-функции в Python**\n",
    "\n",
    "# Лямбда-функция в Python имеет следующую формальную структуру:\n",
    "\n",
    "# ```\n",
    "# lambda <аргументы>: <выражение>\n",
    "# ```\n",
    "\n",
    "# Где:\n",
    "# - `аргументы` - список параметров (может быть пустым)\n",
    "# - `выражение` - единственное выражение, результат которого возвращается\n",
    "\n",
    "# **Теоретические ограничения:**\n",
    "# 1. Не может содержать операторы (`if`, `for` и т.д.) - только выражения\n",
    "# 2. Не поддерживает аннотации типов\n",
    "# 3. Не может содержать docstring"
   ]
  },
  {
   "cell_type": "code",
   "execution_count": 3,
   "id": "cb4c796d-4c5c-43b9-9ead-1310f1630f83",
   "metadata": {},
   "outputs": [
    {
     "data": {
      "text/plain": [
       "8"
      ]
     },
     "execution_count": 3,
     "metadata": {},
     "output_type": "execute_result"
    }
   ],
   "source": [
    "## **3. Математические свойства лямбда-функций**\n",
    "\n",
    "### **3.1. Чистота (Pure Functions)**\n",
    "# Идеальная лямбда-функция является **чистой функцией**:\n",
    "# - Нет побочных эффектов (side effects)\n",
    "# - Детерминированность результата\n",
    "# - Референциальная прозрачность\n",
    "\n",
    "# ```python\n",
    "# Чистая лямбда-функция\n",
    "pure = lambda x: x ** 2\n",
    "\n",
    "# Нечистая (с побочным эффектом)\n",
    "impure = lambda: print(\"Side effect!\")\n",
    "# ```\n",
    "\n",
    "### **3.2. Анонимность**\n",
    "# Лямбда-функции являются **анонимными** (не имеют имени в пространстве имён). Это соответствует теоретическому понятию λ-абстракции.\n",
    "\n",
    "# ```python\n",
    "# Математическая запись: λx.x+1\n",
    "# Python-реализация:\n",
    "lambda x: x + 1\n",
    "# ```\n",
    "\n",
    "### **3.3. Замыкания (Closures)**\n",
    "# Лямбда-функции поддерживают замыкания - захват переменных из окружающего контекста:\n",
    "\n",
    "# ```python\n",
    "def make_adder(n):\n",
    "    return lambda x: x + n  # Захватывает 'n' из внешней области\n",
    "\n",
    "add5 = make_adder(5)\n",
    "add5(3)  # 8\n",
    "# ```\n",
    "\n",
    "# С точки зрения теории:\n",
    "# - Создаётся **лексическое окружение**\n",
    "# - Происходит **связывание свободных переменных**"
   ]
  },
  {
   "cell_type": "code",
   "execution_count": 5,
   "id": "33e5c7a6-7684-406a-b025-12feecab3125",
   "metadata": {},
   "outputs": [
    {
     "data": {
      "text/plain": [
       "function"
      ]
     },
     "execution_count": 5,
     "metadata": {},
     "output_type": "execute_result"
    }
   ],
   "source": [
    "## **4. Теория типов для лямбда-функций**\n",
    "\n",
    "# В Python лямбда-функции являются объектами первого класса (first-class citizens), что означает:\n",
    "\n",
    "# 1. Могут быть **присвоены переменным**\n",
    "# ```python\n",
    "f = lambda x: x + 1\n",
    "# ```\n",
    "\n",
    "# 2. Могут быть **переданы как аргументы**\n",
    "# ```python\n",
    "list(map(lambda x: x*2, [1, 2, 3]))\n",
    "# ```\n",
    "\n",
    "# 3. Могут быть **возвращены из функций**\n",
    "# ```python\n",
    "def make_multiplier(n):\n",
    "   return lambda x: x * n\n",
    "# ```\n",
    "\n",
    "# **Тип лямбда-функции** в Python - `function`, как и у обычных функций:\n",
    "# ```python\n",
    "type(lambda x: x)  # <class 'function'>\n",
    "# ```"
   ]
  },
  {
   "cell_type": "code",
   "execution_count": 6,
   "id": "5ac13a75-49db-45ad-9f01-bf6baf86564f",
   "metadata": {},
   "outputs": [
    {
     "data": {
      "text/plain": [
       "7"
      ]
     },
     "execution_count": 6,
     "metadata": {},
     "output_type": "execute_result"
    }
   ],
   "source": [
    "## **5. Редукционные стратегии и лямбда-функции**\n",
    "\n",
    "# С теоретической точки зрения, Python использует **аппликативный порядок редукции** (eager evaluation):\n",
    "\n",
    "# 1. Аргументы вычисляются **перед** применением функции\n",
    "# 2. Нет оптимизации хвостовой рекурсии\n",
    "# 3. Лямбда-функции **немедленно вычисляются** при вызове\n",
    "\n",
    "# Контраст с ленивыми языками (Haskell):\n",
    "# ```python\n",
    "# Python (энергичное вычисление)\n",
    "(lambda x: x + 1)(2*3)  # Сначала вычисляется 2*3=6, затем 6+1=7\n",
    "\n",
    "# Теоретическое ленивое вычисление\n",
    "# (λx.x+1)(2*3) → (2*3)+1 → 6+1 → 7\n",
    "# ```"
   ]
  },
  {
   "cell_type": "code",
   "execution_count": 7,
   "id": "8153b0ed-4c28-45ed-8dd9-dc4f0a9963c7",
   "metadata": {},
   "outputs": [],
   "source": [
    "## **6. Комбинаторная логика в лямбда-функциях**\n",
    "\n",
    "# Некоторые классические комбинаторы могут быть выражены через лямбда-функции:\n",
    "\n",
    "### **6.1. I-комбинатор (тождественная функция)**\n",
    "# ```python\n",
    "I = lambda x: x\n",
    "# ```\n",
    "\n",
    "### **6.2. K-комбинатор (константная функция)**\n",
    "# ```python\n",
    "K = lambda x: lambda y: x\n",
    "# ```\n",
    "\n",
    "### **6.3. S-комбинатор**\n",
    "# ```python\n",
    "S = lambda f: lambda g: lambda x: f(x)(g(x))\n",
    "# ```\n",
    "\n",
    "# **Теоретическое значение**:\n",
    "# Эти комбинаторы образуют **полный базис** - любое λ-выражение может быть представлено через них."
   ]
  },
  {
   "cell_type": "code",
   "execution_count": 8,
   "id": "e3ba306f-c4fe-4f38-a21b-b3d4c78fb79e",
   "metadata": {},
   "outputs": [],
   "source": [
    "## **7. Ограничения с точки зрения теории**\n",
    "\n",
    "# 1. **Отсутствие рекурсии**:\n",
    "#    Лямбда-функции не могут ссылаться на себя (в отличие от полноценного λ-исчисления, где возможна рекурсия через Y-комбинатор)\n",
    "\n",
    "# 2. **Одно выражение**:\n",
    "#    Противоречит теоретической полноте λ-исчисления, где тело функции может быть сложным выражением\n",
    "\n",
    "# 3. **Отсутствие паттерн-матчинга**:\n",
    "#    В отличие от функциональных языков (Haskell, ML)"
   ]
  },
  {
   "cell_type": "code",
   "execution_count": 9,
   "id": "b8e983b0-d3cb-4a67-8a44-cae6526b068b",
   "metadata": {},
   "outputs": [],
   "source": [
    "## **8. Практические следствия теории**\n",
    "\n",
    "# 1. **Каррирование**:\n",
    "# ```python\n",
    "add = lambda x: lambda y: x + y\n",
    "add(2)(3)  # 5\n",
    "# ```\n",
    "\n",
    "# 2. **Композиция функций**:\n",
    "# ```python\n",
    "compose = lambda f, g: lambda x: f(g(x))\n",
    "# ```\n",
    "\n",
    "# 3. **Монадические операции** (упрощённо):\n",
    "# ```python\n",
    "bind = lambda m, f: f(m) if m is not None else None\n",
    "# ```"
   ]
  },
  {
   "cell_type": "code",
   "execution_count": 10,
   "id": "efeb1c3e-7568-4b96-a734-2e96e8baa071",
   "metadata": {},
   "outputs": [],
   "source": [
    "## **9. Сравнение с математической λ-нотацией**\n",
    "\n",
    "# | Математическая запись     | Python-эквивалент                              |\n",
    "# |---------------------------|------------------------------------------------|\n",
    "# | `λx.x`                    | `lambda x: x`                                  |\n",
    "# | `(λx.x+1) 5`              | `(lambda x: x+1)(5)`                           |\n",
    "# | `λx.λy.x+y`               | `lambda x: lambda y: x+y`                      |\n",
    "# | `(λf.λx.f(f x)) (λx.x*2)` | `(lambda f: lambda x: f(f(x)))(lambda x: x*2)` |"
   ]
  },
  {
   "cell_type": "code",
   "execution_count": 11,
   "id": "87b302b9-fa8c-452a-a0b2-4f78268cc171",
   "metadata": {},
   "outputs": [],
   "source": [
    "## **10. Заключение: теоретическая значимость**\n",
    "\n",
    "# Лямбда-функции в Python представляют собой:\n",
    "# 1. **Практическую реализацию λ-исчисления** с ограничениями\n",
    "# 2. **Средство для функциональной композиции**\n",
    "# 3. **Доказательство того, что Python поддерживает функции высшего порядка**\n",
    "\n",
    "# Хотя они и не реализуют всю мощь теоретического λ-исчисления, лямбда-функции:\n",
    "# - Позволяют писать **более декларативный код**\n",
    "# - Поддерживают **каррирование и замыкания**\n",
    "# - Являются **фундаментом для функциональных паттернов** в Python\n",
    "\n",
    "# Для глубокого понимания рекомендуется изучить:\n",
    "# 1. Теорию λ-исчисления\n",
    "# 2. Комбинаторную логику\n",
    "# 3. Системы типов для функциональных языков\n",
    "# 4. Теорию редукционных стратегий"
   ]
  },
  {
   "cell_type": "markdown",
   "id": "f1546159-391e-427b-9a2b-f4608a3c05f5",
   "metadata": {},
   "source": [
    "# **Практическое применение лямбда-функций в Python: 10 реальных примеров**"
   ]
  },
  {
   "cell_type": "code",
   "execution_count": 12,
   "id": "00c7eab4-2a08-40b5-b82f-cceccc62bbdf",
   "metadata": {},
   "outputs": [],
   "source": [
    "# Лямбда-функции в Python — это мощный инструмент для создания анонимных функций \"на лету\".\n",
    "# В этой статье я покажу **конкретные практические примеры** их использования, \n",
    "# которые вы сможете применять в своих проектах уже сегодня."
   ]
  },
  {
   "cell_type": "code",
   "execution_count": 13,
   "id": "afaaaf56-824c-4f56-bc64-eb6f0f583ded",
   "metadata": {},
   "outputs": [
    {
     "name": "stdout",
     "output_type": "stream",
     "text": [
      "[{'name': 'Charlie', 'age': 20}, {'name': 'Alice', 'age': 25}, {'name': 'Bob', 'age': 30}]\n"
     ]
    }
   ],
   "source": [
    "## **1. Сортировка данных**\n",
    "\n",
    "### **Сортировка списка словарей по ключу**\n",
    "# ```python\n",
    "users = [\n",
    "    {'name': 'Alice', 'age': 25},\n",
    "    {'name': 'Bob', 'age': 30},\n",
    "    {'name': 'Charlie', 'age': 20}\n",
    "]\n",
    "\n",
    "# Сортировка по возрасту\n",
    "users_sorted = sorted(users, key=lambda x: x['age'])\n",
    "print(users_sorted)\n",
    "# [{'name': 'Charlie', 'age': 20}, {'name': 'Alice', 'age': 25}, {'name': 'Bob', 'age': 30}]\n",
    "# ```\n",
    "\n",
    "### **Сортировка с несколькими ключами**\n",
    "# ```python\n",
    "# Сначала по возрасту, потом по имени\n",
    "users_sorted = sorted(users, key=lambda x: (x['age'], x['name']))\n",
    "# ```"
   ]
  },
  {
   "cell_type": "code",
   "execution_count": 14,
   "id": "a87f79ae-189f-4ca8-abf5-7cabcfd5a970",
   "metadata": {},
   "outputs": [
    {
     "name": "stdout",
     "output_type": "stream",
     "text": [
      "[2, 4, 6]\n",
      "[1, 4, 9, 16, 25, 36]\n"
     ]
    }
   ],
   "source": [
    "## **2. Обработка коллекций**\n",
    "\n",
    "### **Фильтрация списка**\n",
    "# ```python\n",
    "numbers = [1, 2, 3, 4, 5, 6]\n",
    "even_numbers = list(filter(lambda x: x % 2 == 0, numbers))\n",
    "print(even_numbers)  # [2, 4, 6]\n",
    "# ```\n",
    "\n",
    "### **Преобразование элементов**\n",
    "# ```python\n",
    "squares = list(map(lambda x: x ** 2, numbers))\n",
    "print(squares)  # [1, 4, 9, 16, 25, 36]\n",
    "# ```"
   ]
  },
  {
   "cell_type": "code",
   "execution_count": 15,
   "id": "18201554-42ad-4a7a-b158-6900ac0108a7",
   "metadata": {},
   "outputs": [
    {
     "name": "stdout",
     "output_type": "stream",
     "text": [
      "Кнопка нажата!\n"
     ]
    }
   ],
   "source": [
    "## **3. Работа с GUI (Tkinter)**\n",
    "\n",
    "### **Кнопка с действием**\n",
    "# ```python\n",
    "import tkinter as tk\n",
    "\n",
    "root = tk.Tk()\n",
    "button = tk.Button(\n",
    "    root, \n",
    "    text=\"Нажми меня\",\n",
    "    command=lambda: print(\"Кнопка нажата!\")\n",
    ")\n",
    "button.pack()\n",
    "root.mainloop()\n",
    "# ```"
   ]
  },
  {
   "cell_type": "code",
   "execution_count": 16,
   "id": "1713df34-7788-4c01-830b-5131bad00677",
   "metadata": {},
   "outputs": [
    {
     "name": "stdout",
     "output_type": "stream",
     "text": [
      "   a  b  c\n",
      "0  1  4  5\n",
      "1  2  5  7\n",
      "2  3  6  9\n"
     ]
    }
   ],
   "source": [
    "## **4. Обработка данных в Pandas**\n",
    "\n",
    "### **Применение функции к столбцу**\n",
    "# ```python\n",
    "import pandas as pd\n",
    "\n",
    "df = pd.DataFrame({'a': [1, 2, 3], 'b': [4, 5, 6]})\n",
    "df['c'] = df.apply(lambda row: row['a'] + row['b'], axis=1)\n",
    "print(df)\n",
    "\n",
    "#    a  b  c\n",
    "# 0  1  4  5\n",
    "# 1  2  5  7\n",
    "# 2  3  6  9\n",
    "# ```"
   ]
  },
  {
   "cell_type": "code",
   "execution_count": 17,
   "id": "8de5a1c3-b2b6-41d3-848b-2e5c09e8d45b",
   "metadata": {},
   "outputs": [
    {
     "name": "stdout",
     "output_type": "stream",
     "text": [
      "10\n",
      "15\n"
     ]
    }
   ],
   "source": [
    "## **5. Динамическое создание функций**\n",
    "\n",
    "### **Фабрика функций**\n",
    "# ```python\n",
    "def create_multiplier(n):\n",
    "    return lambda x: x * n\n",
    "\n",
    "double = create_multiplier(2)\n",
    "triple = create_multiplier(3)\n",
    "\n",
    "print(double(5))  # 10\n",
    "print(triple(5))  # 15\n",
    "# ```"
   ]
  },
  {
   "cell_type": "code",
   "execution_count": 18,
   "id": "69659dfa-02bd-4213-acb7-bd8eb99ec737",
   "metadata": {},
   "outputs": [
    {
     "name": "stdout",
     "output_type": "stream",
     "text": [
      "['button1', 'button2', 'button3']\n"
     ]
    }
   ],
   "source": [
    "## **6. Обработка событий**\n",
    "\n",
    "### **Сортировка с пользовательским условием**\n",
    "# ```python\n",
    "buttons = ['button3', 'button1', 'button2']\n",
    "# Сортировка по числовой части\n",
    "buttons_sorted = sorted(buttons, key=lambda x: int(x[6:]))\n",
    "print(buttons_sorted)  # ['button1', 'button2', 'button3']\n",
    "# ```"
   ]
  },
  {
   "cell_type": "code",
   "execution_count": 19,
   "id": "b15ef141-7ee6-474b-9e47-b85936bdf8d9",
   "metadata": {
    "collapsed": true,
    "jupyter": {
     "outputs_hidden": true
    }
   },
   "outputs": [
    {
     "ename": "FileNotFoundError",
     "evalue": "[Errno 2] No such file or directory: 'file.txt'",
     "output_type": "error",
     "traceback": [
      "\u001b[1;31m---------------------------------------------------------------------------\u001b[0m",
      "\u001b[1;31mFileNotFoundError\u001b[0m                         Traceback (most recent call last)",
      "Cell \u001b[1;32mIn[19], line 5\u001b[0m\n\u001b[0;32m      1\u001b[0m \u001b[38;5;66;03m## **7. Работа с файлами**\u001b[39;00m\n\u001b[0;32m      2\u001b[0m \n\u001b[0;32m      3\u001b[0m \u001b[38;5;66;03m### **Сортировка строк файла по длине**\u001b[39;00m\n\u001b[0;32m      4\u001b[0m \u001b[38;5;66;03m# ```python\u001b[39;00m\n\u001b[1;32m----> 5\u001b[0m \u001b[38;5;28;01mwith\u001b[39;00m \u001b[38;5;28mopen\u001b[39m(\u001b[38;5;124m'\u001b[39m\u001b[38;5;124mfile.txt\u001b[39m\u001b[38;5;124m'\u001b[39m) \u001b[38;5;28;01mas\u001b[39;00m f:\n\u001b[0;32m      6\u001b[0m     lines \u001b[38;5;241m=\u001b[39m \u001b[38;5;28msorted\u001b[39m(f\u001b[38;5;241m.\u001b[39mreadlines(), key\u001b[38;5;241m=\u001b[39m\u001b[38;5;28;01mlambda\u001b[39;00m x: \u001b[38;5;28mlen\u001b[39m(x))\n",
      "File \u001b[1;32m~\\anaconda3\\Lib\\site-packages\\IPython\\core\\interactiveshell.py:324\u001b[0m, in \u001b[0;36m_modified_open\u001b[1;34m(file, *args, **kwargs)\u001b[0m\n\u001b[0;32m    317\u001b[0m \u001b[38;5;28;01mif\u001b[39;00m file \u001b[38;5;129;01min\u001b[39;00m {\u001b[38;5;241m0\u001b[39m, \u001b[38;5;241m1\u001b[39m, \u001b[38;5;241m2\u001b[39m}:\n\u001b[0;32m    318\u001b[0m     \u001b[38;5;28;01mraise\u001b[39;00m \u001b[38;5;167;01mValueError\u001b[39;00m(\n\u001b[0;32m    319\u001b[0m         \u001b[38;5;124mf\u001b[39m\u001b[38;5;124m\"\u001b[39m\u001b[38;5;124mIPython won\u001b[39m\u001b[38;5;124m'\u001b[39m\u001b[38;5;124mt let you open fd=\u001b[39m\u001b[38;5;132;01m{\u001b[39;00mfile\u001b[38;5;132;01m}\u001b[39;00m\u001b[38;5;124m by default \u001b[39m\u001b[38;5;124m\"\u001b[39m\n\u001b[0;32m    320\u001b[0m         \u001b[38;5;124m\"\u001b[39m\u001b[38;5;124mas it is likely to crash IPython. If you know what you are doing, \u001b[39m\u001b[38;5;124m\"\u001b[39m\n\u001b[0;32m    321\u001b[0m         \u001b[38;5;124m\"\u001b[39m\u001b[38;5;124myou can use builtins\u001b[39m\u001b[38;5;124m'\u001b[39m\u001b[38;5;124m open.\u001b[39m\u001b[38;5;124m\"\u001b[39m\n\u001b[0;32m    322\u001b[0m     )\n\u001b[1;32m--> 324\u001b[0m \u001b[38;5;28;01mreturn\u001b[39;00m io_open(file, \u001b[38;5;241m*\u001b[39margs, \u001b[38;5;241m*\u001b[39m\u001b[38;5;241m*\u001b[39mkwargs)\n",
      "\u001b[1;31mFileNotFoundError\u001b[0m: [Errno 2] No such file or directory: 'file.txt'"
     ]
    }
   ],
   "source": [
    "## **7. Работа с файлами**\n",
    "\n",
    "### **Сортировка строк файла по длине**\n",
    "# ```python\n",
    "with open('file.txt') as f:\n",
    "    lines = sorted(f.readlines(), key=lambda x: len(x))\n",
    "# ```"
   ]
  },
  {
   "cell_type": "code",
   "execution_count": 20,
   "id": "dfc448d7-642a-405e-b1a6-b8f324ee91a5",
   "metadata": {},
   "outputs": [
    {
     "name": "stdout",
     "output_type": "stream",
     "text": [
      "4.000010000027032\n"
     ]
    }
   ],
   "source": [
    "## **8. Математические операции**\n",
    "\n",
    "### **Вычисление производной (численный метод)**\n",
    "# ```python\n",
    "def derivative(f, h=1e-5):\n",
    "    return lambda x: (f(x + h) - f(x)) / h\n",
    "\n",
    "# Производная квадратичной функции\n",
    "f = lambda x: x**2\n",
    "f_prime = derivative(f)\n",
    "\n",
    "print(f_prime(2))  # ≈4.000 (теоретически 4)\n",
    "# ```"
   ]
  },
  {
   "cell_type": "code",
   "execution_count": 21,
   "id": "0e1a2137-1a54-4318-9992-2edb0a32a39a",
   "metadata": {},
   "outputs": [
    {
     "name": "stdout",
     "output_type": "stream",
     "text": [
      "['Alice', 'Bob']\n"
     ]
    }
   ],
   "source": [
    "## **9. Обработка JSON**\n",
    "\n",
    "### **Извлечение данных из сложной структуры**\n",
    "# ```python\n",
    "import json\n",
    "\n",
    "data = json.loads('''{\n",
    "    \"users\": [\n",
    "        {\"id\": 1, \"name\": \"Alice\"},\n",
    "        {\"id\": 2, \"name\": \"Bob\"}\n",
    "    ]\n",
    "}''')\n",
    "\n",
    "names = list(map(lambda x: x['name'], data['users']))\n",
    "print(names)  # ['Alice', 'Bob']\n",
    "# ```"
   ]
  },
  {
   "cell_type": "code",
   "execution_count": 22,
   "id": "bfcc9e82-1cfb-4e4c-a3c2-a13732ed9961",
   "metadata": {},
   "outputs": [
    {
     "name": "stdout",
     "output_type": "stream",
     "text": [
      "[{'id': 6355, 'age': 57}, {'id': 9807, 'age': 59}, {'id': 8900, 'age': 56}]\n"
     ]
    }
   ],
   "source": [
    "## **10. Создание тестовых данных**\n",
    "\n",
    "### **Генерация случайных пользователей**\n",
    "# ```python\n",
    "import random\n",
    "\n",
    "create_user = lambda: {\n",
    "    'id': random.randint(1000, 9999),\n",
    "    'age': random.randint(18, 60)\n",
    "}\n",
    "\n",
    "users = [create_user() for _ in range(3)]\n",
    "print(users)\n",
    "\n",
    "# [{'id': 3456, 'age': 42}, {'id': 7891, 'age': 23}, {'id': 1234, 'age': 35}]\n",
    "# ```"
   ]
  },
  {
   "cell_type": "code",
   "execution_count": 23,
   "id": "81d7c97b-08a3-43f2-aca8-64528ddd3e9f",
   "metadata": {},
   "outputs": [],
   "source": [
    "## **Когда НЕ стоит использовать лямбда-функции**\n",
    "\n",
    "# 1. **Сложная логика** - если функция больше одной строки, лучше использовать `def`\n",
    "# 2. **Многократное использование** - если функция вызывается много раз, дайте ей имя\n",
    "# 3. **Неочевидные операции** - если лямбда делает код менее читаемым\n",
    "\n",
    "## **Вывод**\n",
    "\n",
    "# Лямбда-функции в Python особенно полезны для:\n",
    "\n",
    "# - Кратких операций преобразования данных (`map`, `filter`, `sorted`)\n",
    "# - Колбэков и обработчиков событий\n",
    "# - Создания специализированных функций на лету\n",
    "# - Улучшения читаемости кода в простых случаях\n",
    "\n",
    "# Попробуйте применить эти примеры в своих проектах! Они помогут писать более лаконичный и выразительный Python-код."
   ]
  }
 ],
 "metadata": {
  "kernelspec": {
   "display_name": "Python 3 (ipykernel)",
   "language": "python",
   "name": "python3"
  },
  "language_info": {
   "codemirror_mode": {
    "name": "ipython",
    "version": 3
   },
   "file_extension": ".py",
   "mimetype": "text/x-python",
   "name": "python",
   "nbconvert_exporter": "python",
   "pygments_lexer": "ipython3",
   "version": "3.12.3"
  }
 },
 "nbformat": 4,
 "nbformat_minor": 5
}
