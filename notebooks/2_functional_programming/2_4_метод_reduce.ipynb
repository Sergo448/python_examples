{
 "cells": [
  {
   "cell_type": "markdown",
   "id": "bfc10c8c-3f0e-4018-ad2e-39706d850d60",
   "metadata": {},
   "source": [
    "# **Метод `reduce()`: теоретические основы и практическое применение**"
   ]
  },
  {
   "cell_type": "code",
   "execution_count": 1,
   "id": "36c47743-63da-4d0b-9f29-f86eab0cb21b",
   "metadata": {},
   "outputs": [],
   "source": [
    "# Метод `reduce()` — одна из фундаментальных операций в функциональном программировании, \n",
    "# реализующая концепцию **свёртки** (fold) данных. В этой статье мы глубоко разберём его \n",
    "# теоретические основы, математическую природу и практические аспекты использования в Python."
   ]
  },
  {
   "cell_type": "code",
   "execution_count": 3,
   "id": "64570267-22ae-43dc-8023-682f57fcdfb1",
   "metadata": {},
   "outputs": [],
   "source": [
    "from functools import reduce"
   ]
  },
  {
   "cell_type": "code",
   "execution_count": 4,
   "id": "f2755527-29c7-4b99-a3f4-d346c3a070fb",
   "metadata": {},
   "outputs": [
    {
     "data": {
      "text/plain": [
       "10"
      ]
     },
     "execution_count": 4,
     "metadata": {},
     "output_type": "execute_result"
    }
   ],
   "source": [
    "## **1. Теоретическая основа метода `reduce()`**\n",
    "\n",
    "### **1.1 Математическая модель**\n",
    "# `reduce()` реализует операцию **левой свёртки** (left fold) из теории функционального программирования:\n",
    "\n",
    "# \\[\n",
    "# \\text{reduce}(f, [x_1, x_2, ..., x_n]) = f(f(f(x_1, x_2), x_3), ..., x_n)\n",
    "# \\]\n",
    "\n",
    "# Где:\n",
    "# - \\( f \\) — функция двух аргументов (аккумулятор, текущий элемент)\n",
    "# - \\( [x_1, x_2, ..., x_n] \\) — входная последовательность\n",
    "\n",
    "### **1.2 Формальное определение**\n",
    "# Операция `reduce`:\n",
    "# 1. Берёт **первые два элемента** последовательности\n",
    "# 2. Применяет к ним функцию \\( f \\)\n",
    "# 3. Использует результат как новый аккумулятор\n",
    "# 4. Повторяет процесс до конца последовательности\n",
    "\n",
    "# **Пример вычисления суммы:**\n",
    "# ```python\n",
    "reduce(lambda acc, x: acc + x, [1, 2, 3, 4]) \n",
    "\n",
    "\n",
    "# Шаги:\n",
    "# 1. (1 + 2) → 3\n",
    "# 2. (3 + 3) → 6\n",
    "# 3. (6 + 4) → 10\n",
    "# ```"
   ]
  },
  {
   "cell_type": "code",
   "execution_count": 5,
   "id": "fade416d-2400-4058-9d31-9b06dfc9c5b4",
   "metadata": {},
   "outputs": [],
   "source": [
    "## **2. Синтаксис и параметры**\n",
    "\n",
    "### **2.1 Базовая форма**\n",
    "# ```python\n",
    "# from functools import reduce\n",
    "\n",
    "# reduce(function, iterable[, initializer])\n",
    "# ```\n",
    "\n",
    "# - **`function`** — функция вида `f(acc, x)`\n",
    "# - **`iterable`** — любая последовательность\n",
    "# - **`initializer`** (опционально) — начальное значение аккумулятора\n",
    "\n",
    "### **2.2 Особенности работы**\n",
    "# - Если последовательность пуста и нет `initializer` → `TypeError`\n",
    "# - С `initializer` обработка начинается с него, а не с первого элемента"
   ]
  },
  {
   "cell_type": "code",
   "execution_count": 6,
   "id": "06467714-a92e-4de2-b616-adc072418bf0",
   "metadata": {},
   "outputs": [],
   "source": [
    "## **3. Теория: категориальные корни**\n",
    "\n",
    "### **3.1 Связь с теорией категорий**\n",
    "# `reduce` представляет собой:\n",
    "# - **Эндоморфизм** в категории типов (преобразование `T → T`)\n",
    "# - **Морфизм свёртки** для свободных моноидов (списков)\n",
    "\n",
    "### **3.2 Алгебраические свойства**\n",
    "# Для ассоциативной операции \\( f \\) (например, сложение):\n",
    "# ```python\n",
    "# reduce(f, [a, b, c]) == f(a, reduce(f, [b, c]))\n",
    "# ```"
   ]
  },
  {
   "cell_type": "code",
   "execution_count": 7,
   "id": "0977455f-a2ee-4fe7-a4ea-fd6bbb7e0c81",
   "metadata": {},
   "outputs": [
    {
     "data": {
      "text/plain": [
       "216"
      ]
     },
     "execution_count": 7,
     "metadata": {},
     "output_type": "execute_result"
    }
   ],
   "source": [
    "## **4. Практические примеры**\n",
    "\n",
    "### **4.1 Базовые операции**\n",
    "# ```python\n",
    "# Сумма\n",
    "reduce(lambda a, b: a + b, [1, 2, 3, 4])  # 10\n",
    "\n",
    "# Произведение\n",
    "reduce(lambda a, b: a * b, [1, 2, 3, 4])  # 24\n",
    "\n",
    "# Конкатенация строк\n",
    "reduce(lambda a, b: a + b, [\"a\", \"b\", \"c\"])  # \"abc\"\n",
    "# ```\n",
    "\n",
    "### **4.2 Составные операции**\n",
    "# ```python\n",
    "# Поиск максимального элемента\n",
    "reduce(lambda a, b: a if a > b else b, [7, 2, 9, 4])  # 9\n",
    "\n",
    "# Композиция функций\n",
    "funcs = [lambda x: x+1, lambda x: x*2, lambda x: x**3]\n",
    "reduce(lambda f, g: lambda x: g(f(x)), funcs)(2)  # ((2+1)*2)^3 = 216\n",
    "# ```"
   ]
  },
  {
   "cell_type": "code",
   "execution_count": 8,
   "id": "f5828b77-63a3-4fb5-b5f2-43e7d44f09c3",
   "metadata": {},
   "outputs": [],
   "source": [
    "## **5. Сравнение с альтернативами**\n",
    "\n",
    "### **5.1 Императивный подход**\n",
    "# ```python\n",
    "# reduce\n",
    "result = reduce(lambda a, b: a * b, [1, 2, 3, 4])\n",
    "\n",
    "# Эквивалентный цикл\n",
    "result = 1\n",
    "for num in [1, 2, 3, 4]:\n",
    "    result *= num\n",
    "# ```\n",
    "\n",
    "# **Преимущества `reduce`:**\n",
    "# - Более декларативный стиль\n",
    "# - Лучшая композируемость\n",
    "# - Чёткое разделение операции и данных\n",
    "\n",
    "### **5.2 Рекурсивная реализация**\n",
    "# ```python\n",
    "def reduce_rec(f, seq, acc=None):\n",
    "    if not seq:\n",
    "        return acc\n",
    "    if acc is None:\n",
    "        return reduce_rec(f, seq[1:], seq[0])\n",
    "    return reduce_rec(f, seq[1:], f(acc, seq[0]))\n",
    "# ```"
   ]
  },
  {
   "cell_type": "code",
   "execution_count": 10,
   "id": "3936307f-90ee-4194-b09c-15b08ecb6e71",
   "metadata": {},
   "outputs": [
    {
     "data": {
      "text/plain": [
       "(9, 12)"
      ]
     },
     "execution_count": 10,
     "metadata": {},
     "output_type": "execute_result"
    }
   ],
   "source": [
    "## **6. Ограничения и подводные камни**\n",
    "\n",
    "### **6.1 Проблемы читаемости**\n",
    "# Сложные лямбда-выражения ухудшают понимание:\n",
    "# ```python\n",
    "# Плохо\n",
    "reduce(lambda a, b: (a[0]+b[0], a[1]+b[1]), [(1,2), (3,4), (5,6)])\n",
    "\n",
    "# Лучше\n",
    "def add_tuples(a, b):\n",
    "    return (a[0]+b[0], a[1]+b[1])\n",
    "reduce(add_tuples, [(1,2), (3,4), (5,6)])\n",
    "# ```\n",
    "\n",
    "### **6.2 Производительность**\n",
    "# - В CPython `reduce` медленнее цикла (~2x)\n",
    "# - Не подходит для JIT-оптимизации (в отличие от NumPy)"
   ]
  },
  {
   "cell_type": "code",
   "execution_count": 12,
   "id": "f3b197bd-6efc-48c8-937d-adc145cdfb36",
   "metadata": {},
   "outputs": [
    {
     "data": {
      "text/plain": [
       "6"
      ]
     },
     "execution_count": 12,
     "metadata": {},
     "output_type": "execute_result"
    }
   ],
   "source": [
    "## **7. Оптимизированные альтернативы**\n",
    "\n",
    "### **7.1 Встроенные функции**\n",
    "# Для стандартных операций:\n",
    "# ```python\n",
    "import math\n",
    "\n",
    "sum([1, 2, 3])          # вместо reduce(add, ...)\n",
    "math.prod([1, 2, 3])    # вместо reduce(mul, ...) (Python 3.8+)\n",
    "# ```\n",
    "\n",
    "### **7.2 NumPy**\n",
    "# Для числовых массивов:\n",
    "# ```python\n",
    "import numpy as np\n",
    "np.array([1, 2, 3]).prod()  # Быстрее reduce в 10-100 раз\n",
    "# ```"
   ]
  },
  {
   "cell_type": "code",
   "execution_count": null,
   "id": "2934ee0f-6158-4d04-b23a-b52c9c7c6245",
   "metadata": {},
   "outputs": [],
   "source": [
    "## **8. Глубокий разбор: сигнатура и типы**\n",
    "\n",
    "### **8.1 Типовая сигнатура**\n",
    "# ```typescript\n",
    "# reduce :: (b -> a -> b) -> b -> [a] -> b\n",
    "# ```\n",
    "# Где:\n",
    "# - Первый аргумент — функция свёртки\n",
    "# - Второй — начальное значение (опционально)\n",
    "# - Третий — последовательность\n",
    "\n",
    "### **8.2 Пример с аннотациями типов**\n",
    "# ```python\n",
    "from typing import TypeVar, Callable\n",
    "\n",
    "T = TypeVar('T')\n",
    "U = TypeVar('U')\n",
    "\n",
    "def reduce(\n",
    "    func: Callable[[T, U], T],\n",
    "    iterable: Iterable[U],\n",
    "    initializer: Optional[T] = None\n",
    ") -> T:\n",
    "    ...\n",
    "# ```"
   ]
  },
  {
   "cell_type": "code",
   "execution_count": 13,
   "id": "21e2ab46-41eb-4399-8996-ddaefa39f3dd",
   "metadata": {},
   "outputs": [],
   "source": [
    "## **9. Историческая справка**\n",
    "\n",
    "# - В Python 2 `reduce()` был встроенной функцией\n",
    "# - В Python 3 перенесён в модуль `functools` (из-за частого злоупотребления)\n",
    "# - Идея восходит к LISP (1958) и APL (1960-е)"
   ]
  },
  {
   "cell_type": "code",
   "execution_count": 14,
   "id": "db07ab60-a13a-445e-9d75-046f7488ccc8",
   "metadata": {},
   "outputs": [],
   "source": [
    "## **10. Заключение: когда использовать `reduce`?**\n",
    "\n",
    "# **Идеальные случаи:**\n",
    "# - Цепочки ассоциативных операций\n",
    "# - Композиция функций\n",
    "# - Кастомные агрегации без встроенных аналогов\n",
    "\n",
    "# **Лучшие практики:**\n",
    "# 1. Используйте именованные функции вместо сложных лямбд\n",
    "# 2. Предпочитайте встроенные агрегаторы (`sum`, `math.prod`) когда возможно\n",
    "# 3. Для числовых данных рассмотрите NumPy\n",
    "# 4. Избегайте для простых операций, где читаемость важнее краткости\n",
    "\n",
    "# **Философская заметка:**\n",
    "# `reduce` воплощает принцип \"разделяй и властвуй\" в функциональном программировании,\n",
    "# позволяя выражать сложные преобразования данных через композицию простых операций."
   ]
  },
  {
   "cell_type": "markdown",
   "id": "7df7defd-b22f-4ce9-b1a1-c4864cce3e18",
   "metadata": {},
   "source": [
    "# **Практическое руководство по использованию `reduce()` в Python**"
   ]
  },
  {
   "cell_type": "code",
   "execution_count": 15,
   "id": "2e2c3d1a-771e-44b2-a104-7e10c250253c",
   "metadata": {},
   "outputs": [],
   "source": [
    "# Метод `reduce()` из модуля `functools` — мощный инструмент для агрегации данных, который часто незаслуженно обходят вниманием.\n",
    "# В этой статье разберём реальные практические примеры применения `reduce()` в Python."
   ]
  },
  {
   "cell_type": "code",
   "execution_count": 16,
   "id": "f809f8ec-c4b5-4d27-84f3-5eff46de93fd",
   "metadata": {},
   "outputs": [],
   "source": [
    "## **1. Основы работы reduce()**\n",
    "\n",
    "### **Импорт и синтаксис**\n",
    "# ```python\n",
    "from functools import reduce\n",
    "\n",
    "# result = reduce(function, iterable[, initializer])\n",
    "# ```\n",
    "\n",
    "# Где:\n",
    "# - `function` — функция, принимающая 2 аргумента (аккумулятор и текущий элемент)\n",
    "# - `iterable` — последовательность для обработки\n",
    "# - `initializer` — начальное значение (опционально)"
   ]
  },
  {
   "cell_type": "code",
   "execution_count": 17,
   "id": "06d1a588-5259-4b21-b6a3-aef7598f5461",
   "metadata": {},
   "outputs": [
    {
     "name": "stdout",
     "output_type": "stream",
     "text": [
      "15\n",
      "120\n",
      "8 1\n",
      "Hello world!\n",
      "9\n",
      "{'a': 3, 'b': 2, 'c': 4}\n",
      "84.33333333333333\n",
      "[1, 2, 3, 4, 5, 6]\n",
      "{'fruit': ['apple', 'banana'], 'vegetable': ['carrot', 'potato']}\n"
     ]
    }
   ],
   "source": [
    "## **2. Практические примеры применения**\n",
    "\n",
    "### **2.1 Математические операции**\n",
    "\n",
    "#### **Вычисление суммы чисел**\n",
    "# ```python\n",
    "numbers = [1, 2, 3, 4, 5]\n",
    "sum_result = reduce(lambda acc, x: acc + x, numbers)\n",
    "print(sum_result)  # 15\n",
    "# ```\n",
    "\n",
    "#### **Вычисление произведения**\n",
    "# ```python\n",
    "numbers = [1, 2, 3, 4, 5]\n",
    "product = reduce(lambda acc, x: acc * x, numbers)\n",
    "print(product)  # 120\n",
    "# ```\n",
    "\n",
    "#### **Поиск максимального/минимального элемента**\n",
    "# ```python\n",
    "numbers = [4, 2, 8, 1, 5]\n",
    "max_num = reduce(lambda a, b: a if a > b else b, numbers)\n",
    "min_num = reduce(lambda a, b: a if a < b else b, numbers)\n",
    "print(max_num, min_num)  # 8 1\n",
    "# ```\n",
    "\n",
    "### **2.2 Работа со строками**\n",
    "\n",
    "#### **Конкатенация строк**\n",
    "# ```python\n",
    "words = [\"Hello\", \" \", \"world\", \"!\"]\n",
    "sentence = reduce(lambda a, b: a + b, words)\n",
    "print(sentence)  # \"Hello world!\"\n",
    "# ```\n",
    "\n",
    "#### **Подсчёт гласных в тексте**\n",
    "# ```python\n",
    "text = \"Functional programming in Python\"\n",
    "vowels = reduce(\n",
    "    lambda count, char: count + (1 if char.lower() in 'aeiou' else 0),\n",
    "    text,\n",
    "    0  # начальное значение счётчика\n",
    ")\n",
    "print(vowels)  # 11\n",
    "# ```\n",
    "\n",
    "### **2.3 Обработка структур данных**\n",
    "\n",
    "#### **Слияние словарей**\n",
    "# ```python\n",
    "dicts = [{'a': 1}, {'b': 2}, {'a': 3, 'c': 4}]\n",
    "merged = reduce(lambda d1, d2: {**d1, **d2}, dicts)\n",
    "print(merged)  # {'a': 3, 'b': 2, 'c': 4}\n",
    "# ```\n",
    "\n",
    "#### **Вычисление среднего значения**\n",
    "# ```python\n",
    "data = [('math', 90), ('science', 85), ('history', 78)]\n",
    "avg = reduce(\n",
    "    lambda acc, x: (acc[0] + x[1], acc[1] + 1),\n",
    "    data,\n",
    "    (0, 0)  # (сумма, количество)\n",
    ")\n",
    "average = avg[0] / avg[1]\n",
    "print(average)  # 84.333...\n",
    "# ```\n",
    "\n",
    "### **2.4 Работа с вложенными структурами**\n",
    "\n",
    "#### **Выравнивание списка списков**\n",
    "# ```python\n",
    "nested = [[1, 2], [3, 4, 5], [6]]\n",
    "flattened = reduce(lambda acc, lst: acc + lst, nested, [])\n",
    "print(flattened)  # [1, 2, 3, 4, 5, 6]\n",
    "# ```\n",
    "\n",
    "#### **Группировка данных**\n",
    "# ```python\n",
    "from collections import defaultdict\n",
    "\n",
    "data = [('apple', 'fruit'), ('carrot', 'vegetable'), \n",
    "        ('banana', 'fruit'), ('potato', 'vegetable')]\n",
    "\n",
    "grouped = reduce(\n",
    "    lambda d, item: d[item[1]].append(item[0]) or d,\n",
    "    data,\n",
    "    defaultdict(list)\n",
    ")\n",
    "print(dict(grouped))\n",
    "# {'fruit': ['apple', 'banana'], 'vegetable': ['carrot', 'potato']}\n",
    "# ```"
   ]
  },
  {
   "cell_type": "code",
   "execution_count": 19,
   "id": "e108dec3-b391-4844-bfa0-0fa20fed2132",
   "metadata": {},
   "outputs": [
    {
     "name": "stdout",
     "output_type": "stream",
     "text": [
      "4\n",
      "54\n",
      "2.5\n"
     ]
    }
   ],
   "source": [
    "## **3. Продвинутые техники**\n",
    "\n",
    "### **3.1 Композиция функций**\n",
    "# ```python\n",
    "def compose(*funcs):\n",
    "    return reduce(\n",
    "        lambda f, g: lambda x: f(g(x)),\n",
    "        funcs,\n",
    "        lambda x: x\n",
    "    )\n",
    "\n",
    "# Создаём функцию: round(sqrt(abs(x)))\n",
    "transform = compose(round, lambda x: x**0.5, abs)\n",
    "print(transform(-16.3))  # 4\n",
    "# ```\n",
    "\n",
    "### **3.2 Цепочка обработки данных**\n",
    "# ```python\n",
    "pipeline = [\n",
    "    lambda data: [x * 2 for x in data],  # удвоить\n",
    "    lambda data: [x for x in data if x > 10],  # фильтр\n",
    "    sum  # сумма оставшихся\n",
    "]\n",
    "\n",
    "numbers = [3, 5, 7, 9, 11]\n",
    "result = reduce(lambda acc, func: func(acc), pipeline, numbers)\n",
    "print(result)  # 40 (только 11*2=22 и 9*2=18, сумма 22+18=40)\n",
    "# ```\n",
    "\n",
    "### **3.3 Реализация собственных агрегаторов**\n",
    "# ```python\n",
    "def variance(data):\n",
    "    n, mean, M2 = reduce(\n",
    "        lambda acc, x: (\n",
    "            acc[0] + 1,\n",
    "            acc[1] + x,\n",
    "            acc[2] + x**2\n",
    "        ),\n",
    "        data,\n",
    "        (0, 0, 0)\n",
    "    )\n",
    "    return (M2 - mean**2 / n) / (n - 1)\n",
    "\n",
    "print(variance([1, 2, 3, 4, 5]))  # 2.5\n",
    "# ```"
   ]
  },
  {
   "cell_type": "code",
   "execution_count": 20,
   "id": "c91f9a80-dea0-4b4b-a8de-b7dc1733adb0",
   "metadata": {},
   "outputs": [],
   "source": [
    "## **4. Ограничения и альтернативы**\n",
    "\n",
    "### **Когда НЕ использовать reduce()**\n",
    "# 1. Для простых операций, где есть встроенные функции:\n",
    "#    ```python\n",
    "#    # Вместо reduce(lambda a, b: a + b, numbers)\n",
    "#    sum(numbers)\n",
    "#    ```\n",
    "   \n",
    "# 2. Когда важна читаемость кода:\n",
    "#    ```python\n",
    "#    # Неочевидный код\n",
    "#    reduce(lambda a, b: a * b[0] + b[1], [(2,3), (4,5), (6,7)], 1)\n",
    "   \n",
    "#    # Более понятная императивная версия\n",
    "#    result = 1\n",
    "#    for x, y in [(2,3), (4,5), (6,7)]:\n",
    "#        result = result * x + y\n",
    "#    ```\n",
    "\n",
    "### **Альтернативы**\n",
    "# 1. **Циклы for** — когда важна явность\n",
    "# 2. **Встроенные агрегаторы** (`sum`, `max`, `min`, `math.prod`)\n",
    "# 3. **Генераторы списков** — для простых преобразований\n",
    "# 4. **NumPy** — для числовых операций над массивами"
   ]
  },
  {
   "cell_type": "code",
   "execution_count": 21,
   "id": "67cf2f23-fd62-439c-a52a-833ccf101037",
   "metadata": {},
   "outputs": [],
   "source": [
    "## **5. Лучшие практики**\n",
    "\n",
    "# 1. **Используйте именованные функции** для сложных операций:\n",
    "#    ```python\n",
    "#    def merge_dicts(d1, d2):\n",
    "#        return {**d1, **d2}\n",
    "   \n",
    "#    result = reduce(merge_dicts, list_of_dicts)\n",
    "#    ```\n",
    "\n",
    "# 2. **Всегда указывайте initializer** для пустых коллекций:\n",
    "#    ```python\n",
    "#    # Безопасная версия\n",
    "#    reduce(lambda a, b: a + b, [], 0)  # вернёт 0 вместо ошибки\n",
    "#    ```\n",
    "\n",
    "# 3. **Комбинируйте с map/filter** для сложных пайплайнов:\n",
    "#    ```python\n",
    "#    numbers = [1, 2, 3, 4, 5]\n",
    "#    result = reduce(\n",
    "#        lambda a, b: a + b,\n",
    "#        filter(lambda x: x % 2 == 0, numbers),\n",
    "#        0\n",
    "#    )\n",
    "#    ```"
   ]
  },
  {
   "cell_type": "code",
   "execution_count": 22,
   "id": "47190982-8629-4ff9-b716-fc81b65400bf",
   "metadata": {},
   "outputs": [],
   "source": [
    "## **Заключение**\n",
    "\n",
    "# Метод `reduce()` — это мощный инструмент для:\n",
    "# - Агрегации данных\n",
    "# - Композиции функций\n",
    "# - Создания сложных пайплайнов обработки\n",
    "\n",
    "# **Где применять:**\n",
    "# - Обработка больших наборов данных\n",
    "# - Написание функционального кода\n",
    "# - Создание пользовательских агрегаторов\n",
    "\n",
    "# **Где не применять:**\n",
    "# - Простые операции с встроенными альтернативами\n",
    "# - Когда важнее читаемость, чем краткость\n",
    "\n",
    "# Пример из практики — обработка данных в Apache Spark:\n",
    "# ```python\n",
    "# # Аналог reduce в PySpark\n",
    "# rdd = sc.parallelize([1, 2, 3, 4, 5])\n",
    "# result = rdd.reduce(lambda a, b: a + b)  # 15\n",
    "# ``` \n",
    "\n",
    "# Используйте `reduce()` осознанно, и ваш код станет более выразительным в функциональном стиле!"
   ]
  }
 ],
 "metadata": {
  "kernelspec": {
   "display_name": "Python 3 (ipykernel)",
   "language": "python",
   "name": "python3"
  },
  "language_info": {
   "codemirror_mode": {
    "name": "ipython",
    "version": 3
   },
   "file_extension": ".py",
   "mimetype": "text/x-python",
   "name": "python",
   "nbconvert_exporter": "python",
   "pygments_lexer": "ipython3",
   "version": "3.12.3"
  }
 },
 "nbformat": 4,
 "nbformat_minor": 5
}
