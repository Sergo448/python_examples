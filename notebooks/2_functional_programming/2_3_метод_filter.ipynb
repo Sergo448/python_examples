{
 "cells": [
  {
   "cell_type": "code",
   "execution_count": null,
   "id": "6453200c-0c88-4097-bc17-2a0f6e13fbc5",
   "metadata": {},
   "outputs": [],
   "source": [
    "# **Метод `filter()` в Python: теория и практика функционального программирования**"
   ]
  },
  {
   "cell_type": "code",
   "execution_count": null,
   "id": "2c6a1d18-35f0-466d-bceb-0ecc3abce1c6",
   "metadata": {},
   "outputs": [],
   "source": [
    "## **1. Введение в `filter()`: концепция фильтрации данных**\n",
    "# Метод `filter()` — одна из ключевых функций встроенного модуля Python,\n",
    "# относящаяся к **функциональному программированию**. \n",
    "# Он применяется для отбора элементов из итерируемого объекта (списка, кортежа, множества и т. д.)\n",
    "# на основе заданного условия.  \n",
    "\n",
    "### **Формальный синтаксис**:\n",
    "# ```python\n",
    "# filter(function, iterable) → filter object (итератор)\n",
    "# ```\n",
    "# - **`function`** — функция-предикат (возвращает `True`/`False`).  \n",
    "# - **`iterable`** — последовательность, которую нужно отфильтровать.  \n",
    "\n",
    "# ---"
   ]
  },
  {
   "cell_type": "code",
   "execution_count": 1,
   "id": "03296a93-b7ea-46cb-b995-fd02fbda21f4",
   "metadata": {},
   "outputs": [],
   "source": [
    "## **2. Теоретические основы: как работает `filter()`?**\n",
    "### **2.1 Математическая модель**\n",
    "# `filter()` реализует операцию **предикатной фильтрации** из теории множеств:  \n",
    "\n",
    "# \\[\n",
    "# \\text{filter}(f, X) = \\{ x \\in X \\mid f(x) = \\text{True} \\}\n",
    "# \\]\n",
    "\n",
    "# Где:  \n",
    "# - \\( X \\) — исходное множество (итерируемый объект),  \n",
    "# - \\( f \\) — функция-предикат.  \n",
    "\n",
    "### **2.2 Ленивые вычисления**\n",
    "# `filter()` возвращает **не список, а итератор**, что соответствует принципам:  \n",
    "# - **Ленивости (lazy evaluation)** — элементы вычисляются по мере необходимости.  \n",
    "# - **Экономии памяти** — не хранит весь результат в памяти сразу.  \n",
    "\n",
    "# **Пример**:  \n",
    "# ```python\n",
    "# numbers = [1, 2, 3, 4, 5]\n",
    "# filtered = filter(lambda x: x % 2 == 0, numbers)  # <filter object>\n",
    "# list(filtered)  # [2, 4] → преобразование в список\n",
    "# ```\n",
    "\n",
    "# ---"
   ]
  },
  {
   "cell_type": "code",
   "execution_count": 2,
   "id": "d056f09f-a133-46a7-916e-07088821a67a",
   "metadata": {},
   "outputs": [],
   "source": [
    "## **3. Сравнение с другими методами фильтрации**\n",
    "### **3.1 `filter()` vs List Comprehension**\n",
    "# | **Критерий**           | **`filter()`**                        | **List Comprehension**             |\n",
    "# |------------------------|---------------------------------------|------------------------------------|\n",
    "# | **Стиль**              | Функциональный                        | Императивный / декларативный       |\n",
    "# | **Ленивость**          | Да (итератор)                         | Нет (сразу создаётся список)       |\n",
    "# | **Читаемость**         | Лучше для сложных условий             | Лучше для простых условий          |\n",
    "# | **Производительность** | Сопоставима (но зависит от контекста) | Оптимизирована в CPython           |\n",
    "\n",
    "# **Пример**:  \n",
    "# ```python\n",
    "# Через filter()\n",
    "even_numbers = filter(lambda x: x % 2 == 0, range(10))\n",
    "\n",
    "# Через list comprehension\n",
    "even_numbers = [x for x in range(10) if x % 2 == 0]\n",
    "# ```\n",
    "\n",
    "### **3.2 `filter()` vs `numpy.where()` и `pandas.Series.filter`**\n",
    "# - **`numpy.where()`** — векторные операции для массивов (быстрее на больших данных).  \n",
    "# - **`pandas.Series.filter`** — специализирован для работы с DataFrame/Series.  \n",
    "\n",
    "# ---"
   ]
  },
  {
   "cell_type": "code",
   "execution_count": 4,
   "id": "00e94959-153b-4fd7-9c4d-4966ad533d9b",
   "metadata": {},
   "outputs": [
    {
     "data": {
      "text/plain": [
       "[1, True, 'hello']"
      ]
     },
     "execution_count": 4,
     "metadata": {},
     "output_type": "execute_result"
    }
   ],
   "source": [
    "## **4. Глубокий разбор: функции-предикаты**\n",
    "### **4.1 Использование `lambda`**\n",
    "# Лямбда-функции удобны для простых условий:  \n",
    "# ```python\n",
    "filter(lambda x: x > 0, [-2, -1, 0, 1, 2])  # [1, 2]\n",
    "# ```\n",
    "\n",
    "### **4.2 Именованные функции**\n",
    "# Для сложной логики лучше использовать именованные функции:  \n",
    "# ```python\n",
    "def is_prime(n):\n",
    "    if n < 2:\n",
    "        return False\n",
    "    for i in range(2, int(n ** 0.5) + 1):\n",
    "        if n % i == 0:\n",
    "            return False\n",
    "    return True\n",
    "\n",
    "primes = filter(is_prime, range(100))\n",
    "# ```\n",
    "\n",
    "### **4.3 Фильтрация с `None`**\n",
    "# Если передать `None` вместо функции, `filter()` отберёт **\"истинные\" (truthy)** элементы:  \n",
    "# ```python\n",
    "list(filter(None, [0, 1, False, True, \"\", \"hello\"]))  # [1, True, \"hello\"]\n",
    "# ```\n",
    "\n",
    "# ---"
   ]
  },
  {
   "cell_type": "code",
   "execution_count": 5,
   "id": "1854dbcf-ef09-4142-b7fe-e9903d274138",
   "metadata": {},
   "outputs": [],
   "source": [
    "## **5. Оптимизация и подводные камни**\n",
    "### **5.1 Когда `filter()` неэффективен?**\n",
    "# - **Для маленьких коллекций** — list comprehension может быть читаемее.  \n",
    "# - **Если нужен сразу список** — `list(filter(...))` создаёт лишний объект.  \n",
    "\n",
    "### **5.2 Комбинирование с `map()`**\n",
    "# Функциональные цепочки:  \n",
    "# ```python\n",
    "numbers = [1, 2, 3, 4, 5]\n",
    "result = list(map(lambda x: x ** 2, filter(lambda x: x % 2 == 0, numbers)))  # [4, 16]\n",
    "# ```\n",
    "\n",
    "### **5.3 Фильтрация словарей**\n",
    "# ```python\n",
    "data = {\"a\": 1, \"b\": 2, \"c\": 3}\n",
    "filtered = {k: v for k, v in data.items() if v > 1}  # {\"b\": 2, \"c\": 3}\n",
    "# ```\n",
    "\n",
    "# ---"
   ]
  },
  {
   "cell_type": "code",
   "execution_count": 6,
   "id": "a2b7d6f0-3146-48b0-9585-79d9d6ad94f4",
   "metadata": {},
   "outputs": [],
   "source": [
    "## **6. Заключение: когда использовать `filter()`?**\n",
    "# - **Функциональный стиль** — если важно соблюдать принципы ФП.  \n",
    "# - **Ленивые вычисления** — для обработки больших или бесконечных последовательностей.  \n",
    "# - **Читаемость** — когда условие фильтрации сложное и вынесено в отдельную функцию.  \n",
    "\n",
    "# **Альтернативы**:  \n",
    "# - **List/Dict Comprehension** — для простых условий.  \n",
    "# - **`numpy`/`pandas`** — для работы с числовыми массивами.  \n",
    "\n",
    "# `filter()` — мощный инструмент, который стоит использовать осознанно,\n",
    "# учитывая контекст задачи!"
   ]
  },
  {
   "cell_type": "markdown",
   "id": "aacf3e81-7db6-4475-bd8d-58c5dedef623",
   "metadata": {},
   "source": [
    "# **Методы применения функции `filter()` в Python: от основ до продвинутых техник**"
   ]
  },
  {
   "cell_type": "code",
   "execution_count": 12,
   "id": "76aae256-ef0e-436d-9752-c97ab3736cd2",
   "metadata": {},
   "outputs": [],
   "source": [
    "# Функция `filter()` — один из ключевых инструментов функционального программирования в Python.\n",
    "# Она позволяет эффективно отбирать элементы из последовательностей, применяя заданные условия.\n",
    "# В этой статье мы разберём различные методы использования `filter()` с примерами от базовых до сложных сценариев.\n",
    "\n",
    "# ---"
   ]
  },
  {
   "cell_type": "code",
   "execution_count": 15,
   "id": "d66d29ff-d395-4c65-bc68-8abe8ac23265",
   "metadata": {},
   "outputs": [
    {
     "name": "stdout",
     "output_type": "stream",
     "text": [
      "[2, 4, 6]\n"
     ]
    }
   ],
   "source": [
    "## **1. Основы работы с `filter()`**\n",
    "### **1.1 Синтаксис и принцип работы**\n",
    "# Функция `filter()` имеет следующий синтаксис:\n",
    "# ```python\n",
    "# filter(function, iterable) → iterator\n",
    "# ```\n",
    "# - **`function`** — функция-фильтр (возвращает `True`/`False` для каждого элемента)\n",
    "# - **`iterable`** — итерируемый объект (список, кортеж, строка и т. д.)\n",
    "\n",
    "# **Пример: Фильтрация чётных чисел**\n",
    "# ```python\n",
    "numbers = [1, 2, 3, 4, 5, 6]\n",
    "even_numbers = filter(lambda x: x % 2 == 0, numbers)\n",
    "print(list(even_numbers))  # [2, 4, 6]\n",
    "# ```\n",
    "\n",
    "### **1.2 Особенности возвращаемого значения**\n",
    "# `filter()` возвращает **итератор**, а не список. Чтобы получить список, нужно явно преобразовать результат:\n",
    "# ```python\n",
    "# result = list(filter(...))\n",
    "# ```\n",
    "\n",
    "# ---"
   ]
  },
  {
   "cell_type": "code",
   "execution_count": 16,
   "id": "3d0c5778-c152-4aa9-867d-16fb069e1cd0",
   "metadata": {},
   "outputs": [
    {
     "name": "stdout",
     "output_type": "stream",
     "text": [
      "[1, 5]\n",
      "['level', 'madam']\n",
      "[1, True, 'hello']\n"
     ]
    }
   ],
   "source": [
    "## **2. Основные методы применения `filter()`**\n",
    "### **2.1 С лямбда-функциями**\n",
    "# Лямбда-функции удобны для простых условий:\n",
    "# ```python\n",
    "# Фильтрация положительных чисел\n",
    "numbers = [-3, -2, 0, 1, 5]\n",
    "positive = filter(lambda x: x > 0, numbers)\n",
    "print(list(positive))  # [1, 5]\n",
    "# ```\n",
    "\n",
    "### **2.2 С именованными функциями**\n",
    "# Для сложной логики лучше использовать обычные функции:\n",
    "# ```python\n",
    "def is_palindrome(s):\n",
    "    return s == s[::-1]\n",
    "\n",
    "words = [\"level\", \"python\", \"madam\", \"hello\"]\n",
    "palindromes = filter(is_palindrome, words)\n",
    "print(list(palindromes))  # ['level', 'madam']\n",
    "# ```\n",
    "\n",
    "### **2.3 Фильтрация \"истинных\" значений**\n",
    "# Если передать `None` вместо функции, `filter()` отберёт элементы, которые в булевом контексте дают `True`:\n",
    "# ```python\n",
    "mixed = [0, 1, False, True, \"\", \"hello\", None]\n",
    "truthy = filter(None, mixed)\n",
    "print(list(truthy))  # [1, True, \"hello\"]\n",
    "# ```\n",
    "\n",
    "# ---"
   ]
  },
  {
   "cell_type": "code",
   "execution_count": 11,
   "id": "b20b3021-70c1-44b2-89c2-b6242f1e2a47",
   "metadata": {},
   "outputs": [
    {
     "name": "stdout",
     "output_type": "stream",
     "text": [
      "[{'name': 'Alice', 'age': 25}, {'name': 'Charlie', 'age': 30}]\n",
      "[4, 16]\n",
      "[(2, 30), (3, 40)]\n"
     ]
    }
   ],
   "source": [
    "## **3. Продвинутые методы применения**\n",
    "### **3.1 Фильтрация словарей**\n",
    "# ```python\n",
    "users = [\n",
    "    {\"name\": \"Alice\", \"age\": 25},\n",
    "    {\"name\": \"Bob\", \"age\": 17},\n",
    "    {\"name\": \"Charlie\", \"age\": 30}\n",
    "]\n",
    "\n",
    "adults = filter(lambda user: user[\"age\"] >= 18, users)\n",
    "print(list(adults))  # [{'name': 'Alice', 'age': 25}, {'name': 'Charlie', 'age': 30}]\n",
    "# ```\n",
    "\n",
    "### **3.2 Цепочки `filter()` + `map()`**\n",
    "# Комбинирование функций для сложной обработки:\n",
    "# ```python\n",
    "numbers = [1, 2, 3, 4, 5]\n",
    "# Отфильтровать чётные → возвести в квадрат\n",
    "result = map(lambda x: x**2, filter(lambda x: x % 2 == 0, numbers))\n",
    "print(list(result))  # [4, 16]\n",
    "# ```\n",
    "\n",
    "### **3.3 Фильтрация с сохранением индексов**\n",
    "# Если нужны индексы отфильтрованных элементов:\n",
    "# ```python\n",
    "data = [10, 20, 30, 40]\n",
    "filtered_with_index = filter(lambda x: x[1] > 20, enumerate(data))\n",
    "indices_and_values = list(filtered_with_index)\n",
    "print(indices_and_values)  # [(2, 30), (3, 40)]\n",
    "# ```\n",
    "\n",
    "# ---"
   ]
  },
  {
   "cell_type": "code",
   "execution_count": 7,
   "id": "621263de-ef2b-4c9e-973b-06153e145920",
   "metadata": {},
   "outputs": [],
   "source": [
    "## **4. Альтернативы `filter()`**\n",
    "### **4.1 List comprehensions**\n",
    "# Для простых случаев может быть читаемее:\n",
    "# ```python\n",
    "numbers = [1, 2, 3, 4, 5]\n",
    "even_numbers = [x for x in numbers if x % 2 == 0]\n",
    "# ```\n",
    "\n",
    "### **4.2 Генераторные выражения**\n",
    "# Ленивый аналог list comprehension:\n",
    "# ```python\n",
    "even_numbers = (x for x in numbers if x % 2 == 0)\n",
    "# ```\n",
    "\n",
    "### **4.3 `itertools.filterfalse()`**\n",
    "# Обратная фильтрация (отбирает элементы, не удовлетворяющие условию):\n",
    "# ```python\n",
    "from itertools import filterfalse\n",
    "odd_numbers = filterfalse(lambda x: x % 2 == 0, numbers)\n",
    "# ```\n",
    "\n",
    "# ---"
   ]
  },
  {
   "cell_type": "code",
   "execution_count": 8,
   "id": "6e8d4bf1-19e2-4db7-9bf0-3f9d8247c5b5",
   "metadata": {},
   "outputs": [
    {
     "name": "stdout",
     "output_type": "stream",
     "text": [
      "0.5123467000084929\n",
      "1.0446424999972805\n"
     ]
    }
   ],
   "source": [
    "## **5. Производительность и подводные камни**\n",
    "### **5.1 Когда `filter()` эффективен?**\n",
    "# - Для **ленивой обработки** больших данных\n",
    "# - В **функциональных цепочках** с `map()`/`reduce()`\n",
    "# - Когда **условие фильтрации сложное** и вынесено в отдельную функцию\n",
    "\n",
    "### **5.2 Когда лучше не использовать?**\n",
    "# - Для **простых условий** (лучше list comprehension)\n",
    "# - Если **нужен сразу список** (дополнительное `list()` снижает эффективность)\n",
    "# - Для **маленьких коллекций** (выигрыш в производительности незначителен)\n",
    "\n",
    "### **5.3 Замер производительности**\n",
    "# ```python\n",
    "import timeit\n",
    "\n",
    "setup = \"nums = list(range(1000))\"\n",
    "stmt1 = \"[x for x in nums if x % 2 == 0]\"\n",
    "stmt2 = \"list(filter(lambda x: x % 2 == 0, nums))\"\n",
    "\n",
    "print(timeit.timeit(stmt1, setup, number=10000))  # ~0.5s\n",
    "print(timeit.timeit(stmt2, setup, number=10000))  # ~0.7s\n",
    "# ```\n",
    "# *(List comprehension может быть быстрее для простых условий)*\n",
    "\n",
    "# ---"
   ]
  },
  {
   "cell_type": "code",
   "execution_count": 9,
   "id": "c9dabc3c-447f-4673-ac47-2dda854a6dca",
   "metadata": {},
   "outputs": [
    {
     "name": "stdout",
     "output_type": "stream",
     "text": [
      "[45, 3.14]\n",
      "[1, 'hello', 42]\n"
     ]
    }
   ],
   "source": [
    "## **6. Практические примеры**\n",
    "### **6.1 Очистка данных**\n",
    "# ```python\n",
    "mixed_data = [\"123\", 45, \"text\", 0, \"\", 3.14]\n",
    "cleaned = filter(lambda x: isinstance(x, (int, float)) and x != 0, mixed_data)\n",
    "print(list(cleaned))  # [45, 3.14]\n",
    "# ```\n",
    "\n",
    "### **6.2 Фильтрация файлов**\n",
    "# ```python\n",
    "import os\n",
    "py_files = filter(lambda f: f.endswith('.py'), os.listdir())\n",
    "# ```\n",
    "\n",
    "### **6.3 Обработка None-значений**\n",
    "# ```python\n",
    "data = [1, None, \"hello\", None, 42]\n",
    "valid = filter(lambda x: x is not None, data)\n",
    "print(list(valid))  # [1, 'hello', 42]\n",
    "# ```\n",
    "\n",
    "# ---"
   ]
  },
  {
   "cell_type": "code",
   "execution_count": 10,
   "id": "20cd6304-2ea6-41e0-8cbe-74f299c7cb5c",
   "metadata": {},
   "outputs": [],
   "source": [
    "## **Заключение**\n",
    "# Функция `filter()` — мощный инструмент для:\n",
    "# - Чистого функционального стиля\n",
    "# - Ленивой обработки больших данных\n",
    "# - Сложных условий фильтрации\n",
    "\n",
    "# **Рекомендации:**\n",
    "# - Используйте `lambda` для простых условий\n",
    "# - Выносите сложную логику в именованные функции\n",
    "# - Для простых случаев рассматривайте list comprehension\n",
    "# - Помните о ленивой природе `filter()` — преобразуйте в список при необходимости\n",
    "\n",
    "# Освоив `filter()`, вы сможете писать более выразительный и эффективный Python-код в функциональном стиле!"
   ]
  },
  {
   "cell_type": "code",
   "execution_count": null,
   "id": "8cf9e4c5-a5f2-43f5-b0b9-8353a2956747",
   "metadata": {},
   "outputs": [],
   "source": []
  }
 ],
 "metadata": {
  "kernelspec": {
   "display_name": "Python 3 (ipykernel)",
   "language": "python",
   "name": "python3"
  },
  "language_info": {
   "codemirror_mode": {
    "name": "ipython",
    "version": 3
   },
   "file_extension": ".py",
   "mimetype": "text/x-python",
   "name": "python",
   "nbconvert_exporter": "python",
   "pygments_lexer": "ipython3",
   "version": "3.12.3"
  }
 },
 "nbformat": 4,
 "nbformat_minor": 5
}
